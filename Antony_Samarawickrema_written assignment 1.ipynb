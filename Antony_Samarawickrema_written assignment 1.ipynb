{
  "nbformat": 4,
  "nbformat_minor": 0,
  "metadata": {
    "colab": {
      "name": "Antony_Samarawickrema_part1.ipynb",
      "provenance": []
    },
    "kernelspec": {
      "name": "python3",
      "display_name": "Python 3"
    }
  },
  "cells": [
    {
      "cell_type": "code",
      "metadata": {
        "id": "lbGsTM6CqspY",
        "colab_type": "code",
        "outputId": "d78a04f3-46e3-4cbd-e8c5-2e2b1be290ef",
        "colab": {
          "base_uri": "https://localhost:8080/",
          "height": 123
        }
      },
      "source": [
        "from google.colab import drive\n",
        "drive.mount('/content/drive')"
      ],
      "execution_count": 1,
      "outputs": [
        {
          "output_type": "stream",
          "text": [
            "Go to this URL in a browser: https://accounts.google.com/o/oauth2/auth?client_id=947318989803-6bn6qk8qdgf4n4g3pfee6491hc0brc4i.apps.googleusercontent.com&redirect_uri=urn%3aietf%3awg%3aoauth%3a2.0%3aoob&response_type=code&scope=email%20https%3a%2f%2fwww.googleapis.com%2fauth%2fdocs.test%20https%3a%2f%2fwww.googleapis.com%2fauth%2fdrive%20https%3a%2f%2fwww.googleapis.com%2fauth%2fdrive.photos.readonly%20https%3a%2f%2fwww.googleapis.com%2fauth%2fpeopleapi.readonly\n",
            "\n",
            "Enter your authorization code:\n",
            "··········\n",
            "Mounted at /content/drive\n"
          ],
          "name": "stdout"
        }
      ]
    },
    {
      "cell_type": "code",
      "metadata": {
        "id": "OQ3vqNG_qvWG",
        "colab_type": "code",
        "outputId": "da5954ea-6e9b-404c-8d9c-70b75a82bf98",
        "colab": {
          "base_uri": "https://localhost:8080/",
          "height": 34
        }
      },
      "source": [
        "#!/usr/bin/env python\n",
        "cd /content/drive/My Drive/OAT"
      ],
      "execution_count": 2,
      "outputs": [
        {
          "output_type": "stream",
          "text": [
            "/content/drive/My Drive/OAT\n"
          ],
          "name": "stdout"
        }
      ]
    },
    {
      "cell_type": "code",
      "metadata": {
        "id": "cBa0gEbZrMI8",
        "colab_type": "code",
        "colab": {}
      },
      "source": [
        "%reload_ext rpy2.ipython"
      ],
      "execution_count": 0,
      "outputs": []
    },
    {
      "cell_type": "code",
      "metadata": {
        "id": "DEOyFguerOzz",
        "colab_type": "code",
        "colab": {}
      },
      "source": [
        "%%R\n",
        "if(!require(\"dplyr\")) install.packages(\"dplyr\")\n",
        "library('dplyr')\n",
        "if(!require(\"ggplot2\")) install.packages(\"ggplot2\")\n",
        "library(\"ggplot2\")\n",
        "if(!require(\"lubridate\")) install.packages(\"lubridate\")\n",
        "library(\"lubridate\")\n",
        "install.packages(\"tidyverse\")\n",
        "library(\"tidyverse\")"
      ],
      "execution_count": 0,
      "outputs": []
    },
    {
      "cell_type": "code",
      "metadata": {
        "id": "hplOBQpVsPwY",
        "colab_type": "code",
        "outputId": "9caa889a-97ae-4516-af58-50aac81075b8",
        "colab": {
          "base_uri": "https://localhost:8080/",
          "height": 103
        }
      },
      "source": [
        "%%R\n",
        "df<-read.csv(\"OAT.csv\", header=FALSE)\n",
        "names(df)<-c('id','drug','mnth')\n",
        "df$mnth <- parse_date_time(df$mnth, \"ym\")\n",
        "glimpse(df)"
      ],
      "execution_count": 67,
      "outputs": [
        {
          "output_type": "display_data",
          "data": {
            "text/plain": [
              "Observations: 1,549,598\n",
              "Variables: 3\n",
              "$ id   <int> 1, 1, 1, 1, 1, 1, 1, 1, 1, 1, 1, 1, 1, 1, 1, 1, 1, 1, 1, 1, 1, 1…\n",
              "$ drug <fct> B, B, B, B, B, B, B, B, B, B, B, A, A, A, A, A, A, A, A, A, A, A…\n",
              "$ mnth <dttm> 2007-12-01, 2008-08-01, 2008-09-01, 2008-10-01, 2008-11-01, 200…\n"
            ]
          },
          "metadata": {
            "tags": []
          }
        }
      ]
    },
    {
      "cell_type": "code",
      "metadata": {
        "id": "QLkbYALtF9QM",
        "colab_type": "code",
        "colab": {}
      },
      "source": [
        "%%R\n",
        "#chk no duplcts\n",
        "#df[duplicated(df), ] # or df %>% distinct()\n",
        "#chk no missing values\n",
        "#sapply(df, function(x) sum(is.na(x)))"
      ],
      "execution_count": 0,
      "outputs": []
    },
    {
      "cell_type": "code",
      "metadata": {
        "id": "yZFqPsUbX3Sc",
        "colab_type": "code",
        "colab": {
          "base_uri": "https://localhost:8080/",
          "height": 34
        },
        "outputId": "b926673a-564b-4271-a321-c05d913f4572"
      },
      "source": [
        "%%R\n",
        "#distinct patient ids\n",
        "n<-df %>% distinct(df$id, .keep_all = TRUE)\n",
        "nrow(n)"
      ],
      "execution_count": 8,
      "outputs": [
        {
          "output_type": "display_data",
          "data": {
            "text/plain": [
              "[1] 44200\n"
            ]
          },
          "metadata": {
            "tags": []
          }
        }
      ]
    },
    {
      "cell_type": "code",
      "metadata": {
        "id": "_BgZQzDRPvgQ",
        "colab_type": "code",
        "colab": {
          "base_uri": "https://localhost:8080/",
          "height": 188
        },
        "outputId": "6d4896ec-63ad-46c0-9cc3-210f9f324a68"
      },
      "source": [
        "%%R\n",
        "#Patients by drug type and year \n",
        "grp<- df %>% mutate(month = format(mnth, \"%m\"), year = format(mnth, \"%Y\")) %>%\n",
        "                          select(-mnth, -month) %>%\n",
        "                                  group_by(drug, year) %>% \n",
        "                                  summarise(n = n_distinct(id))\n",
        "grp$year <- parse_date_time(grp$year, \"y\")"
      ],
      "execution_count": 85,
      "outputs": [
        {
          "output_type": "display_data",
          "data": {
            "text/plain": [
              "# A tibble: 6 x 3\n",
              "# Groups:   drug [2]\n",
              "  drug  year                    n\n",
              "  <fct> <dttm>              <int>\n",
              "1 B     2015-01-01 00:00:00  3110\n",
              "2 B     2016-01-01 00:00:00  5069\n",
              "3 B     2017-01-01 00:00:00  7784\n",
              "4 B     2018-01-01 00:00:00  9181\n",
              "5 C     2017-01-01 00:00:00   137\n",
              "6 C     2018-01-01 00:00:00   395\n"
            ]
          },
          "metadata": {
            "tags": []
          }
        }
      ]
    },
    {
      "cell_type": "code",
      "metadata": {
        "id": "N7EoeBNnQykM",
        "colab_type": "code",
        "colab": {
          "base_uri": "https://localhost:8080/",
          "height": 497
        },
        "outputId": "75fbda22-e2a3-4ef9-b1c8-22d08f32c677"
      },
      "source": [
        "%%R\n",
        "ggplot()+geom_line(aes(y=grp$'n', x=grp$'year', color=grp$'drug'),size=.5, data=grp)+\n",
        "  labs(title = \"Fig 1. Patients by drug type and year \",\n",
        "       subtitle =\"(where A=methadone, B=nalaxone, C=slow release morphine)\", y = \"No. of patients\", x = \"\")+\n",
        "     labs(color='Drug type')"
      ],
      "execution_count": 44,
      "outputs": [
        {
          "output_type": "display_data",
          "data": {
            "image/png": "[encoded data removed]"
          },
          "metadata": {
            "tags": []
          }
        }
      ]
    },
    {
      "cell_type": "code",
      "metadata": {
        "id": "NBVKZ_bRb-Nn",
        "colab_type": "code",
        "colab": {
          "base_uri": "https://localhost:8080/",
          "height": 497
        },
        "outputId": "e142e94d-95ee-4b26-9345-83b31bdacf37"
      },
      "source": [
        "%%R\n",
        "#visual inspection for drug B\n",
        "grp2<- subset(df, drug=='B') \n",
        "grp2<-grp2%>% select(-drug) %>% group_by(mnth) %>% \n",
        "  summarise(n = n_distinct(id))\n",
        "ggplot()+geom_line(aes(y=grp2$'n', x=grp2$'mnth'),size=.5, data=grp2)+ \n",
        "  labs(title = \"Fig 2. Patients taking naloxone by month \", y = \"No. of patients\", x = \"\")"
      ],
      "execution_count": 106,
      "outputs": [
        {
          "output_type": "display_data",
          "data": {
            "image/png": "[encoded data removed]"
          },
          "metadata": {
            "tags": []
          }
        }
      ]
    },
    {
      "cell_type": "code",
      "metadata": {
        "id": "0CmAnprDsm0Q",
        "colab_type": "code",
        "outputId": "fe8310dc-5a3b-4c3d-8679-779ebdd4abde",
        "colab": {
          "base_uri": "https://localhost:8080/",
          "height": 85
        }
      },
      "source": [
        "%%R\n",
        "#difference = y-y(lag)\n",
        "grp4 <-grp3[c('mnth','n')]\n",
        "grp4$lag <- sapply(1:nrow(grp4), function(x) grp4$n[x-1])\n",
        "grp4$lag <- c(NA, grp4$n[seq_along(grp4$n) -1])\n",
        "grp4$d<-(grp4$n-grp4$lag) \n",
        "grp4a<-grp4[c('mnth', 'd')] \n",
        "glimpse(grp4a)\n"
      ],
      "execution_count": 99,
      "outputs": [
        {
          "output_type": "display_data",
          "data": {
            "text/plain": [
              "Observations: 133\n",
              "Variables: 2\n",
              "$ mnth <dttm> 2007-12-01, 2008-01-01, 2008-02-01, 2008-03-01, 2008-04-01, 200…\n",
              "$ d    <int> NA, 14, 11, 11, 2, 13, 8, 9, 16, 9, 6, 20, 2, 9, 13, 5, 7, 32, 1…\n"
            ]
          },
          "metadata": {
            "tags": []
          }
        }
      ]
    },
    {
      "cell_type": "code",
      "metadata": {
        "id": "RuKrB_5TsEfi",
        "colab_type": "code",
        "colab": {
          "base_uri": "https://localhost:8080/",
          "height": 273
        },
        "outputId": "f11c965e-29f5-49b4-b5e0-e9066f7d4177"
      },
      "source": [
        "%%R\n",
        "#t-test\n",
        "grp5<-subset(grp4a, mnth <'2015-10-01')  %>% remove_rownames %>% column_to_rownames(var=\"mnth\")\n",
        "grp6<-subset(grp4a,mnth >='2015-10-01' & mnth< '2016-07-01')%>% remove_rownames %>% column_to_rownames(var=\"mnth\")\n",
        "grp7<-subset(grp4a, mnth >'2016-07-01')%>% remove_rownames %>% column_to_rownames(var=\"mnth\")\n",
        "glimpse(grp6)\n",
        "t.test(grp5,grp6)  "
      ],
      "execution_count": 104,
      "outputs": [
        {
          "output_type": "display_data",
          "data": {
            "text/plain": [
              "Observations: 9\n",
              "Variables: 1\n",
              "$ d <int> 81, 26, 30, 77, 69, 71, 104, 114, 75\n",
              "\n",
              "\tWelch Two Sample t-test\n",
              "\n",
              "data:  grp5 and grp6\n",
              "t = -5.5707, df = 8.2738, p-value = 0.0004687\n",
              "alternative hypothesis: true difference in means is not equal to 0\n",
              "95 percent confidence interval:\n",
              " -77.02485 -32.10777\n",
              "sample estimates:\n",
              "mean of x mean of y \n",
              " 17.32258  71.88889 \n",
              "\n"
            ]
          },
          "metadata": {
            "tags": []
          }
        }
      ]
    },
    {
      "cell_type": "code",
      "metadata": {
        "id": "SYoncu0qck6Z",
        "colab_type": "code",
        "colab": {
          "base_uri": "https://localhost:8080/",
          "height": 222
        },
        "outputId": "61c8fa48-395c-4a91-d287-6fcd29664a7a"
      },
      "source": [
        "%%R\n",
        "t.test(grp6,grp7)"
      ],
      "execution_count": 105,
      "outputs": [
        {
          "output_type": "display_data",
          "data": {
            "text/plain": [
              "\n",
              "\tWelch Two Sample t-test\n",
              "\n",
              "data:  grp6 and grp7\n",
              "t = -1.8715, df = 20.104, p-value = 0.0759\n",
              "alternative hypothesis: true difference in means is not equal to 0\n",
              "95 percent confidence interval:\n",
              " -49.955362   2.698657\n",
              "sample estimates:\n",
              "mean of x mean of y \n",
              " 71.88889  95.51724 \n",
              "\n"
            ]
          },
          "metadata": {
            "tags": []
          }
        }
      ]
    },
    {
      "cell_type": "code",
      "metadata": {
        "id": "itEyVmbmc8qS",
        "colab_type": "code",
        "colab": {
          "base_uri": "https://localhost:8080/",
          "height": 222
        },
        "outputId": "d0555956-4b98-438e-eef7-fc8e33ee7a38"
      },
      "source": [
        "%%R\n",
        "t.test(grp6,grp7)"
      ],
      "execution_count": 67,
      "outputs": [
        {
          "output_type": "display_data",
          "data": {
            "text/plain": [
              "\n",
              "\tWelch Two Sample t-test\n",
              "\n",
              "data:  grp6 and grp7\n",
              "t = -1.8715, df = 20.104, p-value = 0.0759\n",
              "alternative hypothesis: true difference in means is not equal to 0\n",
              "95 percent confidence interval:\n",
              " -49.955362   2.698657\n",
              "sample estimates:\n",
              "mean of x mean of y \n",
              " 71.88889  95.51724 \n",
              "\n"
            ]
          },
          "metadata": {
            "tags": []
          }
        }
      ]
    },
    {
      "cell_type": "code",
      "metadata": {
        "id": "JdD07L4MdMbq",
        "colab_type": "code",
        "colab": {}
      },
      "source": [
        ""
      ],
      "execution_count": 0,
      "outputs": []
    },
    {
      "cell_type": "code",
      "metadata": {
        "id": "N6LIuDFb1iRJ",
        "colab_type": "code",
        "outputId": "b8208d69-2712-459f-bbdb-a7d5e9f75499",
        "colab": {
          "base_uri": "https://localhost:8080/",
          "height": 497
        }
      },
      "source": [
        "%%R\n",
        "acf_df <- lapply(X = s, FUN = acf2)"
      ],
      "execution_count": 0,
      "outputs": [
        {
          "output_type": "display_data",
          "data": {
            "image/png": "[encoded data removed]"
          },
          "metadata": {
            "tags": []
          }
        }
      ]
    },
    {
      "cell_type": "code",
      "metadata": {
        "id": "adh-vS8T2ZnM",
        "colab_type": "code",
        "outputId": "43696600-0e20-4a48-87a2-9796f8a8e164",
        "colab": {
          "base_uri": "https://localhost:8080/",
          "height": 745
        }
      },
      "source": [
        "%%R\n",
        "sarima.for(s, n.ahead = 3, 1, 1, 1) "
      ],
      "execution_count": 0,
      "outputs": [
        {
          "output_type": "display_data",
          "data": {
            "text/plain": [
              "$pred\n",
              "Time Series:\n",
              "Start = 9 \n",
              "End = 11 \n",
              "Frequency = 1 \n",
              "[1] 0.1908214 0.1920561 0.1930720\n",
              "\n",
              "$se\n",
              "Time Series:\n",
              "Start = 9 \n",
              "End = 11 \n",
              "Frequency = 1 \n",
              "[1] 0.0003052216 0.0008252109 0.0013434930\n",
              "\n"
            ]
          },
          "metadata": {
            "tags": []
          }
        },
        {
          "output_type": "display_data",
          "data": {
            "image/png": "[encoded data removed]"
          },
          "metadata": {
            "tags": []
          }
        }
      ]
    }
  ]
}