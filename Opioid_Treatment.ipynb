{
  "nbformat": 4,
  "nbformat_minor": 0,
  "metadata": {
    "colab": {
      "name": "Opioid Treatment.ipynb",
      "provenance": []
    },
    "kernelspec": {
      "name": "python3",
      "display_name": "Python 3"
    },
    "language_info": {
      "name": "python"
    }
  },
  "cells": [
    {
      "cell_type": "markdown",
      "metadata": {
        "id": "toGdeIXoJHGt"
      },
      "source": [
        "# **Evaluating B.C.'s Opioid Antagonist Treatment (OAT) Policies (2015-2018)**\n",
        "\n",
        "\n",
        "# -- A statistical approach\n",
        "\n",
        "\n"
      ]
    },
    {
      "cell_type": "markdown",
      "metadata": {
        "id": "pyNnQXwg2UHf"
      },
      "source": [
        "# Context\n",
        "An Opiiod Antagonist Treatment (OAT) policy, is when patients with opioid use disorder access specific drugs to stabilize their opioid use and avoid illicit drugs. My task is to evaluate two policy changes:\n",
        "\n",
        " \n",
        "\n",
        "*   Policy for Drug B (Naloxone): Effective October 2015, patients no longer need special approval to have PharmaCare pay for drug B. They no longer need to try less effective drugs before \n",
        "*   Policy for Drug C (Slow-release Morphine): Effective June 2017, patients can access drug C as an alternative treatment, under certain circumstances. It is covered and they do not have to pay for it\n",
        "\n",
        "\n",
        "  \n",
        "\n",
        "# Response (Approach):\n",
        "\n",
        "\n",
        "1.   Visual analysis, of patient uptake of said drugs, 'before and after' the policies \n",
        "2.   Regression analysis, for the above with t-statistics\n",
        "3.   Compare against a Control (Drug A), where no policy had been applied \n",
        "\n",
        "\n",
        "\n",
        "\n",
        "\n",
        "\n",
        "\n"
      ]
    },
    {
      "cell_type": "markdown",
      "metadata": {
        "id": "udMckoPbKI54"
      },
      "source": [
        "# Loading and Transforming \n",
        "- Data file has three columns: date (by month) ; drug type (A.B,C); patient ID (unique)\n",
        "- Aggregate (or group by) total number of patients by drug type and by month (i.e., take the sum of distinct patient IDs each month)\n",
        "- Drop the seven missing values among the 268,000 data points"
      ]
    },
    {
      "cell_type": "code",
      "metadata": {
        "id": "D2LuMVKqQWep"
      },
      "source": [
        "%reload_ext rpy2.ipython"
      ],
      "execution_count": null,
      "outputs": []
    },
    {
      "cell_type": "code",
      "metadata": {
        "id": "1Bl8sLbvQ0zt"
      },
      "source": [
        "# Install and load packages\n",
        "%%capture\n",
        "%%R\n",
        "install.packages(c('dplyr', 'magrittr','skimr','tidyr','janitor','ggplot2','readr','datetime','reshape2'))\n",
        "x<-c('dplyr', 'magrittr','skimr','tidyr','janitor','ggplot2','readr','datetime','reshape2')\n",
        "lapply(x, require, character.only = TRUE)"
      ],
      "execution_count": null,
      "outputs": []
    },
    {
      "cell_type": "code",
      "metadata": {
        "id": "l8aNiY9NQ18c"
      },
      "source": [
        "# Read the csv data file, while making appropriate changes to data type, such as 'factors' and 'dates'\n",
        "%%R\n",
        "OAT <- read_csv(\"OAT.csv\",  col_names = FALSE, \n",
        "                col_types = cols(X2 = col_factor(levels = c(\"A\",\"B\", \"C\")), X3 = col_date(format = \"%Y-%m\")))"
      ],
      "execution_count": null,
      "outputs": []
    },
    {
      "cell_type": "code",
      "metadata": {
        "colab": {
          "base_uri": "https://localhost:8080/"
        },
        "id": "axjIvchYVZgP",
        "outputId": "f1008296-5057-4773-9171-5c93b70e0432"
      },
      "source": [
        "# Examine the three columns in the data: \n",
        "# X3 - date; X2 - drug type; X1 - patients ID \n",
        "%%R\n",
        "head(OAT)"
      ],
      "execution_count": null,
      "outputs": [
        {
          "output_type": "stream",
          "name": "stdout",
          "text": [
            "# A tibble: 6 × 3\n",
            "     X1 X2    X3        \n",
            "  <dbl> <fct> <date>    \n",
            "1     1 B     2007-12-01\n",
            "2     1 B     2008-08-01\n",
            "3     1 B     2008-09-01\n",
            "4     1 B     2008-10-01\n",
            "5     1 B     2008-11-01\n",
            "6     1 B     2008-12-01\n"
          ]
        }
      ]
    },
    {
      "cell_type": "markdown",
      "metadata": {
        "id": "oe232hCMYc5L"
      },
      "source": [
        ".\n",
        "*   The meta data shows the type of data: Date, Patient ID and Drug (both are factors)\n",
        "*   Total number of records is 268,010 , with 7 missing values (NAs)\n",
        "."
      ]
    },
    {
      "cell_type": "code",
      "metadata": {
        "colab": {
          "base_uri": "https://localhost:8080/"
        },
        "id": "yQe1dRe_VsAU",
        "outputId": "f012b06c-d97c-4cbd-fcb1-ad103045d598"
      },
      "source": [
        "# Rename the columns appropriately: 'patient ID'; 'Drug'; 'Date'\n",
        "# Change the patient ID column to type 'factor'; \n",
        "# Examine the meta data\n",
        "%%R\n",
        "OATr<-OAT %>% rename(\"ID\"=\"X1\",\"Drug\"=\"X2\",\"Date\"=\"X3\")\n",
        "OATr$ID<-as.factor(OATr$ID)\n",
        "skim_without_charts(OATr)"
      ],
      "execution_count": null,
      "outputs": [
        {
          "output_type": "stream",
          "name": "stdout",
          "text": [
            "── Data Summary ────────────────────────\n",
            "                           Values\n",
            "Name                       OATr  \n",
            "Number of rows             268010\n",
            "Number of columns          3     \n",
            "_______________________          \n",
            "Column type frequency:           \n",
            "  Date                     1     \n",
            "  factor                   2     \n",
            "________________________         \n",
            "Group variables            None  \n",
            "\n",
            "── Variable type: Date ─────────────────────────────────────────────────────────\n",
            "  skim_variable n_missing complete_rate min        max        median    \n",
            "1 Date                  7          1.00 2003-01-01 2018-12-01 2017-02-01\n",
            "  n_unique\n",
            "1      192\n",
            "\n",
            "── Variable type: factor ───────────────────────────────────────────────────────\n",
            "  skim_variable n_missing complete_rate ordered n_unique\n",
            "1 ID                    6          1.00 FALSE      16812\n",
            "2 Drug                  6          1.00 FALSE          3\n",
            "  top_counts                            \n",
            "1 133: 192, 133: 192, 133: 192, 134: 192\n",
            "2 B: 157716, A: 108387, C: 1901         \n"
          ]
        }
      ]
    },
    {
      "cell_type": "code",
      "metadata": {
        "id": "VDbCSAkKYcRx"
      },
      "source": [
        "# Drop the seven missing values \n",
        "%%R\n",
        "OATc <- na.omit(OATr)"
      ],
      "execution_count": null,
      "outputs": []
    },
    {
      "cell_type": "code",
      "metadata": {
        "colab": {
          "base_uri": "https://localhost:8080/"
        },
        "id": "wSNk0zPFnKq9",
        "outputId": "fe782489-cec2-4ad4-8a71-895d1924f4ca"
      },
      "source": [
        "# Aggregate the number of patients by drug type and by month, using a group by and summing across their distinct  patient IDs\n",
        "%%R\n",
        "OATcn<-OATc %>% group_by(Drug,Date)%>%summarise(Numbr_of_patients = n_distinct(ID))\n",
        "head(OATcn)"
      ],
      "execution_count": null,
      "outputs": [
        {
          "output_type": "stream",
          "name": "stdout",
          "text": [
            "`summarise()` has grouped output by 'Drug'. You can override using the `.groups` argument.\n",
            "# A tibble: 6 × 3\n",
            "# Groups:   Drug [1]\n",
            "  Drug  Date       Numbr_of_patients\n",
            "  <fct> <date>                 <int>\n",
            "1 C     2018-07-01               130\n",
            "2 C     2018-08-01               135\n",
            "3 C     2018-09-01               145\n",
            "4 C     2018-10-01               160\n",
            "5 C     2018-11-01               166\n",
            "6 C     2018-12-01               171\n"
          ]
        }
      ]
    },
    {
      "cell_type": "markdown",
      "metadata": {
        "id": "dZMHqyPMKC4M"
      },
      "source": [
        "# Visual Analysis:\n",
        "\n",
        "\n",
        "*   Number of patients taking drug B increased after the Oct 2015 policy  (denoted by 1st vertical dotted line)\n",
        "*   Number of patients taking drug C commenced only after the Jun 2017 policy (denoted approximately by 2nd vertical dotted line)\n",
        "*   Number of patients taking control drug A, also increased after Jun 2017 ( analyzed later below)\n",
        "\n",
        "\n",
        "\n",
        "\n"
      ]
    },
    {
      "cell_type": "code",
      "metadata": {
        "colab": {
          "base_uri": "https://localhost:8080/",
          "height": 497
        },
        "id": "o-vGv8JQt5Xu",
        "outputId": "6d49ec61-454c-4680-8282-65fc93a48083"
      },
      "source": [
        "# Plot the number of patients taking each drug (A,B,C) against time (March 2003- December 20118)\n",
        "%%R\n",
        "ggplot()+geom_line(aes(y=Numbr_of_patients, x=Date, color=Drug),size=.5, data=OATcn)+\n",
        "  geom_vline(xintercept=as.numeric(OATcn$Date[c(155, 179)]), linetype=\"dotted\") "
      ],
      "execution_count": null,
      "outputs": [
        {
          "output_type": "display_data",
          "data": {
            "image/png": "[encoded data removed]"
          },
          "metadata": {}
        }
      ]
    },
    {
      "cell_type": "markdown",
      "metadata": {
        "id": "nhrHzliyKbsm"
      },
      "source": [
        "# Statistical Analysis:"
      ]
    },
    {
      "cell_type": "markdown",
      "metadata": {
        "id": "nZsoTVY1Lh4c"
      },
      "source": [
        "# Oct 2015 Policy: Drug B (Naloxone)\n",
        "Number of patients taking drug B increased by 1,120 patients/month (at the p=0.05 significance level)"
      ]
    },
    {
      "cell_type": "code",
      "metadata": {
        "id": "T-N5hmiEZMQU"
      },
      "source": [
        "# Select data points for drug B only, for statistical analysis \n",
        "%%R\n",
        "OATB<-OATcn %>% filter(Drug == \"B\") "
      ],
      "execution_count": null,
      "outputs": []
    },
    {
      "cell_type": "code",
      "metadata": {
        "colab": {
          "base_uri": "https://localhost:8080/"
        },
        "id": "rI8QhkambW9F",
        "outputId": "7edca98d-9628-4fcb-c1ed-9cfd30caf00c"
      },
      "source": [
        "# Create a categorical variable, with two labels: 'Before' vs after  'Naloxone'  policy\n",
        "# Run the least square regression  \n",
        "%%R\n",
        "OATB$Policy<-ifelse(OATB$Date <'2015-10-01',\"Before\", \"Naloxone\")\n",
        "summary(lm(Numbr_of_patients~Date+ factor(Policy), data=OATB))"
      ],
      "execution_count": null,
      "outputs": [
        {
          "output_type": "stream",
          "name": "stdout",
          "text": [
            "\n",
            "Call:\n",
            "lm(formula = Numbr_of_patients ~ Date + factor(Policy), data = OATB)\n",
            "\n",
            "Residuals:\n",
            "     Min       1Q   Median       3Q      Max \n",
            "-1303.80  -137.10   -27.08   179.96  1199.65 \n",
            "\n",
            "Coefficients:\n",
            "                         Estimate Std. Error t value Pr(>|t|)    \n",
            "(Intercept)            -8.787e+03  8.993e+02  -9.771  < 2e-16 ***\n",
            "Date                    6.082e-01  5.883e-02  10.338  < 2e-16 ***\n",
            "factor(Policy)Naloxone  1.123e+03  1.510e+02   7.438 1.23e-11 ***\n",
            "---\n",
            "Signif. codes:  0 ‘***’ 0.001 ‘**’ 0.01 ‘*’ 0.05 ‘.’ 0.1 ‘ ’ 1\n",
            "\n",
            "Residual standard error: 487.5 on 130 degrees of freedom\n",
            "Multiple R-squared:  0.8522,\tAdjusted R-squared:  0.8499 \n",
            "F-statistic: 374.8 on 2 and 130 DF,  p-value: < 2.2e-16\n",
            "\n"
          ]
        }
      ]
    },
    {
      "cell_type": "markdown",
      "metadata": {
        "id": "FpG4d2r8LtuO"
      },
      "source": [
        "#Jun 2017 Policy: Drug C (Slow-release Morphine)\n",
        "Data confirms that the number of patients taking drug C commenced only after the policy was introduced"
      ]
    },
    {
      "cell_type": "code",
      "metadata": {
        "colab": {
          "base_uri": "https://localhost:8080/"
        },
        "id": "CBKwtFhJZi9I",
        "outputId": "f2cb08b1-582b-41ce-f927-8196e77ad323"
      },
      "source": [
        "# Select only drug C (Morphine) for further  analysis \n",
        "%%R\n",
        "OATC<-OATcn %>% filter(Drug == \"C\") %>% group_by(Date)\n",
        "head(OATC)"
      ],
      "execution_count": null,
      "outputs": [
        {
          "output_type": "stream",
          "name": "stdout",
          "text": [
            "# A tibble: 6 × 2\n",
            "  Date       Numbr_of_patients\n",
            "  <date>                 <int>\n",
            "1 2017-06-01                13\n",
            "2 2017-07-01                22\n",
            "3 2017-08-01                40\n",
            "4 2017-09-01                47\n",
            "5 2017-10-01                53\n",
            "6 2017-11-01                69\n"
          ]
        }
      ]
    },
    {
      "cell_type": "code",
      "metadata": {
        "colab": {
          "base_uri": "https://localhost:8080/",
          "height": 497
        },
        "id": "IdnjdPrlkWrr",
        "outputId": "8c3dc05e-3ff1-4c98-d389-b4cc535597f4"
      },
      "source": [
        "# Vizualize patient uptake of drug C\n",
        "%%R\n",
        "ggplot()+geom_line(aes(y=Numbr_of_patients, x=Date),size=.5, data=OATC)+\n",
        "  geom_vline(xintercept=as.numeric(OATC$Date[1]), linetype=\"dotted\")"
      ],
      "execution_count": null,
      "outputs": [
        {
          "output_type": "display_data",
          "data": {
            "image/png": "[encoded data removed]"
          },
          "metadata": {}
        }
      ]
    },
    {
      "cell_type": "markdown",
      "metadata": {
        "id": "sgPIcnFeC9TY"
      },
      "source": [
        "# The Control : Drug A (Methadone)\n",
        "\n",
        "*   The control (Drug A), is where no policy was applied. After Oct 2015, number of patients taking the control showed lesser increase (260/month) compared to drug C (1,120/month). The control was not significant at the p=0.05 level.\n",
        "*  The Oct 2015 policy was more effective than the control \n",
        "*   After Jun 2017, number of patients taking the control also increased. There may be an association between the Jun 2017 policy and the control (i.e., policy for drug C increased awareness of drug A)\n",
        "\n",
        "\n",
        "\n",
        "\n",
        "\n"
      ]
    },
    {
      "cell_type": "code",
      "metadata": {
        "colab": {
          "base_uri": "https://localhost:8080/"
        },
        "id": "RtlLkMf0_p8o",
        "outputId": "ffe3f1a5-4ba4-47e6-f962-6b95cb95d4b1"
      },
      "source": [
        " # Select only Drug A for statistical analysis\n",
        "%%R\n",
        "OATA<-OATcn %>% filter(Drug == \"A\") \n",
        "head(OATA)"
      ],
      "execution_count": null,
      "outputs": [
        {
          "output_type": "stream",
          "name": "stdout",
          "text": [
            "# A tibble: 6 × 3\n",
            "# Groups:   Drug [1]\n",
            "  Drug  Date       Numbr_of_patients\n",
            "  <fct> <date>                 <int>\n",
            "1 A     2003-01-01                84\n",
            "2 A     2003-02-01               153\n",
            "3 A     2003-03-01               212\n",
            "4 A     2003-04-01               282\n",
            "5 A     2003-05-01               353\n",
            "6 A     2003-06-01               344\n"
          ]
        }
      ]
    },
    {
      "cell_type": "code",
      "metadata": {
        "colab": {
          "base_uri": "https://localhost:8080/"
        },
        "id": "EBVHKjF3_yzM",
        "outputId": "55fbeba4-c56e-4080-943f-f5e3e681e4ea"
      },
      "source": [
        "# Divide the time-series into three: \n",
        "# 1 . before the policies: 2. after nalaxone but before morphine (this is the naloxone control); after morphine (morphine control)\n",
        "%%R\n",
        "OATA$Policy<-ifelse(OATA$Date <'2015-10-01',\"Before\", ifelse(OATA$Date > '2016-07-01', \"Morphine_Control\", \"Naloxone_Conrol\"))\n",
        "summary(lm(Numbr_of_patients~Date+ factor(Policy), data=OATA))"
      ],
      "execution_count": null,
      "outputs": [
        {
          "output_type": "stream",
          "name": "stdout",
          "text": [
            "\n",
            "Call:\n",
            "lm(formula = Numbr_of_patients ~ Date + factor(Policy), data = OATA)\n",
            "\n",
            "Residuals:\n",
            "     Min       1Q   Median       3Q      Max \n",
            "-1061.07  -120.04   -17.31    97.66  1863.86 \n",
            "\n",
            "Coefficients:\n",
            "                                 Estimate Std. Error t value Pr(>|t|)    \n",
            "(Intercept)                    -961.61426  347.87741  -2.764 0.006274 ** \n",
            "Date                              0.08694    0.02411   3.606 0.000398 ***\n",
            "factor(Policy)Morphine_Control 1401.49487  110.15069  12.723  < 2e-16 ***\n",
            "factor(Policy)Naloxone_Conrol   266.80733  144.29284   1.849 0.066018 .  \n",
            "---\n",
            "Signif. codes:  0 ‘***’ 0.001 ‘**’ 0.01 ‘*’ 0.05 ‘.’ 0.1 ‘ ’ 1\n",
            "\n",
            "Residual standard error: 402.3 on 188 degrees of freedom\n",
            "Multiple R-squared:  0.6983,\tAdjusted R-squared:  0.6935 \n",
            "F-statistic: 145.1 on 3 and 188 DF,  p-value: < 2.2e-16\n",
            "\n"
          ]
        }
      ]
    },
    {
      "cell_type": "markdown",
      "metadata": {
        "id": "2uwzeJtMFU6v"
      },
      "source": [
        "# Results and Learning\n",
        "\n",
        "*   Following the October 2015 policy, the number of patients taking drug B, increased at a higher monthly rate and significance  level than the control drug A\n",
        "*  It was only following the Jun 2017 policy, that patients commenced taking drug B. It appears that the policy was responsible for this increase. \n",
        "*   However, after Jun 2017 patients taking the control also started increasing, and significantly. It may be that the control is not entirely independent. For instance, the Oct 2017 policy may have enhanced patient awareness of the control\n",
        "*   Success of policy outcomes requires analysis of the number of patients taking illicit drugs. This is data we may need from social service  agencies and, or law enforcement.\n",
        "\n"
      ]
    }
  ]
}