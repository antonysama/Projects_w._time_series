{
  "nbformat": 4,
  "nbformat_minor": 0,
  "metadata": {
    "colab": {
      "name": "Fisheries_new.ipynb",
      "provenance": [],
      "collapsed_sections": [],
      "machine_shape": "hm",
      "include_colab_link": true
    },
    "kernelspec": {
      "name": "python3",
      "display_name": "Python 3"
    },
    "accelerator": "TPU"
  },
  "cells": [
    {
      "cell_type": "markdown",
      "metadata": {
        "id": "view-in-github",
        "colab_type": "text"
      },
      "source": [
        "<a href=\"https://colab.research.google.com/github/antonysama/Projects_w._time_series/blob/master/Fisheries_new.ipynb\" target=\"_parent\"><img src=\"https://colab.research.google.com/assets/colab-badge.svg\" alt=\"Open In Colab\"/></a>"
      ]
    },
    {
      "cell_type": "code",
      "metadata": {
        "id": "tAb77yZ9fzMG"
      },
      "source": [
        "%%capture\n",
        "!pip install feature-engine"
      ],
      "execution_count": null,
      "outputs": []
    },
    {
      "cell_type": "code",
      "source": [
        "%%capture\n",
        "!pip install CatBoost"
      ],
      "metadata": {
        "id": "yzWPCF1rpeyT"
      },
      "execution_count": null,
      "outputs": []
    },
    {
      "cell_type": "code",
      "metadata": {
        "id": "pafL7Li0jyXW"
      },
      "source": [
        "from math import sqrt\n",
        "import pandas as pd\n",
        "import numpy as np\n",
        "import matplotlib.pyplot as plt\n",
        "\n",
        "# for the model\n",
        "from sklearn.model_selection import train_test_split\n",
        "from sklearn.linear_model import Lasso\n",
        "from sklearn.linear_model import LinearRegression\n",
        "from sklearn.linear_model import LogisticRegression\n",
        "from sklearn.linear_model import SGDRegressor\n",
        "from sklearn.linear_model import ElasticNet\n",
        "from sklearn.linear_model import BayesianRidge\n",
        "from sklearn.ensemble import RandomForestRegressor\n",
        "from sklearn.ensemble import GradientBoostingRegressor\n",
        "from xgboost.sklearn import XGBRegressor\n",
        "from sklearn.kernel_ridge import KernelRidge\n",
        "from catboost import CatBoostRegressor\n",
        "from lightgbm import LGBMRegressor\n",
        "\n",
        "# other regressors: https://www.educative.io/blog/scikit-learn-cheat-sheet-classification-regression-methods\n",
        "from sklearn.pipeline import Pipeline\n",
        "from sklearn.metrics import mean_squared_error, r2_score\n",
        "from sklearn.feature_selection import VarianceThreshold\n",
        "from sklearn.metrics import accuracy_score\n",
        "\n",
        "# for feature engineering\n",
        "from sklearn.preprocessing import StandardScaler\n",
        "from feature_engine import imputation as mdi\n",
        "from feature_engine import discretisation as dsc\n",
        "from feature_engine import encoding as ce\n",
        "import scipy.stats as stats\n",
        "import feature_engine.transformation as vt\n",
        "from feature_engine.outliers import Winsorizer\n",
        "\n",
        "pd.pandas.set_option('display.max_columns', None)\n",
        "\n",
        "# for cross validation and grid search\n",
        "from sklearn.model_selection import (\n",
        "    KFold,\n",
        "    RepeatedKFold,\n",
        "    LeaveOneOut,\n",
        "    LeavePOut,\n",
        "    StratifiedKFold,\n",
        "    GridSearchCV,\n",
        "    train_test_split,\n",
        ")"
      ],
      "execution_count": null,
      "outputs": []
    },
    {
      "cell_type": "code",
      "source": [
        "from google.colab import drive\n",
        "drive.mount('/content/drive')"
      ],
      "metadata": {
        "colab": {
          "base_uri": "https://localhost:8080/"
        },
        "id": "sPecZnnuuPNe",
        "outputId": "47d127b1-a09f-47c7-d98a-41640c44b170"
      },
      "execution_count": null,
      "outputs": [
        {
          "output_type": "stream",
          "name": "stdout",
          "text": [
            "Mounted at /content/drive\n"
          ]
        }
      ]
    },
    {
      "cell_type": "code",
      "source": [
        "# below two are for correltation\n",
        "from sklearn.model_selection import train_test_split, cross_validate\n",
        "\n",
        "from feature_engine.selection import DropCorrelatedFeatures, SmartCorrelatedSelection\n",
        "\n",
        "# to determine the p-values with anova\n",
        "from sklearn.feature_selection import f_classif, f_regression\n",
        "\n",
        "# to select features\n",
        "from sklearn.feature_selection import SelectKBest, SelectPercentile"
      ],
      "metadata": {
        "id": "VFzhWB74QPkN"
      },
      "execution_count": null,
      "outputs": []
    },
    {
      "cell_type": "code",
      "source": [
        "# load dataset\n",
        "fields = ['SPECIES','STORAGE_TYPE','GEAR_NME','MGMT_AREA','LICENCE_AREA','DATE','Vessel ID Number','GEAR_CDE','SUB_AREA'\n",
        ",'SA_ORIGIN','Nominal_Value','KG_PIECE','Nominal_PRICE_PIECE']\n",
        "data=pd.read_csv('drive/MyDrive/q2.csv', error_bad_lines=False,usecols=fields)\n",
        "# data=pd.read_csv('q2.csv', error_bad_lines=False)\n",
        "\n",
        "print(data.shape)\n",
        "data.head()"
      ],
      "metadata": {
        "colab": {
          "base_uri": "https://localhost:8080/",
          "height": 261
        },
        "id": "kKlt8Td1Qba9",
        "outputId": "74bd8e50-a8f2-4e9a-ed81-aef215a00181"
      },
      "execution_count": null,
      "outputs": [
        {
          "output_type": "stream",
          "name": "stdout",
          "text": [
            "(566739, 13)\n"
          ]
        },
        {
          "output_type": "stream",
          "name": "stderr",
          "text": [
            "/usr/local/lib/python3.7/dist-packages/IPython/core/interactiveshell.py:2718: DtypeWarning: Columns (7) have mixed types.Specify dtype option on import or set low_memory=False.\n",
            "  interactivity=interactivity, compiler=compiler, result=result)\n"
          ]
        },
        {
          "output_type": "execute_result",
          "data": {
            "text/html": [
              "<div>\n",
              "<style scoped>\n",
              "    .dataframe tbody tr th:only-of-type {\n",
              "        vertical-align: middle;\n",
              "    }\n",
              "\n",
              "    .dataframe tbody tr th {\n",
              "        vertical-align: top;\n",
              "    }\n",
              "\n",
              "    .dataframe thead th {\n",
              "        text-align: right;\n",
              "    }\n",
              "</style>\n",
              "<table border=\"1\" class=\"dataframe\">\n",
              "  <thead>\n",
              "    <tr style=\"text-align: right;\">\n",
              "      <th></th>\n",
              "      <th>SPECIES</th>\n",
              "      <th>STORAGE_TYPE</th>\n",
              "      <th>GEAR_NME</th>\n",
              "      <th>MGMT_AREA</th>\n",
              "      <th>LICENCE_AREA</th>\n",
              "      <th>DATE</th>\n",
              "      <th>Vessel ID Number</th>\n",
              "      <th>GEAR_CDE</th>\n",
              "      <th>SUB_AREA</th>\n",
              "      <th>SA_ORIGIN</th>\n",
              "      <th>KG_PIECE</th>\n",
              "      <th>Nominal_PRICE_PIECE</th>\n",
              "      <th>Nominal_Value</th>\n",
              "    </tr>\n",
              "  </thead>\n",
              "  <tbody>\n",
              "    <tr>\n",
              "      <th>0</th>\n",
              "      <td>CHUM SALMON</td>\n",
              "      <td>UNKNOWN</td>\n",
              "      <td>SEINE</td>\n",
              "      <td>13</td>\n",
              "      <td>SALMON AREA B</td>\n",
              "      <td>10/17/2016</td>\n",
              "      <td>4856</td>\n",
              "      <td>20</td>\n",
              "      <td>28</td>\n",
              "      <td>LOG_BOOK</td>\n",
              "      <td>4.391591</td>\n",
              "      <td>8.540229</td>\n",
              "      <td>227298.1995</td>\n",
              "    </tr>\n",
              "    <tr>\n",
              "      <th>1</th>\n",
              "      <td>CHUM SALMON</td>\n",
              "      <td>UNKNOWN</td>\n",
              "      <td>SEINE</td>\n",
              "      <td>14</td>\n",
              "      <td>SALMON AREA B</td>\n",
              "      <td>11/6/2011</td>\n",
              "      <td>3980</td>\n",
              "      <td>20</td>\n",
              "      <td>4</td>\n",
              "      <td>LOG_BOOK</td>\n",
              "      <td>4.595482</td>\n",
              "      <td>8.611520</td>\n",
              "      <td>215287.9969</td>\n",
              "    </tr>\n",
              "    <tr>\n",
              "      <th>2</th>\n",
              "      <td>SOCKEYE SALMON</td>\n",
              "      <td>UNKNOWN</td>\n",
              "      <td>SEINE</td>\n",
              "      <td>29</td>\n",
              "      <td>SALMON AREA B</td>\n",
              "      <td>9/12/2018</td>\n",
              "      <td>3952</td>\n",
              "      <td>20</td>\n",
              "      <td>3</td>\n",
              "      <td>LOG_BOOK</td>\n",
              "      <td>2.685285</td>\n",
              "      <td>16.368153</td>\n",
              "      <td>212785.9900</td>\n",
              "    </tr>\n",
              "    <tr>\n",
              "      <th>3</th>\n",
              "      <td>SOCKEYE SALMON</td>\n",
              "      <td>UNKNOWN</td>\n",
              "      <td>SEINE</td>\n",
              "      <td>29</td>\n",
              "      <td>SALMON AREA B</td>\n",
              "      <td>9/14/2018</td>\n",
              "      <td>3820</td>\n",
              "      <td>20</td>\n",
              "      <td>4</td>\n",
              "      <td>LOG_BOOK</td>\n",
              "      <td>2.781680</td>\n",
              "      <td>16.406279</td>\n",
              "      <td>205078.4896</td>\n",
              "    </tr>\n",
              "    <tr>\n",
              "      <th>4</th>\n",
              "      <td>SOCKEYE SALMON</td>\n",
              "      <td>UNKNOWN</td>\n",
              "      <td>SEINE</td>\n",
              "      <td>29</td>\n",
              "      <td>SALMON AREA B</td>\n",
              "      <td>9/12/2018</td>\n",
              "      <td>5448</td>\n",
              "      <td>20</td>\n",
              "      <td>3</td>\n",
              "      <td>LOG_BOOK</td>\n",
              "      <td>2.781614</td>\n",
              "      <td>16.955322</td>\n",
              "      <td>178030.8788</td>\n",
              "    </tr>\n",
              "  </tbody>\n",
              "</table>\n",
              "</div>"
            ],
            "text/plain": [
              "          SPECIES STORAGE_TYPE GEAR_NME  MGMT_AREA   LICENCE_AREA        DATE  \\\n",
              "0     CHUM SALMON      UNKNOWN    SEINE         13  SALMON AREA B  10/17/2016   \n",
              "1     CHUM SALMON      UNKNOWN    SEINE         14  SALMON AREA B   11/6/2011   \n",
              "2  SOCKEYE SALMON      UNKNOWN    SEINE         29  SALMON AREA B   9/12/2018   \n",
              "3  SOCKEYE SALMON      UNKNOWN    SEINE         29  SALMON AREA B   9/14/2018   \n",
              "4  SOCKEYE SALMON      UNKNOWN    SEINE         29  SALMON AREA B   9/12/2018   \n",
              "\n",
              "  Vessel ID Number  GEAR_CDE  SUB_AREA SA_ORIGIN  KG_PIECE  \\\n",
              "0             4856        20        28  LOG_BOOK  4.391591   \n",
              "1             3980        20         4  LOG_BOOK  4.595482   \n",
              "2             3952        20         3  LOG_BOOK  2.685285   \n",
              "3             3820        20         4  LOG_BOOK  2.781680   \n",
              "4             5448        20         3  LOG_BOOK  2.781614   \n",
              "\n",
              "   Nominal_PRICE_PIECE  Nominal_Value  \n",
              "0             8.540229    227298.1995  \n",
              "1             8.611520    215287.9969  \n",
              "2            16.368153    212785.9900  \n",
              "3            16.406279    205078.4896  \n",
              "4            16.955322    178030.8788  "
            ]
          },
          "metadata": {},
          "execution_count": 8
        }
      ]
    },
    {
      "cell_type": "code",
      "source": [
        "# Disaggregate date \n",
        "data[[\"month\", \"day\", \"year\"]] = data[\"DATE\"].str.split(\"/\", expand = True)\n",
        "data.drop(['DATE'], axis=1 , inplace=True) # nex time, don't drop 'day'\n",
        "data.head(2)\n"
      ],
      "metadata": {
        "colab": {
          "base_uri": "https://localhost:8080/",
          "height": 112
        },
        "id": "fcvM6CrjQmFw",
        "outputId": "0f8beb85-52b0-4ad4-f021-84f33bfdb9aa"
      },
      "execution_count": null,
      "outputs": [
        {
          "output_type": "execute_result",
          "data": {
            "text/html": [
              "<div>\n",
              "<style scoped>\n",
              "    .dataframe tbody tr th:only-of-type {\n",
              "        vertical-align: middle;\n",
              "    }\n",
              "\n",
              "    .dataframe tbody tr th {\n",
              "        vertical-align: top;\n",
              "    }\n",
              "\n",
              "    .dataframe thead th {\n",
              "        text-align: right;\n",
              "    }\n",
              "</style>\n",
              "<table border=\"1\" class=\"dataframe\">\n",
              "  <thead>\n",
              "    <tr style=\"text-align: right;\">\n",
              "      <th></th>\n",
              "      <th>SPECIES</th>\n",
              "      <th>STORAGE_TYPE</th>\n",
              "      <th>GEAR_NME</th>\n",
              "      <th>MGMT_AREA</th>\n",
              "      <th>LICENCE_AREA</th>\n",
              "      <th>Vessel ID Number</th>\n",
              "      <th>GEAR_CDE</th>\n",
              "      <th>SUB_AREA</th>\n",
              "      <th>SA_ORIGIN</th>\n",
              "      <th>KG_PIECE</th>\n",
              "      <th>Nominal_PRICE_PIECE</th>\n",
              "      <th>Nominal_Value</th>\n",
              "      <th>month</th>\n",
              "      <th>day</th>\n",
              "      <th>year</th>\n",
              "    </tr>\n",
              "  </thead>\n",
              "  <tbody>\n",
              "    <tr>\n",
              "      <th>0</th>\n",
              "      <td>CHUM SALMON</td>\n",
              "      <td>UNKNOWN</td>\n",
              "      <td>SEINE</td>\n",
              "      <td>13</td>\n",
              "      <td>SALMON AREA B</td>\n",
              "      <td>4856</td>\n",
              "      <td>20</td>\n",
              "      <td>28</td>\n",
              "      <td>LOG_BOOK</td>\n",
              "      <td>4.391591</td>\n",
              "      <td>8.540229</td>\n",
              "      <td>227298.1995</td>\n",
              "      <td>10</td>\n",
              "      <td>17</td>\n",
              "      <td>2016</td>\n",
              "    </tr>\n",
              "    <tr>\n",
              "      <th>1</th>\n",
              "      <td>CHUM SALMON</td>\n",
              "      <td>UNKNOWN</td>\n",
              "      <td>SEINE</td>\n",
              "      <td>14</td>\n",
              "      <td>SALMON AREA B</td>\n",
              "      <td>3980</td>\n",
              "      <td>20</td>\n",
              "      <td>4</td>\n",
              "      <td>LOG_BOOK</td>\n",
              "      <td>4.595482</td>\n",
              "      <td>8.611520</td>\n",
              "      <td>215287.9969</td>\n",
              "      <td>11</td>\n",
              "      <td>6</td>\n",
              "      <td>2011</td>\n",
              "    </tr>\n",
              "  </tbody>\n",
              "</table>\n",
              "</div>"
            ],
            "text/plain": [
              "       SPECIES STORAGE_TYPE GEAR_NME  MGMT_AREA   LICENCE_AREA  \\\n",
              "0  CHUM SALMON      UNKNOWN    SEINE         13  SALMON AREA B   \n",
              "1  CHUM SALMON      UNKNOWN    SEINE         14  SALMON AREA B   \n",
              "\n",
              "  Vessel ID Number  GEAR_CDE  SUB_AREA SA_ORIGIN  KG_PIECE  \\\n",
              "0             4856        20        28  LOG_BOOK  4.391591   \n",
              "1             3980        20         4  LOG_BOOK  4.595482   \n",
              "\n",
              "   Nominal_PRICE_PIECE  Nominal_Value month day  year  \n",
              "0             8.540229    227298.1995    10  17  2016  \n",
              "1             8.611520    215287.9969    11   6  2011  "
            ]
          },
          "metadata": {},
          "execution_count": 9
        }
      ]
    },
    {
      "cell_type": "code",
      "source": [
        "data.isnull().mean()"
      ],
      "metadata": {
        "id": "AYXXoEcuueWu",
        "colab": {
          "base_uri": "https://localhost:8080/"
        },
        "outputId": "08dc22e7-a1e3-4f39-ef6b-36f9774615b8"
      },
      "execution_count": null,
      "outputs": [
        {
          "output_type": "execute_result",
          "data": {
            "text/plain": [
              "SPECIES                0.0\n",
              "STORAGE_TYPE           0.0\n",
              "GEAR_NME               0.0\n",
              "MGMT_AREA              0.0\n",
              "LICENCE_AREA           0.0\n",
              "Vessel ID Number       0.0\n",
              "GEAR_CDE               0.0\n",
              "SUB_AREA               0.0\n",
              "SA_ORIGIN              0.0\n",
              "KG_PIECE               0.0\n",
              "Nominal_PRICE_PIECE    0.0\n",
              "Nominal_Value          0.0\n",
              "month                  0.0\n",
              "day                    0.0\n",
              "year                   0.0\n",
              "dtype: float64"
            ]
          },
          "metadata": {},
          "execution_count": 8
        }
      ]
    },
    {
      "cell_type": "code",
      "source": [
        "# Inspected the type of variables in pandas, and changed as appropriate\n",
        "for col in ['MGMT_AREA','GEAR_CDE','SUB_AREA']:\n",
        "    data[col] = data[col].astype(object)\n",
        "for col in ['month','day','year']:\n",
        "    data[col] = data[col].astype(int)\n",
        "data.dtypes"
      ],
      "metadata": {
        "id": "mlvL8mgQRUO1",
        "colab": {
          "base_uri": "https://localhost:8080/"
        },
        "outputId": "18634cf1-f72c-452d-b755-6ad1f2341b25"
      },
      "execution_count": null,
      "outputs": [
        {
          "output_type": "execute_result",
          "data": {
            "text/plain": [
              "SPECIES                 object\n",
              "STORAGE_TYPE            object\n",
              "GEAR_NME                object\n",
              "MGMT_AREA               object\n",
              "LICENCE_AREA            object\n",
              "Vessel ID Number        object\n",
              "GEAR_CDE                object\n",
              "SUB_AREA                object\n",
              "SA_ORIGIN               object\n",
              "KG_PIECE               float64\n",
              "Nominal_PRICE_PIECE    float64\n",
              "Nominal_Value          float64\n",
              "month                    int64\n",
              "day                      int64\n",
              "year                     int64\n",
              "dtype: object"
            ]
          },
          "metadata": {},
          "execution_count": 10
        }
      ]
    },
    {
      "cell_type": "code",
      "source": [
        "# find categorical variables\n",
        "categorical = [var for var in data.columns if data[var].dtype=='O']\n",
        "print('There are {} categorical variables'.format(len(categorical)))"
      ],
      "metadata": {
        "colab": {
          "base_uri": "https://localhost:8080/"
        },
        "id": "ufvR3KBCRXCO",
        "outputId": "b85a2a30-ae13-4c33-8be1-af3025da4894"
      },
      "execution_count": null,
      "outputs": [
        {
          "output_type": "stream",
          "name": "stdout",
          "text": [
            "There are 9 categorical variables\n"
          ]
        }
      ]
    },
    {
      "cell_type": "code",
      "source": [
        "# make a list of the numerical variables first\n",
        "numerical = [var for var in data.columns if data[var].dtype!='O']\n",
        "\n",
        "# list of variables that contain temporal information\n",
        "# temporal_vars = [var for var in categorical if 'month' in var or 'year' in var or 'day' in var]\n",
        "\n",
        "numerical #, temporal_vars"
      ],
      "metadata": {
        "colab": {
          "base_uri": "https://localhost:8080/"
        },
        "id": "JmnfGBO4RctB",
        "outputId": "45532fb5-2d11-4c6c-e341-623f4f3f3cea"
      },
      "execution_count": null,
      "outputs": [
        {
          "output_type": "execute_result",
          "data": {
            "text/plain": [
              "['KG_PIECE', 'Nominal_PRICE_PIECE', 'Nominal_Value', 'month', 'day', 'year']"
            ]
          },
          "metadata": {},
          "execution_count": 19
        }
      ]
    },
    {
      "cell_type": "code",
      "source": [
        "# plot nominal value per month or year\n",
        "\n",
        "data.groupby('year')['Nominal_Value'].median().plot()\n",
        "plt.title('Nominal value variation along the year')\n",
        "plt.ylabel('Nominal value')"
      ],
      "metadata": {
        "colab": {
          "base_uri": "https://localhost:8080/",
          "height": 313
        },
        "id": "8SfUfndNvLgJ",
        "outputId": "6d311428-a20c-4004-8229-da0e2dd1c9e3"
      },
      "execution_count": null,
      "outputs": [
        {
          "output_type": "execute_result",
          "data": {
            "text/plain": [
              "Text(0, 0.5, 'Nominal value')"
            ]
          },
          "metadata": {},
          "execution_count": 11
        },
        {
          "output_type": "display_data",
          "data": {
            "image/png": "[encoded data removed]",
            "text/plain": [
              "<Figure size 432x288 with 1 Axes>"
            ]
          },
          "metadata": {
            "needs_background": "light"
          }
        }
      ]
    },
    {
      "cell_type": "code",
      "source": [
        "# tabulate nominal value per species or other catefory\n",
        "data.groupby('year')['Nominal_Value'].median().reset_index()\n",
        "# data.groupby('year')['Nominal_Value'].median().sort_values(ascending=False).reset_index() # to order by nominal value"
      ],
      "metadata": {
        "colab": {
          "base_uri": "https://localhost:8080/",
          "height": 363
        },
        "id": "xtTFTmoxvRwP",
        "outputId": "d3a796cf-d5df-491d-be11-d4d74f71a87a"
      },
      "execution_count": null,
      "outputs": [
        {
          "output_type": "execute_result",
          "data": {
            "text/html": [
              "<div>\n",
              "<style scoped>\n",
              "    .dataframe tbody tr th:only-of-type {\n",
              "        vertical-align: middle;\n",
              "    }\n",
              "\n",
              "    .dataframe tbody tr th {\n",
              "        vertical-align: top;\n",
              "    }\n",
              "\n",
              "    .dataframe thead th {\n",
              "        text-align: right;\n",
              "    }\n",
              "</style>\n",
              "<table border=\"1\" class=\"dataframe\">\n",
              "  <thead>\n",
              "    <tr style=\"text-align: right;\">\n",
              "      <th></th>\n",
              "      <th>year</th>\n",
              "      <th>Nominal_Value</th>\n",
              "    </tr>\n",
              "  </thead>\n",
              "  <tbody>\n",
              "    <tr>\n",
              "      <th>0</th>\n",
              "      <td>2010</td>\n",
              "      <td>84.785689</td>\n",
              "    </tr>\n",
              "    <tr>\n",
              "      <th>1</th>\n",
              "      <td>2011</td>\n",
              "      <td>84.307003</td>\n",
              "    </tr>\n",
              "    <tr>\n",
              "      <th>2</th>\n",
              "      <td>2012</td>\n",
              "      <td>70.178571</td>\n",
              "    </tr>\n",
              "    <tr>\n",
              "      <th>3</th>\n",
              "      <td>2013</td>\n",
              "      <td>101.522777</td>\n",
              "    </tr>\n",
              "    <tr>\n",
              "      <th>4</th>\n",
              "      <td>2014</td>\n",
              "      <td>69.314292</td>\n",
              "    </tr>\n",
              "    <tr>\n",
              "      <th>5</th>\n",
              "      <td>2015</td>\n",
              "      <td>64.121179</td>\n",
              "    </tr>\n",
              "    <tr>\n",
              "      <th>6</th>\n",
              "      <td>2016</td>\n",
              "      <td>122.234509</td>\n",
              "    </tr>\n",
              "    <tr>\n",
              "      <th>7</th>\n",
              "      <td>2017</td>\n",
              "      <td>174.259378</td>\n",
              "    </tr>\n",
              "    <tr>\n",
              "      <th>8</th>\n",
              "      <td>2018</td>\n",
              "      <td>33.437152</td>\n",
              "    </tr>\n",
              "    <tr>\n",
              "      <th>9</th>\n",
              "      <td>2019</td>\n",
              "      <td>28.439915</td>\n",
              "    </tr>\n",
              "  </tbody>\n",
              "</table>\n",
              "</div>"
            ],
            "text/plain": [
              "   year  Nominal_Value\n",
              "0  2010      84.785689\n",
              "1  2011      84.307003\n",
              "2  2012      70.178571\n",
              "3  2013     101.522777\n",
              "4  2014      69.314292\n",
              "5  2015      64.121179\n",
              "6  2016     122.234509\n",
              "7  2017     174.259378\n",
              "8  2018      33.437152\n",
              "9  2019      28.439915"
            ]
          },
          "metadata": {},
          "execution_count": 17
        }
      ]
    },
    {
      "cell_type": "code",
      "source": [
        "# let's visualise the values of the discrete variables\n",
        "discrete = []\n",
        "\n",
        "for var in numerical:\n",
        "    if len(data[var].unique()) < 35:\n",
        "        print(var, ' values: ', data[var].unique())\n",
        "        discrete.append(var)\n",
        "print()\n",
        "print('There are {} discrete variables'.format(len(discrete)))"
      ],
      "metadata": {
        "colab": {
          "base_uri": "https://localhost:8080/"
        },
        "id": "R-Kx5Q_jRuYn",
        "outputId": "6a841280-10a6-48d0-d218-a9adb3a58fce"
      },
      "execution_count": null,
      "outputs": [
        {
          "output_type": "stream",
          "name": "stdout",
          "text": [
            "month  values:  [10 11  9  8  6  7  5  4  2  3  1 12]\n",
            "day  values:  [17  6 12 14 22  9 11 26 13 20 18 16  2 15 10 27 24 28 23 31 30 29  3  1\n",
            "  5  8 25  4 19 21  7]\n",
            "year  values:  [2016 2011 2018 2010 2014 2017 2015 2013 2012 2019]\n",
            "\n",
            "There are 3 discrete variables\n"
          ]
        }
      ]
    },
    {
      "cell_type": "code",
      "source": [
        "# find continuous variables\n",
        "# skip the target and correlated vars\n",
        "continuous = [var for var in numerical if var not in discrete  \n",
        "              and var not in ['Nominal_Value']]\n",
        "\n",
        "print('There are {}  continuous variables'.format(len(continuous)))"
      ],
      "metadata": {
        "colab": {
          "base_uri": "https://localhost:8080/"
        },
        "id": "Kg8DYYhURiOz",
        "outputId": "c015afd1-ec68-4033-b152-906b6446ac46"
      },
      "execution_count": null,
      "outputs": [
        {
          "output_type": "stream",
          "name": "stdout",
          "text": [
            "There are 2  continuous variables\n"
          ]
        }
      ]
    },
    {
      "cell_type": "code",
      "source": [
        "# let's make boxplots to visualise outliers in the continuous variables \n",
        "# and histograms to get an idea of the distribution\n",
        "\n",
        "for var in numerical:\n",
        "    plt.figure(figsize=(6,4))\n",
        "    plt.subplot(1, 2, 1)\n",
        "    fig = data.boxplot(column=var)\n",
        "    fig.set_title('')\n",
        "    fig.set_ylabel(var)\n",
        "    \n",
        "    plt.subplot(1, 2, 2)\n",
        "    fig = data[var].hist(bins=20)\n",
        "    fig.set_ylabel('Number of catches')\n",
        "    fig.set_xlabel(var)\n",
        "\n",
        "    plt.show()"
      ],
      "metadata": {
        "colab": {
          "base_uri": "https://localhost:8080/",
          "height": 1000
        },
        "id": "ovcBWkWPu8Ib",
        "outputId": "ae8de99c-c240-4a23-9632-4476315e1c06"
      },
      "execution_count": null,
      "outputs": [
        {
          "output_type": "display_data",
          "data": {
            "image/png": "[encoded data removed]",
            "text/plain": [
              "<Figure size 432x288 with 2 Axes>"
            ]
          },
          "metadata": {
            "needs_background": "light"
          }
        },
        {
          "output_type": "display_data",
          "data": {
            "image/png": "[encoded data removed]",
            "text/plain": [
              "<Figure size 432x288 with 2 Axes>"
            ]
          },
          "metadata": {
            "needs_background": "light"
          }
        },
        {
          "output_type": "display_data",
          "data": {
            "image/png": "[encoded data removed]",
            "text/plain": [
              "<Figure size 432x288 with 2 Axes>"
            ]
          },
          "metadata": {
            "needs_background": "light"
          }
        },
        {
          "output_type": "display_data",
          "data": {
            "image/png": "[encoded data removed]",
            "text/plain": [
              "<Figure size 432x288 with 2 Axes>"
            ]
          },
          "metadata": {
            "needs_background": "light"
          }
        },
        {
          "output_type": "display_data",
          "data": {
            "image/png": "[encoded data removed]",
            "text/plain": [
              "<Figure size 432x288 with 2 Axes>"
            ]
          },
          "metadata": {
            "needs_background": "light"
          }
        },
        {
          "output_type": "display_data",
          "data": {
            "image/png": "[encoded data removed]",
            "text/plain": [
              "<Figure size 432x288 with 2 Axes>"
            ]
          },
          "metadata": {
            "needs_background": "light"
          }
        }
      ]
    },
    {
      "cell_type": "code",
      "source": [
        "# plot number of categories per categorical variable\n",
        "\n",
        "data[categorical].nunique().plot.bar(figsize=(10,6))\n",
        "plt.title('CARDINALITY: Number of categories in categorical variables')\n",
        "plt.xlabel('Categorical variables')\n",
        "plt.ylabel('Number of different categories')"
      ],
      "metadata": {
        "colab": {
          "base_uri": "https://localhost:8080/",
          "height": 501
        },
        "id": "A3J2Pg7hvtJW",
        "outputId": "e78ea63d-73e4-4309-f71e-d2580c7fcb4b"
      },
      "execution_count": null,
      "outputs": [
        {
          "output_type": "execute_result",
          "data": {
            "text/plain": [
              "Text(0, 0.5, 'Number of different categories')"
            ]
          },
          "metadata": {},
          "execution_count": 44
        },
        {
          "output_type": "display_data",
          "data": {
            "image/png": "[encoded data removed]",
            "text/plain": [
              "<Figure size 720x432 with 1 Axes>"
            ]
          },
          "metadata": {
            "needs_background": "light"
          }
        }
      ]
    },
    {
      "cell_type": "code",
      "source": [
        "# Let's separate into train and test set\n",
        "\n",
        "X_train, X_test, y_train, y_test = train_test_split(data.drop('Nominal_Value', axis=1),\n",
        "                                                    data['Nominal_Value'],\n",
        "                                                    test_size=0.1,\n",
        "                                                    random_state=0)\n",
        "\n",
        "X_train.shape, X_test.shape"
      ],
      "metadata": {
        "colab": {
          "base_uri": "https://localhost:8080/"
        },
        "id": "RAwmd5IcRzhC",
        "outputId": "e4b193ad-bc75-45bf-f7f5-65c5a038b3fe"
      },
      "execution_count": null,
      "outputs": [
        {
          "output_type": "execute_result",
          "data": {
            "text/plain": [
              "((510065, 14), (56674, 14))"
            ]
          },
          "metadata": {},
          "execution_count": 22
        }
      ]
    },
    {
      "cell_type": "code",
      "source": [
        "fisheries_pipe = Pipeline([\n",
        "    # categorical encoding - section 6\n",
        "    ('rare_label_enc', ce.RareLabelEncoder(\n",
        "        tol=0.05, n_categories=6, variables=categorical)), \n",
        "    \n",
        "    ('categorical_enc', ce.OrdinalEncoder(\n",
        "        encoding_method='ordered', variables=categorical)), # can try 'arbitrary' or 'ordered'\n",
        "\n",
        "    #  # transform - SECTION 7   # didn't increase R2\n",
        "     ('lt', vt.LogTransformer(variables = continuous+discrete)), # a.k.a 'continuous\n",
        "\n",
        "    # discretisation + encoding - section 8\n",
        "    ('discretisation', dsc.EqualFrequencyDiscretiser(\n",
        "        q=5, return_object=True, variables=continuous+discrete)),\n",
        "      \n",
        "    ('encoding', ce.OrdinalEncoder(\n",
        "        encoding_method='ordered', variables=continuous+discrete)),\n",
        "\n",
        "    # # outlier capping - sectionn 9 #didn't increase r2\n",
        "    ('windsoriser', Winsorizer(\n",
        "        capping_method='gaussian', tail='both', fold=3, variables=continuous+discrete)),\n",
        "\n",
        "    # feature Scaling - section 10\n",
        "    ('scaler', StandardScaler()),\n",
        "    \n",
        "    # regression\n",
        "    # ('classifier', RandomForestRegressor()) # best are LGBMRegressor, RandomForestRegressor\n",
        "    ('classifier', RandomForestRegressor(random_state=10, n_estimators=700, max_features='sqrt'))  \n",
        "])"
      ],
      "metadata": {
        "id": "gkfFzUb6R2eY"
      },
      "execution_count": null,
      "outputs": []
    },
    {
      "cell_type": "code",
      "source": [
        "# now we create the hyperparameter space that we want to sample\n",
        "# to perform Grid search, we need to specifically provide the hyperparameter\n",
        "param_grid = { \n",
        "    'rare_label_enc__tol': [0.1, 0.5],\n",
        "    'classifier__n_estimators': [10, 300, 800],#need some others\n",
        "    'classifier__max_depth': [5, 10,30, 50, None],\n",
        "    'classifier__min_samples_split': [2,4,8],\n",
        "    'classifier__max_depth':[3,6],\n",
        "}\n",
        "\n",
        "# # K-Fold Cross-Validation\n",
        "# kf = KFold(n_splits=3, shuffle=True, random_state=10)\n",
        "\n",
        "# search\n",
        "grid_search =  GridSearchCV(\n",
        "    fisheries_pipe,\n",
        "    param_grid,\n",
        "    scoring='r2',\n",
        "    cv=5, # k-fold\n",
        "    refit=True, # refits best model to entire dataset\n",
        ")"
      ],
      "metadata": {
        "id": "4tzF0Tkbv6yY"
      },
      "execution_count": null,
      "outputs": []
    },
    {
      "cell_type": "code",
      "source": [
        "# let's fit the pipeline - two pipeline options: fisheries or grid_search\n",
        "\n",
        "# let's get the predictions\n",
        "fisheries_pipe.fit(X_train, y_train) \n",
        "X_train_preds = fisheries_pipe.predict(X_train) # \n",
        "X_test_preds = fisheries_pipe.predict(X_test) # \n",
        "\n",
        "# grid_search.fit(X_train, y_train)\n",
        "# X_train_preds = grid_search.predict(X_train)\n",
        "# X_test_preds = grid_search.predict(X_test)"
      ],
      "metadata": {
        "colab": {
          "base_uri": "https://localhost:8080/"
        },
        "id": "HlPdzAEFR6Wf",
        "outputId": "595f29e8-a57a-4bc2-8213-652236453b5d"
      },
      "execution_count": null,
      "outputs": [
        {
          "output_type": "stream",
          "name": "stderr",
          "text": [
            "/usr/local/lib/python3.7/dist-packages/feature_engine/encoding/rare_label.py:182: UserWarning: The number of unique categories for variable SPECIES is less than that indicated in n_categories. Thus, all categories will be considered frequent\n",
            "  \"considered frequent\".format(var)\n",
            "/usr/local/lib/python3.7/dist-packages/feature_engine/encoding/rare_label.py:182: UserWarning: The number of unique categories for variable STORAGE_TYPE is less than that indicated in n_categories. Thus, all categories will be considered frequent\n",
            "  \"considered frequent\".format(var)\n",
            "/usr/local/lib/python3.7/dist-packages/feature_engine/encoding/rare_label.py:182: UserWarning: The number of unique categories for variable GEAR_NME is less than that indicated in n_categories. Thus, all categories will be considered frequent\n",
            "  \"considered frequent\".format(var)\n",
            "/usr/local/lib/python3.7/dist-packages/feature_engine/encoding/rare_label.py:182: UserWarning: The number of unique categories for variable GEAR_CDE is less than that indicated in n_categories. Thus, all categories will be considered frequent\n",
            "  \"considered frequent\".format(var)\n",
            "/usr/local/lib/python3.7/dist-packages/feature_engine/encoding/rare_label.py:182: UserWarning: The number of unique categories for variable SA_ORIGIN is less than that indicated in n_categories. Thus, all categories will be considered frequent\n",
            "  \"considered frequent\".format(var)\n"
          ]
        }
      ]
    },
    {
      "cell_type": "code",
      "source": [
        "# check model performance:\n",
        "print('train r2: {}'.format(r2_score(y_train, X_train_preds)))\n",
        "print()\n",
        "print('test r2: {}'.format(r2_score(y_test, X_test_preds)))"
      ],
      "metadata": {
        "colab": {
          "base_uri": "https://localhost:8080/"
        },
        "id": "vKIeG0RzUoCZ",
        "outputId": "3b2454cb-a24a-40b2-9ca2-35e5bfbf6306"
      },
      "execution_count": null,
      "outputs": [
        {
          "output_type": "stream",
          "name": "stdout",
          "text": [
            "train r2: 0.6329867110165165\n",
            "\n",
            "test r2: 0.5732090428424754\n"
          ]
        }
      ]
    },
    {
      "cell_type": "code",
      "source": [
        "# plot predictions vs real value\n",
        "\n",
        "plt.scatter(y_test,X_test_preds)\n",
        "plt.xlabel('True Price')\n",
        "plt.ylabel('Predicted Price')"
      ],
      "metadata": {
        "colab": {
          "base_uri": "https://localhost:8080/",
          "height": 297
        },
        "id": "Ch2C3WX5waho",
        "outputId": "d58bf573-4226-4ed4-a8a6-7ef94e8f261b"
      },
      "execution_count": null,
      "outputs": [
        {
          "output_type": "execute_result",
          "data": {
            "text/plain": [
              "Text(0, 0.5, 'Predicted Price')"
            ]
          },
          "metadata": {},
          "execution_count": 23
        },
        {
          "output_type": "display_data",
          "data": {
            "image/png": "[encoded data removed]",
            "text/plain": [
              "<Figure size 432x288 with 1 Axes>"
            ]
          },
          "metadata": {
            "needs_background": "light"
          }
        }
      ]
    },
    {
      "cell_type": "code",
      "source": [
        "# let's explore the importance of the features\n",
        "\n",
        "importance = pd.Series(np.abs(fisheries_pipe.named_steps['classifier'].feature_importances_))\n",
        "importance.index = list(X_train.columns) \n",
        "importance.sort_values(inplace=True, ascending=False)\n",
        "importance.plot.bar(figsize=(18,6))"
      ],
      "metadata": {
        "colab": {
          "base_uri": "https://localhost:8080/",
          "height": 470
        },
        "id": "3LDfutPpcUwv",
        "outputId": "281289b7-f741-4079-8f0d-f0ee9b9020f5"
      },
      "execution_count": null,
      "outputs": [
        {
          "output_type": "execute_result",
          "data": {
            "text/plain": [
              "<matplotlib.axes._subplots.AxesSubplot at 0x7f6010d59f10>"
            ]
          },
          "metadata": {},
          "execution_count": 24
        },
        {
          "output_type": "display_data",
          "data": {
            "image/png": "[encoded data removed]",
            "text/plain": [
              "<Figure size 1296x432 with 1 Axes>"
            ]
          },
          "metadata": {
            "needs_background": "light"
          }
        }
      ]
    },
    {
      "cell_type": "code",
      "source": [
        "print(X_test_preds)"
      ],
      "metadata": {
        "colab": {
          "base_uri": "https://localhost:8080/"
        },
        "id": "UrJvKVG9wmzg",
        "outputId": "b3166d18-ebd3-4fd6-c218-c8cc0a403710"
      },
      "execution_count": null,
      "outputs": [
        {
          "output_type": "stream",
          "name": "stdout",
          "text": [
            "[  82.03148752 4142.27803419  387.8465399  ...   25.7546431    72.56969631\n",
            "  923.37429645]\n"
          ]
        }
      ]
    },
    {
      "cell_type": "markdown",
      "source": [
        "save model to predct new data https://scikit-learn.org/stable/modules/model_persistence.html https://stackoverflow.com/questions/47416982/load-and-predict-new-data-sklearn/47417363"
      ],
      "metadata": {
        "id": "NDORpG79wqti"
      }
    }
  ]
}