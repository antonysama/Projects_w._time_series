{
  "nbformat": 4,
  "nbformat_minor": 0,
  "metadata": {
    "colab": {
      "name": "Fisheries_new.ipynb",
      "provenance": []
    },
    "kernelspec": {
      "display_name": "Python 3",
      "name": "python3"
    },
    "language_info": {
      "name": "python"
    }
  },
  "cells": [
    {
      "cell_type": "code",
      "metadata": {
        "id": "BpwaOUQl5Ycr"
      },
      "source": [
        "%%capture\n",
        "!pip install feature-engine"
      ],
      "execution_count": null,
      "outputs": []
    },
    {
      "cell_type": "code",
      "metadata": {
        "id": "7gcxp3LD4Y97"
      },
      "source": [
        "from math import sqrt\n",
        "import pandas as pd\n",
        "import numpy as np\n",
        "import matplotlib.pyplot as plt\n",
        "\n",
        "# for the model\n",
        "from sklearn.model_selection import train_test_split\n",
        "from sklearn.linear_model import Lasso\n",
        "from sklearn.ensemble import RandomForestRegressor\n",
        "from sklearn.ensemble import GradientBoostingClassifier\n",
        "from sklearn.pipeline import Pipeline\n",
        "from sklearn.metrics import mean_squared_error, r2_score\n",
        "from sklearn.feature_selection import VarianceThreshold\n",
        "\n",
        "# for feature engineering\n",
        "from sklearn.preprocessing import StandardScaler\n",
        "from feature_engine import imputation as mdi\n",
        "from feature_engine import discretisation as dsc\n",
        "from feature_engine import encoding as ce\n",
        "\n",
        "pd.pandas.set_option('display.max_columns', None)"
      ],
      "execution_count": null,
      "outputs": []
    },
    {
      "cell_type": "code",
      "metadata": {
        "id": "vDIBTz6UxrJK"
      },
      "source": [
        "# below two are for correltation\n",
        "from sklearn.model_selection import train_test_split, cross_validate\n",
        "\n",
        "from feature_engine.selection import DropCorrelatedFeatures, SmartCorrelatedSelection\n",
        "\n",
        "# to determine the p-values with anova\n",
        "from sklearn.feature_selection import f_classif, f_regression\n",
        "\n",
        "# to select features\n",
        "from sklearn.feature_selection import SelectKBest, SelectPercentile\n"
      ],
      "execution_count": null,
      "outputs": []
    },
    {
      "cell_type": "code",
      "metadata": {
        "colab": {
          "base_uri": "https://localhost:8080/",
          "height": 400
        },
        "id": "Zwbg15B5482I",
        "outputId": "54b9eee8-e551-4e83-fee6-7ea2b86a86bb"
      },
      "source": [
        "# load dataset\n",
        "fields = ['SPECIES','STORAGE_TYPE','GEAR_NME','MGMT_AREA','LICENCE_AREA','DATE','Vessel ID Number','GEAR_CDE','SUB_AREA'\n",
        ",'SA_ORIGIN','Nominal_Value','KG_PIECE','Nominal_PRICE_PIECE']\n",
        "data=pd.read_csv('q2.csv', error_bad_lines=False,usecols=fields)\n",
        "# data=pd.read_csv('q2.csv', error_bad_lines=False)\n",
        "\n",
        "print(data.shape)\n",
        "data.head()"
      ],
      "execution_count": null,
      "outputs": [
        {
          "name": "stdout",
          "output_type": "stream",
          "text": [
            "(566739, 13)\n"
          ]
        },
        {
          "name": "stderr",
          "output_type": "stream",
          "text": [
            "/usr/local/lib/python3.7/dist-packages/IPython/core/interactiveshell.py:2718: DtypeWarning: Columns (7) have mixed types.Specify dtype option on import or set low_memory=False.\n",
            "  interactivity=interactivity, compiler=compiler, result=result)\n"
          ]
        },
        {
          "data": {
            "text/html": [
              "<div>\n",
              "<style scoped>\n",
              "    .dataframe tbody tr th:only-of-type {\n",
              "        vertical-align: middle;\n",
              "    }\n",
              "\n",
              "    .dataframe tbody tr th {\n",
              "        vertical-align: top;\n",
              "    }\n",
              "\n",
              "    .dataframe thead th {\n",
              "        text-align: right;\n",
              "    }\n",
              "</style>\n",
              "<table border=\"1\" class=\"dataframe\">\n",
              "  <thead>\n",
              "    <tr style=\"text-align: right;\">\n",
              "      <th></th>\n",
              "      <th>SPECIES</th>\n",
              "      <th>STORAGE_TYPE</th>\n",
              "      <th>GEAR_NME</th>\n",
              "      <th>MGMT_AREA</th>\n",
              "      <th>LICENCE_AREA</th>\n",
              "      <th>DATE</th>\n",
              "      <th>Vessel ID Number</th>\n",
              "      <th>GEAR_CDE</th>\n",
              "      <th>SUB_AREA</th>\n",
              "      <th>SA_ORIGIN</th>\n",
              "      <th>KG_PIECE</th>\n",
              "      <th>Nominal_PRICE_PIECE</th>\n",
              "      <th>Nominal_Value</th>\n",
              "    </tr>\n",
              "  </thead>\n",
              "  <tbody>\n",
              "    <tr>\n",
              "      <th>0</th>\n",
              "      <td>CHUM SALMON</td>\n",
              "      <td>UNKNOWN</td>\n",
              "      <td>SEINE</td>\n",
              "      <td>13</td>\n",
              "      <td>SALMON AREA B</td>\n",
              "      <td>10/17/2016</td>\n",
              "      <td>4856</td>\n",
              "      <td>20</td>\n",
              "      <td>28</td>\n",
              "      <td>LOG_BOOK</td>\n",
              "      <td>4.391591</td>\n",
              "      <td>8.540229</td>\n",
              "      <td>227298.1995</td>\n",
              "    </tr>\n",
              "    <tr>\n",
              "      <th>1</th>\n",
              "      <td>CHUM SALMON</td>\n",
              "      <td>UNKNOWN</td>\n",
              "      <td>SEINE</td>\n",
              "      <td>14</td>\n",
              "      <td>SALMON AREA B</td>\n",
              "      <td>11/6/2011</td>\n",
              "      <td>3980</td>\n",
              "      <td>20</td>\n",
              "      <td>4</td>\n",
              "      <td>LOG_BOOK</td>\n",
              "      <td>4.595482</td>\n",
              "      <td>8.611520</td>\n",
              "      <td>215287.9969</td>\n",
              "    </tr>\n",
              "    <tr>\n",
              "      <th>2</th>\n",
              "      <td>SOCKEYE SALMON</td>\n",
              "      <td>UNKNOWN</td>\n",
              "      <td>SEINE</td>\n",
              "      <td>29</td>\n",
              "      <td>SALMON AREA B</td>\n",
              "      <td>9/12/2018</td>\n",
              "      <td>3952</td>\n",
              "      <td>20</td>\n",
              "      <td>3</td>\n",
              "      <td>LOG_BOOK</td>\n",
              "      <td>2.685285</td>\n",
              "      <td>16.368153</td>\n",
              "      <td>212785.9900</td>\n",
              "    </tr>\n",
              "    <tr>\n",
              "      <th>3</th>\n",
              "      <td>SOCKEYE SALMON</td>\n",
              "      <td>UNKNOWN</td>\n",
              "      <td>SEINE</td>\n",
              "      <td>29</td>\n",
              "      <td>SALMON AREA B</td>\n",
              "      <td>9/14/2018</td>\n",
              "      <td>3820</td>\n",
              "      <td>20</td>\n",
              "      <td>4</td>\n",
              "      <td>LOG_BOOK</td>\n",
              "      <td>2.781680</td>\n",
              "      <td>16.406279</td>\n",
              "      <td>205078.4896</td>\n",
              "    </tr>\n",
              "    <tr>\n",
              "      <th>4</th>\n",
              "      <td>SOCKEYE SALMON</td>\n",
              "      <td>UNKNOWN</td>\n",
              "      <td>SEINE</td>\n",
              "      <td>29</td>\n",
              "      <td>SALMON AREA B</td>\n",
              "      <td>9/12/2018</td>\n",
              "      <td>5448</td>\n",
              "      <td>20</td>\n",
              "      <td>3</td>\n",
              "      <td>LOG_BOOK</td>\n",
              "      <td>2.781614</td>\n",
              "      <td>16.955322</td>\n",
              "      <td>178030.8788</td>\n",
              "    </tr>\n",
              "  </tbody>\n",
              "</table>\n",
              "</div>"
            ],
            "text/plain": [
              "          SPECIES STORAGE_TYPE GEAR_NME  MGMT_AREA   LICENCE_AREA        DATE  \\\n",
              "0     CHUM SALMON      UNKNOWN    SEINE         13  SALMON AREA B  10/17/2016   \n",
              "1     CHUM SALMON      UNKNOWN    SEINE         14  SALMON AREA B   11/6/2011   \n",
              "2  SOCKEYE SALMON      UNKNOWN    SEINE         29  SALMON AREA B   9/12/2018   \n",
              "3  SOCKEYE SALMON      UNKNOWN    SEINE         29  SALMON AREA B   9/14/2018   \n",
              "4  SOCKEYE SALMON      UNKNOWN    SEINE         29  SALMON AREA B   9/12/2018   \n",
              "\n",
              "  Vessel ID Number  GEAR_CDE  SUB_AREA SA_ORIGIN  KG_PIECE  \\\n",
              "0             4856        20        28  LOG_BOOK  4.391591   \n",
              "1             3980        20         4  LOG_BOOK  4.595482   \n",
              "2             3952        20         3  LOG_BOOK  2.685285   \n",
              "3             3820        20         4  LOG_BOOK  2.781680   \n",
              "4             5448        20         3  LOG_BOOK  2.781614   \n",
              "\n",
              "   Nominal_PRICE_PIECE  Nominal_Value  \n",
              "0             8.540229    227298.1995  \n",
              "1             8.611520    215287.9969  \n",
              "2            16.368153    212785.9900  \n",
              "3            16.406279    205078.4896  \n",
              "4            16.955322    178030.8788  "
            ]
          },
          "execution_count": 213,
          "metadata": {},
          "output_type": "execute_result"
        }
      ]
    },
    {
      "cell_type": "code",
      "metadata": {
        "colab": {
          "base_uri": "https://localhost:8080/"
        },
        "id": "lbbCqBGN9m6T",
        "outputId": "41d33fad-7f81-4182-adda-e7e3c9ba7c3d"
      },
      "source": [
        "#LOOK FOR CONSTANT FIELDS\n",
        "for col in data:\n",
        "    print(col, data[col].unique())"
      ],
      "execution_count": null,
      "outputs": [
        {
          "name": "stdout",
          "output_type": "stream",
          "text": [
            "SPECIES ['CHUM SALMON' 'SOCKEYE SALMON' 'PINK SALMON' 'CHINOOK SALMON'\n",
            " 'COHO SALMON']\n",
            "STORAGE_TYPE ['UNKNOWN' 'FROZEN' 'ICED']\n",
            "GEAR_NME ['SEINE' 'GILL NET' 'TROLL']\n",
            "MGMT_AREA [ 13  14  29   2  12  21   7  23   3  18  20   8  28  17   1  16  25   4\n",
            " 142   6 101 121   5 126 124  11  10 127 104 123 102  26 103 105  27 125\n",
            " 106 111 107  24  19 108 130]\n",
            "LICENCE_AREA ['SALMON AREA B' 'SALMON AREA A' 'SALMON AREA C' 'SALMON AREA E'\n",
            " 'SALMON AREA D' 'SALMON AREA F' 'SALMON AREA H' 'SALMON AREA G']\n",
            "DATE ['10/17/2016' '11/6/2011' '9/12/2018' ... '2/20/2018' '12/31/2015'\n",
            " '2/8/2015']\n",
            "Vessel ID Number ['4856' '3980' '3952' ... 4509 4172 4163]\n",
            "GEAR_CDE [20 10 30 31]\n",
            "SUB_AREA [ 28   4   3   6  10  27  31   2  30  32   8  29  40   7   1   0  11  14\n",
            "   9   5  13  17  16  43  33  12  35  46  45  21  88  15  26  19  67  48\n",
            "  63  47  68  78  49  97  79  76  38  18  24  20  69  86  75  66 100  92\n",
            "  98  23  36  25  89]\n",
            "SA_ORIGIN ['LOG_BOOK' 'OPNG_DESC' 'TROLL_ZONE']\n",
            "KG_PIECE [4.39159149 4.59548231 2.6852852  ... 5.49272933 6.25060193 6.21650479]\n",
            "Nominal_PRICE_PIECE [ 8.54022917  8.61151988 16.36815307 ... 49.87768814 95.11937606\n",
            " 61.57776149]\n",
            "Nominal_Value [2.27298199e+05 2.15287997e+05 2.12785990e+05 ... 1.82620000e-10\n",
            " 1.75636000e-10 6.35217000e-11]\n"
          ]
        }
      ]
    },
    {
      "cell_type": "code",
      "metadata": {
        "colab": {
          "base_uri": "https://localhost:8080/",
          "height": 201
        },
        "id": "8fYAsDRb7pQJ",
        "outputId": "b059deca-dbb2-4822-cbc7-ab142222e9cf"
      },
      "source": [
        "# Disaggregate date \n",
        "data[[\"month\", \"day\", \"year\"]] = data[\"DATE\"].str.split(\"/\", expand = True)\n",
        "data.drop(['DATE', 'day'], axis=1 , inplace=True)\n",
        "data.head(2)"
      ],
      "execution_count": null,
      "outputs": [
        {
          "data": {
            "text/html": [
              "<div>\n",
              "<style scoped>\n",
              "    .dataframe tbody tr th:only-of-type {\n",
              "        vertical-align: middle;\n",
              "    }\n",
              "\n",
              "    .dataframe tbody tr th {\n",
              "        vertical-align: top;\n",
              "    }\n",
              "\n",
              "    .dataframe thead th {\n",
              "        text-align: right;\n",
              "    }\n",
              "</style>\n",
              "<table border=\"1\" class=\"dataframe\">\n",
              "  <thead>\n",
              "    <tr style=\"text-align: right;\">\n",
              "      <th></th>\n",
              "      <th>SPECIES</th>\n",
              "      <th>STORAGE_TYPE</th>\n",
              "      <th>GEAR_NME</th>\n",
              "      <th>MGMT_AREA</th>\n",
              "      <th>LICENCE_AREA</th>\n",
              "      <th>Vessel ID Number</th>\n",
              "      <th>GEAR_CDE</th>\n",
              "      <th>SUB_AREA</th>\n",
              "      <th>SA_ORIGIN</th>\n",
              "      <th>KG_PIECE</th>\n",
              "      <th>Nominal_PRICE_PIECE</th>\n",
              "      <th>Nominal_Value</th>\n",
              "      <th>month</th>\n",
              "      <th>year</th>\n",
              "    </tr>\n",
              "  </thead>\n",
              "  <tbody>\n",
              "    <tr>\n",
              "      <th>0</th>\n",
              "      <td>CHUM SALMON</td>\n",
              "      <td>UNKNOWN</td>\n",
              "      <td>SEINE</td>\n",
              "      <td>13</td>\n",
              "      <td>SALMON AREA B</td>\n",
              "      <td>4856</td>\n",
              "      <td>20</td>\n",
              "      <td>28</td>\n",
              "      <td>LOG_BOOK</td>\n",
              "      <td>4.391591</td>\n",
              "      <td>8.540229</td>\n",
              "      <td>227298.1995</td>\n",
              "      <td>10</td>\n",
              "      <td>2016</td>\n",
              "    </tr>\n",
              "    <tr>\n",
              "      <th>1</th>\n",
              "      <td>CHUM SALMON</td>\n",
              "      <td>UNKNOWN</td>\n",
              "      <td>SEINE</td>\n",
              "      <td>14</td>\n",
              "      <td>SALMON AREA B</td>\n",
              "      <td>3980</td>\n",
              "      <td>20</td>\n",
              "      <td>4</td>\n",
              "      <td>LOG_BOOK</td>\n",
              "      <td>4.595482</td>\n",
              "      <td>8.611520</td>\n",
              "      <td>215287.9969</td>\n",
              "      <td>11</td>\n",
              "      <td>2011</td>\n",
              "    </tr>\n",
              "  </tbody>\n",
              "</table>\n",
              "</div>"
            ],
            "text/plain": [
              "       SPECIES STORAGE_TYPE GEAR_NME  MGMT_AREA   LICENCE_AREA  \\\n",
              "0  CHUM SALMON      UNKNOWN    SEINE         13  SALMON AREA B   \n",
              "1  CHUM SALMON      UNKNOWN    SEINE         14  SALMON AREA B   \n",
              "\n",
              "  Vessel ID Number  GEAR_CDE  SUB_AREA SA_ORIGIN  KG_PIECE  \\\n",
              "0             4856        20        28  LOG_BOOK  4.391591   \n",
              "1             3980        20         4  LOG_BOOK  4.595482   \n",
              "\n",
              "   Nominal_PRICE_PIECE  Nominal_Value month  year  \n",
              "0             8.540229    227298.1995    10  2016  \n",
              "1             8.611520    215287.9969    11  2011  "
            ]
          },
          "execution_count": 215,
          "metadata": {},
          "output_type": "execute_result"
        }
      ]
    },
    {
      "cell_type": "code",
      "metadata": {
        "colab": {
          "base_uri": "https://localhost:8080/"
        },
        "id": "0ov3I3-xIpZv",
        "outputId": "0cc627f2-a000-4b28-a785-a31f43acb07a"
      },
      "source": [
        "# Inspected the type of variables in pandas, and changed as appropriate\n",
        "for col in ['MGMT_AREA','GEAR_CDE','SUB_AREA']:\n",
        "    data[col] = data[col].astype(object)\n",
        "# for col in ['month','year']:\n",
        "#     data[col] = data[col].astype('int64')\n",
        "data.dtypes"
      ],
      "execution_count": null,
      "outputs": [
        {
          "data": {
            "text/plain": [
              "SPECIES                 object\n",
              "STORAGE_TYPE            object\n",
              "GEAR_NME                object\n",
              "MGMT_AREA               object\n",
              "LICENCE_AREA            object\n",
              "Vessel ID Number        object\n",
              "GEAR_CDE                object\n",
              "SUB_AREA                object\n",
              "SA_ORIGIN               object\n",
              "KG_PIECE               float64\n",
              "Nominal_PRICE_PIECE    float64\n",
              "Nominal_Value          float64\n",
              "month                   object\n",
              "year                    object\n",
              "dtype: object"
            ]
          },
          "execution_count": 216,
          "metadata": {},
          "output_type": "execute_result"
        }
      ]
    },
    {
      "cell_type": "code",
      "metadata": {
        "colab": {
          "base_uri": "https://localhost:8080/"
        },
        "id": "_JzZs1uXa_c_",
        "outputId": "c2c007e4-d8f3-4c7d-d5d3-c8bf6dcdda14"
      },
      "source": [
        "# find categorical variables\n",
        "categorical = [var for var in data.columns if data[var].dtype=='O']\n",
        "print('There are {} categorical variables'.format(len(categorical)))"
      ],
      "execution_count": null,
      "outputs": [
        {
          "name": "stdout",
          "output_type": "stream",
          "text": [
            "There are 11 categorical variables\n"
          ]
        }
      ]
    },
    {
      "cell_type": "code",
      "metadata": {
        "colab": {
          "base_uri": "https://localhost:8080/"
        },
        "id": "IwpKtPkHLkct",
        "outputId": "06f840de-8c2a-422b-d2df-4fff19fee57c"
      },
      "source": [
        "# make a list of the numerical variables first\n",
        "numerical = [var for var in data.columns if data[var].dtype!='O']\n",
        "\n",
        "# list of variables that contain temporal information\n",
        "temporal_vars = [var for var in categorical if 'month' in var or 'year' in var]\n",
        "\n",
        "\n",
        "\n",
        "\n",
        "numerical, temporal_vars"
      ],
      "execution_count": null,
      "outputs": [
        {
          "data": {
            "text/plain": [
              "(['KG_PIECE', 'Nominal_PRICE_PIECE', 'Nominal_Value'], ['month', 'year'])"
            ]
          },
          "execution_count": 218,
          "metadata": {},
          "output_type": "execute_result"
        }
      ]
    },
    {
      "cell_type": "code",
      "metadata": {
        "colab": {
          "base_uri": "https://localhost:8080/",
          "height": 312
        },
        "id": "sKn4PtnWKqLq",
        "outputId": "08eaaf18-d8de-4c57-f850-3c85e088897d"
      },
      "source": [
        "# plot nominal value per month or year\n",
        "\n",
        "data.groupby('year')['Nominal_Value'].median().plot()\n",
        "plt.title('Nominal value variation along the month')\n",
        "plt.ylabel('Nominal value')"
      ],
      "execution_count": null,
      "outputs": [
        {
          "data": {
            "text/plain": [
              "Text(0, 0.5, 'Nominal value')"
            ]
          },
          "execution_count": 219,
          "metadata": {},
          "output_type": "execute_result"
        },
        {
          "data": {
            "image/png": "[encoded data removed]",
            "text/plain": [
              "<Figure size 432x288 with 1 Axes>"
            ]
          },
          "metadata": {},
          "output_type": "display_data"
        }
      ]
    },
    {
      "cell_type": "code",
      "metadata": {
        "colab": {
          "base_uri": "https://localhost:8080/",
          "height": 1000
        },
        "id": "ZCrbnLqZFatV",
        "outputId": "cc730613-3e3a-4360-d23c-c565e82a580c"
      },
      "source": [
        "# tabulate nominal value per species or other catefory\n",
        "data.groupby('MGMT_AREA')['Nominal_Value'].median().sort_values(ascending=False).reset_index()"
      ],
      "execution_count": null,
      "outputs": [
        {
          "data": {
            "text/html": [
              "<div>\n",
              "<style scoped>\n",
              "    .dataframe tbody tr th:only-of-type {\n",
              "        vertical-align: middle;\n",
              "    }\n",
              "\n",
              "    .dataframe tbody tr th {\n",
              "        vertical-align: top;\n",
              "    }\n",
              "\n",
              "    .dataframe thead th {\n",
              "        text-align: right;\n",
              "    }\n",
              "</style>\n",
              "<table border=\"1\" class=\"dataframe\">\n",
              "  <thead>\n",
              "    <tr style=\"text-align: right;\">\n",
              "      <th></th>\n",
              "      <th>MGMT_AREA</th>\n",
              "      <th>Nominal_Value</th>\n",
              "    </tr>\n",
              "  </thead>\n",
              "  <tbody>\n",
              "    <tr>\n",
              "      <th>0</th>\n",
              "      <td>28</td>\n",
              "      <td>9.548010e+03</td>\n",
              "    </tr>\n",
              "    <tr>\n",
              "      <th>1</th>\n",
              "      <td>16</td>\n",
              "      <td>1.084378e+03</td>\n",
              "    </tr>\n",
              "    <tr>\n",
              "      <th>2</th>\n",
              "      <td>20</td>\n",
              "      <td>9.372143e+02</td>\n",
              "    </tr>\n",
              "    <tr>\n",
              "      <th>3</th>\n",
              "      <td>21</td>\n",
              "      <td>7.128800e+02</td>\n",
              "    </tr>\n",
              "    <tr>\n",
              "      <th>4</th>\n",
              "      <td>107</td>\n",
              "      <td>6.210167e+02</td>\n",
              "    </tr>\n",
              "    <tr>\n",
              "      <th>5</th>\n",
              "      <td>108</td>\n",
              "      <td>5.700377e+02</td>\n",
              "    </tr>\n",
              "    <tr>\n",
              "      <th>6</th>\n",
              "      <td>10</td>\n",
              "      <td>4.248903e+02</td>\n",
              "    </tr>\n",
              "    <tr>\n",
              "      <th>7</th>\n",
              "      <td>18</td>\n",
              "      <td>3.850721e+02</td>\n",
              "    </tr>\n",
              "    <tr>\n",
              "      <th>8</th>\n",
              "      <td>102</td>\n",
              "      <td>3.529980e+02</td>\n",
              "    </tr>\n",
              "    <tr>\n",
              "      <th>9</th>\n",
              "      <td>126</td>\n",
              "      <td>3.244044e+02</td>\n",
              "    </tr>\n",
              "    <tr>\n",
              "      <th>10</th>\n",
              "      <td>105</td>\n",
              "      <td>2.957518e+02</td>\n",
              "    </tr>\n",
              "    <tr>\n",
              "      <th>11</th>\n",
              "      <td>6</td>\n",
              "      <td>2.809993e+02</td>\n",
              "    </tr>\n",
              "    <tr>\n",
              "      <th>12</th>\n",
              "      <td>23</td>\n",
              "      <td>2.669986e+02</td>\n",
              "    </tr>\n",
              "    <tr>\n",
              "      <th>13</th>\n",
              "      <td>25</td>\n",
              "      <td>2.384704e+02</td>\n",
              "    </tr>\n",
              "    <tr>\n",
              "      <th>14</th>\n",
              "      <td>14</td>\n",
              "      <td>2.285607e+02</td>\n",
              "    </tr>\n",
              "    <tr>\n",
              "      <th>15</th>\n",
              "      <td>106</td>\n",
              "      <td>2.217093e+02</td>\n",
              "    </tr>\n",
              "    <tr>\n",
              "      <th>16</th>\n",
              "      <td>142</td>\n",
              "      <td>2.104031e+02</td>\n",
              "    </tr>\n",
              "    <tr>\n",
              "      <th>17</th>\n",
              "      <td>26</td>\n",
              "      <td>2.010878e+02</td>\n",
              "    </tr>\n",
              "    <tr>\n",
              "      <th>18</th>\n",
              "      <td>103</td>\n",
              "      <td>1.982393e+02</td>\n",
              "    </tr>\n",
              "    <tr>\n",
              "      <th>19</th>\n",
              "      <td>1</td>\n",
              "      <td>1.931667e+02</td>\n",
              "    </tr>\n",
              "    <tr>\n",
              "      <th>20</th>\n",
              "      <td>7</td>\n",
              "      <td>1.574603e+02</td>\n",
              "    </tr>\n",
              "    <tr>\n",
              "      <th>21</th>\n",
              "      <td>17</td>\n",
              "      <td>1.534259e+02</td>\n",
              "    </tr>\n",
              "    <tr>\n",
              "      <th>22</th>\n",
              "      <td>2</td>\n",
              "      <td>1.512736e+02</td>\n",
              "    </tr>\n",
              "    <tr>\n",
              "      <th>23</th>\n",
              "      <td>104</td>\n",
              "      <td>1.448922e+02</td>\n",
              "    </tr>\n",
              "    <tr>\n",
              "      <th>24</th>\n",
              "      <td>19</td>\n",
              "      <td>1.026913e+02</td>\n",
              "    </tr>\n",
              "    <tr>\n",
              "      <th>25</th>\n",
              "      <td>29</td>\n",
              "      <td>9.750000e+01</td>\n",
              "    </tr>\n",
              "    <tr>\n",
              "      <th>26</th>\n",
              "      <td>124</td>\n",
              "      <td>9.667253e+01</td>\n",
              "    </tr>\n",
              "    <tr>\n",
              "      <th>27</th>\n",
              "      <td>5</td>\n",
              "      <td>9.296500e+01</td>\n",
              "    </tr>\n",
              "    <tr>\n",
              "      <th>28</th>\n",
              "      <td>8</td>\n",
              "      <td>8.862658e+01</td>\n",
              "    </tr>\n",
              "    <tr>\n",
              "      <th>29</th>\n",
              "      <td>3</td>\n",
              "      <td>7.382895e+01</td>\n",
              "    </tr>\n",
              "    <tr>\n",
              "      <th>30</th>\n",
              "      <td>27</td>\n",
              "      <td>6.183812e+01</td>\n",
              "    </tr>\n",
              "    <tr>\n",
              "      <th>31</th>\n",
              "      <td>125</td>\n",
              "      <td>6.149153e+01</td>\n",
              "    </tr>\n",
              "    <tr>\n",
              "      <th>32</th>\n",
              "      <td>13</td>\n",
              "      <td>5.901773e+01</td>\n",
              "    </tr>\n",
              "    <tr>\n",
              "      <th>33</th>\n",
              "      <td>12</td>\n",
              "      <td>5.198818e+01</td>\n",
              "    </tr>\n",
              "    <tr>\n",
              "      <th>34</th>\n",
              "      <td>4</td>\n",
              "      <td>4.799844e+01</td>\n",
              "    </tr>\n",
              "    <tr>\n",
              "      <th>35</th>\n",
              "      <td>121</td>\n",
              "      <td>3.971543e+01</td>\n",
              "    </tr>\n",
              "    <tr>\n",
              "      <th>36</th>\n",
              "      <td>101</td>\n",
              "      <td>3.476214e+01</td>\n",
              "    </tr>\n",
              "    <tr>\n",
              "      <th>37</th>\n",
              "      <td>123</td>\n",
              "      <td>2.587785e+01</td>\n",
              "    </tr>\n",
              "    <tr>\n",
              "      <th>38</th>\n",
              "      <td>11</td>\n",
              "      <td>2.533926e+01</td>\n",
              "    </tr>\n",
              "    <tr>\n",
              "      <th>39</th>\n",
              "      <td>127</td>\n",
              "      <td>2.494641e+01</td>\n",
              "    </tr>\n",
              "    <tr>\n",
              "      <th>40</th>\n",
              "      <td>111</td>\n",
              "      <td>1.443370e-01</td>\n",
              "    </tr>\n",
              "    <tr>\n",
              "      <th>41</th>\n",
              "      <td>24</td>\n",
              "      <td>1.734070e-04</td>\n",
              "    </tr>\n",
              "    <tr>\n",
              "      <th>42</th>\n",
              "      <td>130</td>\n",
              "      <td>4.077280e-07</td>\n",
              "    </tr>\n",
              "  </tbody>\n",
              "</table>\n",
              "</div>"
            ],
            "text/plain": [
              "    MGMT_AREA  Nominal_Value\n",
              "0          28   9.548010e+03\n",
              "1          16   1.084378e+03\n",
              "2          20   9.372143e+02\n",
              "3          21   7.128800e+02\n",
              "4         107   6.210167e+02\n",
              "5         108   5.700377e+02\n",
              "6          10   4.248903e+02\n",
              "7          18   3.850721e+02\n",
              "8         102   3.529980e+02\n",
              "9         126   3.244044e+02\n",
              "10        105   2.957518e+02\n",
              "11          6   2.809993e+02\n",
              "12         23   2.669986e+02\n",
              "13         25   2.384704e+02\n",
              "14         14   2.285607e+02\n",
              "15        106   2.217093e+02\n",
              "16        142   2.104031e+02\n",
              "17         26   2.010878e+02\n",
              "18        103   1.982393e+02\n",
              "19          1   1.931667e+02\n",
              "20          7   1.574603e+02\n",
              "21         17   1.534259e+02\n",
              "22          2   1.512736e+02\n",
              "23        104   1.448922e+02\n",
              "24         19   1.026913e+02\n",
              "25         29   9.750000e+01\n",
              "26        124   9.667253e+01\n",
              "27          5   9.296500e+01\n",
              "28          8   8.862658e+01\n",
              "29          3   7.382895e+01\n",
              "30         27   6.183812e+01\n",
              "31        125   6.149153e+01\n",
              "32         13   5.901773e+01\n",
              "33         12   5.198818e+01\n",
              "34          4   4.799844e+01\n",
              "35        121   3.971543e+01\n",
              "36        101   3.476214e+01\n",
              "37        123   2.587785e+01\n",
              "38         11   2.533926e+01\n",
              "39        127   2.494641e+01\n",
              "40        111   1.443370e-01\n",
              "41         24   1.734070e-04\n",
              "42        130   4.077280e-07"
            ]
          },
          "execution_count": 220,
          "metadata": {},
          "output_type": "execute_result"
        }
      ]
    },
    {
      "cell_type": "code",
      "metadata": {
        "colab": {
          "base_uri": "https://localhost:8080/"
        },
        "id": "mP3_0cmMeOF0",
        "outputId": "aee3d14d-8dba-47fa-f1d3-1648d57c906c"
      },
      "source": [
        "# let's visualise the values of the discrete variables\n",
        "discrete = []\n",
        "\n",
        "for var in numerical:\n",
        "    if len(data[var].unique()) < 30:\n",
        "        print(var, ' values: ', data[var].unique())\n",
        "        discrete.append(var)\n",
        "print()\n",
        "print('There are {} discrete variables'.format(len(discrete)))"
      ],
      "execution_count": null,
      "outputs": [
        {
          "name": "stdout",
          "output_type": "stream",
          "text": [
            "\n",
            "There are 0 discrete variables\n"
          ]
        }
      ]
    },
    {
      "cell_type": "code",
      "metadata": {
        "colab": {
          "base_uri": "https://localhost:8080/"
        },
        "id": "ZIujFO7jfePw",
        "outputId": "699fb054-1377-4c39-bf3b-8de7444870de"
      },
      "source": [
        "# find continuous variables\n",
        "# skip the target and correlated vars\n",
        "continuous = [var for var in numerical if var not in discrete  \n",
        "              and var not in ['Nominal_Value']]\n",
        "\n",
        "print('There are {}  continuous variables'.format(len(continuous)))"
      ],
      "execution_count": null,
      "outputs": [
        {
          "name": "stdout",
          "output_type": "stream",
          "text": [
            "There are 2  continuous variables\n"
          ]
        }
      ]
    },
    {
      "cell_type": "code",
      "metadata": {
        "id": "qbvmm_9kgNNp"
      },
      "source": [
        "# let's output variables with NA and the percentage of NA\n",
        "\n",
        "for var in data.columns:\n",
        "    if data[var].isnull().sum() > 0:\n",
        "        print(var, data[var].isnull().mean())\n"
      ],
      "execution_count": null,
      "outputs": []
    },
    {
      "cell_type": "code",
      "metadata": {
        "colab": {
          "base_uri": "https://localhost:8080/",
          "height": 806
        },
        "id": "4BeYhFWYggO1",
        "outputId": "bf8991c1-9254-4860-8ce1-56fb1ebd079c"
      },
      "source": [
        "# let's make boxplots to visualise outliers in the continuous variables \n",
        "# and histograms to get an idea of the distribution\n",
        "\n",
        "for var in numerical:\n",
        "    plt.figure(figsize=(6,4))\n",
        "    plt.subplot(1, 2, 1)\n",
        "    fig = data.boxplot(column=var)\n",
        "    fig.set_title('')\n",
        "    fig.set_ylabel(var)\n",
        "    \n",
        "    plt.subplot(1, 2, 2)\n",
        "    fig = data[var].hist(bins=20)\n",
        "    fig.set_ylabel('Number of catches')\n",
        "    fig.set_xlabel(var)\n",
        "\n",
        "    plt.show()"
      ],
      "execution_count": null,
      "outputs": [
        {
          "data": {
            "image/png": "[encoded data removed]",
            "text/plain": [
              "<Figure size 432x288 with 2 Axes>"
            ]
          },
          "metadata": {},
          "output_type": "display_data"
        },
        {
          "data": {
            "image/png": "[encoded data removed]",
            "text/plain": [
              "<Figure size 432x288 with 2 Axes>"
            ]
          },
          "metadata": {},
          "output_type": "display_data"
        },
        {
          "data": {
            "image/png": "[encoded data removed]",
            "text/plain": [
              "<Figure size 432x288 with 2 Axes>"
            ]
          },
          "metadata": {},
          "output_type": "display_data"
        }
      ]
    },
    {
      "cell_type": "code",
      "metadata": {
        "colab": {
          "base_uri": "https://localhost:8080/",
          "height": 500
        },
        "id": "8jrPXmGqmf8F",
        "outputId": "146dd82f-2816-44fd-8542-314deaefab22"
      },
      "source": [
        "# plot number of categories per categorical variable\n",
        "\n",
        "data[categorical].nunique().plot.bar(figsize=(10,6))\n",
        "plt.title('CARDINALITY: Number of categories in categorical variables')\n",
        "plt.xlabel('Categorical variables')\n",
        "plt.ylabel('Number of different categories')"
      ],
      "execution_count": null,
      "outputs": [
        {
          "data": {
            "text/plain": [
              "Text(0, 0.5, 'Number of different categories')"
            ]
          },
          "execution_count": 131,
          "metadata": {},
          "output_type": "execute_result"
        },
        {
          "data": {
            "image/png": "[encoded data removed]",
            "text/plain": [
              "<Figure size 720x432 with 1 Axes>"
            ]
          },
          "metadata": {},
          "output_type": "display_data"
        }
      ]
    },
    {
      "cell_type": "code",
      "metadata": {
        "colab": {
          "base_uri": "https://localhost:8080/"
        },
        "id": "UJnAGnVqmxyO",
        "outputId": "364c62ea-9e1b-474d-d814-e20051d750f9"
      },
      "source": [
        "# Let's separate into train and test set\n",
        "\n",
        "X_train, X_test, y_train, y_test = train_test_split(data.drop('Nominal_Value', axis=1),\n",
        "                                                    data['Nominal_Value'],\n",
        "                                                    test_size=0.1,\n",
        "                                                    random_state=0)\n",
        "\n",
        "X_train.shape, X_test.shape\n",
        "\n"
      ],
      "execution_count": null,
      "outputs": [
        {
          "data": {
            "text/plain": [
              "((510065, 13), (56674, 13))"
            ]
          },
          "execution_count": 224,
          "metadata": {},
          "output_type": "execute_result"
        }
      ]
    },
    {
      "cell_type": "code",
      "metadata": {
        "id": "FkIA-i3_y5Nn"
      },
      "source": [
        "fisheries_pipe = Pipeline([\n",
        "\n",
        "    # categorical encoding - section 6\n",
        "    ('rare_label_enc', ce.RareLabelEncoder(\n",
        "        tol=0.05, n_categories=6, variables=categorical)),\n",
        "    \n",
        "    ('categorical_enc', ce.OrdinalEncoder(\n",
        "        encoding_method='ordered', variables=categorical)),\n",
        "\n",
        "    # discretisation + encoding - section 8\n",
        "    ('discretisation', dsc.EqualFrequencyDiscretiser(\n",
        "        q=5, return_object=True, variables=continuous)),\n",
        "   \n",
        "    ('encoding', ce.OrdinalEncoder(\n",
        "        encoding_method='ordered', variables=continuous)),\n",
        "\n",
        "    # feature Scaling - section 10\n",
        "    ('scaler', StandardScaler()),\n",
        "    \n",
        "    # regression\n",
        "    # ('lasso', Lasso(random_state=0))\n",
        "    ('classifier', RandomForestRegressor(random_state=10))\n",
        "\n",
        "    \n",
        "])\n"
      ],
      "execution_count": null,
      "outputs": []
    },
    {
      "cell_type": "code",
      "metadata": {
        "colab": {
          "base_uri": "https://localhost:8080/"
        },
        "id": "EfT6hBvwy9aX",
        "outputId": "103cbaa0-1284-4cda-f80e-713402bd6d46"
      },
      "source": [
        "# let's fit the pipeline\n",
        "fisheries_pipe.fit(X_train, y_train)\n",
        "\n",
        "# let's get the predictions\n",
        "X_train_preds = fisheries_pipe.predict(X_train)\n",
        "X_test_preds = fisheries_pipe.predict(X_test)"
      ],
      "execution_count": null,
      "outputs": [
        {
          "name": "stderr",
          "output_type": "stream",
          "text": [
            "/usr/local/lib/python3.7/dist-packages/feature_engine/encoding/rare_label.py:182: UserWarning: The number of unique categories for variable SPECIES is less than that indicated in n_categories. Thus, all categories will be considered frequent\n",
            "  \"considered frequent\".format(var)\n",
            "/usr/local/lib/python3.7/dist-packages/feature_engine/encoding/rare_label.py:182: UserWarning: The number of unique categories for variable STORAGE_TYPE is less than that indicated in n_categories. Thus, all categories will be considered frequent\n",
            "  \"considered frequent\".format(var)\n",
            "/usr/local/lib/python3.7/dist-packages/feature_engine/encoding/rare_label.py:182: UserWarning: The number of unique categories for variable GEAR_NME is less than that indicated in n_categories. Thus, all categories will be considered frequent\n",
            "  \"considered frequent\".format(var)\n",
            "/usr/local/lib/python3.7/dist-packages/feature_engine/encoding/rare_label.py:182: UserWarning: The number of unique categories for variable GEAR_CDE is less than that indicated in n_categories. Thus, all categories will be considered frequent\n",
            "  \"considered frequent\".format(var)\n",
            "/usr/local/lib/python3.7/dist-packages/feature_engine/encoding/rare_label.py:182: UserWarning: The number of unique categories for variable SA_ORIGIN is less than that indicated in n_categories. Thus, all categories will be considered frequent\n",
            "  \"considered frequent\".format(var)\n"
          ]
        }
      ]
    },
    {
      "cell_type": "code",
      "metadata": {
        "colab": {
          "base_uri": "https://localhost:8080/"
        },
        "id": "OQElRhBLzoSw",
        "outputId": "f3a2aa3b-97f8-4764-dbd2-8121511f7a94"
      },
      "source": [
        "# check model performance:\n",
        "\n",
        "print('train mse: {}'.format(mean_squared_error(y_train, X_train_preds)))\n",
        "print('train rmse: {}'.format(sqrt(mean_squared_error(y_train, X_train_preds))))\n",
        "print('train r2: {}'.format(r2_score(y_train, X_train_preds)))\n",
        "print()\n",
        "print('test mse: {}'.format(mean_squared_error(y_test, X_test_preds)))\n",
        "print('test rmse: {}'.format(sqrt(mean_squared_error(y_test, X_test_preds))))\n",
        "print('test r2: {}'.format(r2_score(y_test, X_test_preds)))"
      ],
      "execution_count": null,
      "outputs": [
        {
          "name": "stdout",
          "output_type": "stream",
          "text": [
            "train mse: 2318047.0417700754\n",
            "train rmse: 1522.5133962530758\n",
            "train r2: 0.6014876615558482\n",
            "\n",
            "test mse: 1901749.0999070406\n",
            "test rmse: 1379.0391944781848\n",
            "test r2: 0.562076221746925\n"
          ]
        }
      ]
    },
    {
      "cell_type": "code",
      "metadata": {
        "colab": {
          "base_uri": "https://localhost:8080/",
          "height": 296
        },
        "id": "W1Jmi5FY-vZT",
        "outputId": "c333cfd0-cb47-4a78-b272-e737620e88ca"
      },
      "source": [
        "# plot predictions vs real value\n",
        "\n",
        "plt.scatter(y_test,X_test_preds)\n",
        "plt.xlabel('True Price')\n",
        "plt.ylabel('Predicted Price')"
      ],
      "execution_count": null,
      "outputs": [
        {
          "data": {
            "text/plain": [
              "Text(0, 0.5, 'Predicted Price')"
            ]
          },
          "execution_count": 238,
          "metadata": {},
          "output_type": "execute_result"
        },
        {
          "data": {
            "image/png": "[encoded data removed]",
            "text/plain": [
              "<Figure size 432x288 with 1 Axes>"
            ]
          },
          "metadata": {},
          "output_type": "display_data"
        }
      ]
    },
    {
      "cell_type": "code",
      "metadata": {
        "colab": {
          "base_uri": "https://localhost:8080/",
          "height": 490
        },
        "id": "iuCDh0yG-1j8",
        "outputId": "614074f4-36f2-4af4-9616-80d781b01751"
      },
      "source": [
        "# let's explore the importance of the features\n",
        "\n",
        "importance = pd.Series(np.abs(fisheries_pipe.named_steps['classifier'].feature_importances_))\n",
        "importance.index = list(X_train.columns) \n",
        "importance.sort_values(inplace=True, ascending=False)\n",
        "importance.plot.bar(figsize=(18,6))\n"
      ],
      "execution_count": null,
      "outputs": [
        {
          "data": {
            "text/plain": [
              "<matplotlib.axes._subplots.AxesSubplot at 0x7f686086c190>"
            ]
          },
          "execution_count": 239,
          "metadata": {},
          "output_type": "execute_result"
        },
        {
          "data": {
            "image/png": "[encoded data removed]",
            "text/plain": [
              "<Figure size 1296x432 with 1 Axes>"
            ]
          },
          "metadata": {},
          "output_type": "display_data"
        }
      ]
    },
    {
      "cell_type": "code",
      "metadata": {
        "colab": {
          "background_save": true,
          "base_uri": "https://localhost:8080/"
        },
        "id": "Zy3WQ42lQzwi",
        "outputId": "418154a3-b0f7-4ebb-c388-1cc69cb30784"
      },
      "source": [
        "print(X_test_preds)"
      ],
      "execution_count": null,
      "outputs": [
        {
          "data": {
            "text/plain": [
              "array([  80.52510546, 4146.00819134,  376.74331345, ...,   25.65437041,\n",
              "         72.13179902,  916.87298565])"
            ]
          },
          "execution_count": null,
          "metadata": {},
          "output_type": "execute_result"
        }
      ]
    }
  ]
}