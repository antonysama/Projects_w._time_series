{
  "nbformat": 4,
  "nbformat_minor": 0,
  "metadata": {
    "colab": {
      "name": "Fisheries_feature_selection.ipynb",
      "provenance": [],
      "collapsed_sections": [],
      "machine_shape": "hm",
      "include_colab_link": true
    },
    "kernelspec": {
      "name": "python3",
      "display_name": "Python 3"
    },
    "accelerator": "TPU"
  },
  "cells": [
    {
      "cell_type": "markdown",
      "metadata": {
        "id": "view-in-github",
        "colab_type": "text"
      },
      "source": [
        "<a href=\"https://colab.research.google.com/github/antonysama/Projects_w._time_series/blob/master/Fisheries_feature_selection.ipynb\" target=\"_parent\"><img src=\"https://colab.research.google.com/assets/colab-badge.svg\" alt=\"Open In Colab\"/></a>"
      ]
    },
    {
      "cell_type": "markdown",
      "source": [
        "References:\n",
        "https://github.com/solegalli/feature-selection-for-machine-learning/blob/master/06-Filter-other-metrics/06.2-Method-used-in-a-KDD-competition.ipynb"
      ],
      "metadata": {
        "id": "lUsP91jC39iT"
      }
    },
    {
      "cell_type": "code",
      "metadata": {
        "id": "pafL7Li0jyXW"
      },
      "source": [
        "#import libraries\n",
        "import pandas as pd\n",
        "import numpy as np\n",
        "from sklearn.model_selection import train_test_split\n",
        "from sklearn.metrics import r2_score"
      ],
      "execution_count": null,
      "outputs": []
    },
    {
      "cell_type": "code",
      "source": [
        "from google.colab import drive\n",
        "drive.mount('/content/drive')"
      ],
      "metadata": {
        "colab": {
          "base_uri": "https://localhost:8080/"
        },
        "id": "sPecZnnuuPNe",
        "outputId": "93ed0c3a-f82f-4f85-f036-c1ac62352cbb"
      },
      "execution_count": null,
      "outputs": [
        {
          "output_type": "stream",
          "name": "stdout",
          "text": [
            "Drive already mounted at /content/drive; to attempt to forcibly remount, call drive.mount(\"/content/drive\", force_remount=True).\n"
          ]
        }
      ]
    },
    {
      "cell_type": "code",
      "source": [
        "# load dataset\n",
        "fields = ['SPECIES','STORAGE_TYPE','GEAR_NME','MGMT_AREA','LICENCE_AREA','DATE','Vessel ID Number','GEAR_CDE','SUB_AREA'\n",
        ",'SA_ORIGIN','Nominal_Value','KG_PIECE','Nominal_PRICE_PIECE']\n",
        "data=pd.read_csv('drive/MyDrive/q2.csv', error_bad_lines=False,usecols=fields)\n",
        "print(data.shape)\n",
        "data.head(2)"
      ],
      "metadata": {
        "colab": {
          "base_uri": "https://localhost:8080/",
          "height": 164
        },
        "id": "kKlt8Td1Qba9",
        "outputId": "2ab1ae0d-963e-44b6-b37c-7d8705ac3ba4"
      },
      "execution_count": null,
      "outputs": [
        {
          "output_type": "stream",
          "name": "stdout",
          "text": [
            "(566739, 13)\n"
          ]
        },
        {
          "output_type": "stream",
          "name": "stderr",
          "text": [
            "/usr/local/lib/python3.7/dist-packages/IPython/core/interactiveshell.py:2718: DtypeWarning: Columns (7) have mixed types.Specify dtype option on import or set low_memory=False.\n",
            "  interactivity=interactivity, compiler=compiler, result=result)\n"
          ]
        },
        {
          "output_type": "execute_result",
          "data": {
            "text/html": [
              "\n",
              "  <div id=\"df-750a8bf9-8a40-446b-8634-5956eb8b69e6\">\n",
              "    <div class=\"colab-df-container\">\n",
              "      <div>\n",
              "<style scoped>\n",
              "    .dataframe tbody tr th:only-of-type {\n",
              "        vertical-align: middle;\n",
              "    }\n",
              "\n",
              "    .dataframe tbody tr th {\n",
              "        vertical-align: top;\n",
              "    }\n",
              "\n",
              "    .dataframe thead th {\n",
              "        text-align: right;\n",
              "    }\n",
              "</style>\n",
              "<table border=\"1\" class=\"dataframe\">\n",
              "  <thead>\n",
              "    <tr style=\"text-align: right;\">\n",
              "      <th></th>\n",
              "      <th>SPECIES</th>\n",
              "      <th>STORAGE_TYPE</th>\n",
              "      <th>GEAR_NME</th>\n",
              "      <th>MGMT_AREA</th>\n",
              "      <th>LICENCE_AREA</th>\n",
              "      <th>DATE</th>\n",
              "      <th>Vessel ID Number</th>\n",
              "      <th>GEAR_CDE</th>\n",
              "      <th>SUB_AREA</th>\n",
              "      <th>SA_ORIGIN</th>\n",
              "      <th>KG_PIECE</th>\n",
              "      <th>Nominal_PRICE_PIECE</th>\n",
              "      <th>Nominal_Value</th>\n",
              "    </tr>\n",
              "  </thead>\n",
              "  <tbody>\n",
              "    <tr>\n",
              "      <th>0</th>\n",
              "      <td>CHUM SALMON</td>\n",
              "      <td>UNKNOWN</td>\n",
              "      <td>SEINE</td>\n",
              "      <td>13</td>\n",
              "      <td>SALMON AREA B</td>\n",
              "      <td>10/17/2016</td>\n",
              "      <td>4856</td>\n",
              "      <td>20</td>\n",
              "      <td>28</td>\n",
              "      <td>LOG_BOOK</td>\n",
              "      <td>4.391591</td>\n",
              "      <td>8.540229</td>\n",
              "      <td>227298.1995</td>\n",
              "    </tr>\n",
              "    <tr>\n",
              "      <th>1</th>\n",
              "      <td>CHUM SALMON</td>\n",
              "      <td>UNKNOWN</td>\n",
              "      <td>SEINE</td>\n",
              "      <td>14</td>\n",
              "      <td>SALMON AREA B</td>\n",
              "      <td>11/6/2011</td>\n",
              "      <td>3980</td>\n",
              "      <td>20</td>\n",
              "      <td>4</td>\n",
              "      <td>LOG_BOOK</td>\n",
              "      <td>4.595482</td>\n",
              "      <td>8.611520</td>\n",
              "      <td>215287.9969</td>\n",
              "    </tr>\n",
              "  </tbody>\n",
              "</table>\n",
              "</div>\n",
              "      <button class=\"colab-df-convert\" onclick=\"convertToInteractive('df-750a8bf9-8a40-446b-8634-5956eb8b69e6')\"\n",
              "              title=\"Convert this dataframe to an interactive table.\"\n",
              "              style=\"display:none;\">\n",
              "        \n",
              "  <svg xmlns=\"http://www.w3.org/2000/svg\" height=\"24px\"viewBox=\"0 0 24 24\"\n",
              "       width=\"24px\">\n",
              "    <path d=\"M0 0h24v24H0V0z\" fill=\"none\"/>\n",
              "    <path d=\"M18.56 5.44l.94 2.06.94-2.06 2.06-.94-2.06-.94-.94-2.06-.94 2.06-2.06.94zm-11 1L8.5 8.5l.94-2.06 2.06-.94-2.06-.94L8.5 2.5l-.94 2.06-2.06.94zm10 10l.94 2.06.94-2.06 2.06-.94-2.06-.94-.94-2.06-.94 2.06-2.06.94z\"/><path d=\"M17.41 7.96l-1.37-1.37c-.4-.4-.92-.59-1.43-.59-.52 0-1.04.2-1.43.59L10.3 9.45l-7.72 7.72c-.78.78-.78 2.05 0 2.83L4 21.41c.39.39.9.59 1.41.59.51 0 1.02-.2 1.41-.59l7.78-7.78 2.81-2.81c.8-.78.8-2.07 0-2.86zM5.41 20L4 18.59l7.72-7.72 1.47 1.35L5.41 20z\"/>\n",
              "  </svg>\n",
              "      </button>\n",
              "      \n",
              "  <style>\n",
              "    .colab-df-container {\n",
              "      display:flex;\n",
              "      flex-wrap:wrap;\n",
              "      gap: 12px;\n",
              "    }\n",
              "\n",
              "    .colab-df-convert {\n",
              "      background-color: #E8F0FE;\n",
              "      border: none;\n",
              "      border-radius: 50%;\n",
              "      cursor: pointer;\n",
              "      display: none;\n",
              "      fill: #1967D2;\n",
              "      height: 32px;\n",
              "      padding: 0 0 0 0;\n",
              "      width: 32px;\n",
              "    }\n",
              "\n",
              "    .colab-df-convert:hover {\n",
              "      background-color: #E2EBFA;\n",
              "      box-shadow: 0px 1px 2px rgba(60, 64, 67, 0.3), 0px 1px 3px 1px rgba(60, 64, 67, 0.15);\n",
              "      fill: #174EA6;\n",
              "    }\n",
              "\n",
              "    [theme=dark] .colab-df-convert {\n",
              "      background-color: #3B4455;\n",
              "      fill: #D2E3FC;\n",
              "    }\n",
              "\n",
              "    [theme=dark] .colab-df-convert:hover {\n",
              "      background-color: #434B5C;\n",
              "      box-shadow: 0px 1px 3px 1px rgba(0, 0, 0, 0.15);\n",
              "      filter: drop-shadow(0px 1px 2px rgba(0, 0, 0, 0.3));\n",
              "      fill: #FFFFFF;\n",
              "    }\n",
              "  </style>\n",
              "\n",
              "      <script>\n",
              "        const buttonEl =\n",
              "          document.querySelector('#df-750a8bf9-8a40-446b-8634-5956eb8b69e6 button.colab-df-convert');\n",
              "        buttonEl.style.display =\n",
              "          google.colab.kernel.accessAllowed ? 'block' : 'none';\n",
              "\n",
              "        async function convertToInteractive(key) {\n",
              "          const element = document.querySelector('#df-750a8bf9-8a40-446b-8634-5956eb8b69e6');\n",
              "          const dataTable =\n",
              "            await google.colab.kernel.invokeFunction('convertToInteractive',\n",
              "                                                     [key], {});\n",
              "          if (!dataTable) return;\n",
              "\n",
              "          const docLinkHtml = 'Like what you see? Visit the ' +\n",
              "            '<a target=\"_blank\" href=https://colab.research.google.com/notebooks/data_table.ipynb>data table notebook</a>'\n",
              "            + ' to learn more about interactive tables.';\n",
              "          element.innerHTML = '';\n",
              "          dataTable['output_type'] = 'display_data';\n",
              "          await google.colab.output.renderOutput(dataTable, element);\n",
              "          const docLink = document.createElement('div');\n",
              "          docLink.innerHTML = docLinkHtml;\n",
              "          element.appendChild(docLink);\n",
              "        }\n",
              "      </script>\n",
              "    </div>\n",
              "  </div>\n",
              "  "
            ],
            "text/plain": [
              "       SPECIES STORAGE_TYPE  ... Nominal_PRICE_PIECE  Nominal_Value\n",
              "0  CHUM SALMON      UNKNOWN  ...            8.540229    227298.1995\n",
              "1  CHUM SALMON      UNKNOWN  ...            8.611520    215287.9969\n",
              "\n",
              "[2 rows x 13 columns]"
            ]
          },
          "metadata": {},
          "execution_count": 111
        }
      ]
    },
    {
      "cell_type": "code",
      "source": [
        "# Disaggregate the date \n",
        "data[[\"month\", \"day\", \"year\"]] = data[\"DATE\"].str.split(\"/\", expand = True)\n",
        "data.drop(['DATE'], axis=1 , inplace=True) # nex time, don't drop 'day'\n",
        "data.head(2)\n"
      ],
      "metadata": {
        "colab": {
          "base_uri": "https://localhost:8080/",
          "height": 112
        },
        "id": "fcvM6CrjQmFw",
        "outputId": "4413c6b0-88c4-4c85-9e59-5c0981df3f0e"
      },
      "execution_count": null,
      "outputs": [
        {
          "output_type": "execute_result",
          "data": {
            "text/html": [
              "\n",
              "  <div id=\"df-948e78ca-f29d-4631-aea1-0a0cbcb42e0b\">\n",
              "    <div class=\"colab-df-container\">\n",
              "      <div>\n",
              "<style scoped>\n",
              "    .dataframe tbody tr th:only-of-type {\n",
              "        vertical-align: middle;\n",
              "    }\n",
              "\n",
              "    .dataframe tbody tr th {\n",
              "        vertical-align: top;\n",
              "    }\n",
              "\n",
              "    .dataframe thead th {\n",
              "        text-align: right;\n",
              "    }\n",
              "</style>\n",
              "<table border=\"1\" class=\"dataframe\">\n",
              "  <thead>\n",
              "    <tr style=\"text-align: right;\">\n",
              "      <th></th>\n",
              "      <th>SPECIES</th>\n",
              "      <th>STORAGE_TYPE</th>\n",
              "      <th>GEAR_NME</th>\n",
              "      <th>MGMT_AREA</th>\n",
              "      <th>LICENCE_AREA</th>\n",
              "      <th>Vessel ID Number</th>\n",
              "      <th>GEAR_CDE</th>\n",
              "      <th>SUB_AREA</th>\n",
              "      <th>SA_ORIGIN</th>\n",
              "      <th>KG_PIECE</th>\n",
              "      <th>Nominal_PRICE_PIECE</th>\n",
              "      <th>Nominal_Value</th>\n",
              "      <th>month</th>\n",
              "      <th>day</th>\n",
              "      <th>year</th>\n",
              "    </tr>\n",
              "  </thead>\n",
              "  <tbody>\n",
              "    <tr>\n",
              "      <th>0</th>\n",
              "      <td>CHUM SALMON</td>\n",
              "      <td>UNKNOWN</td>\n",
              "      <td>SEINE</td>\n",
              "      <td>13</td>\n",
              "      <td>SALMON AREA B</td>\n",
              "      <td>4856</td>\n",
              "      <td>20</td>\n",
              "      <td>28</td>\n",
              "      <td>LOG_BOOK</td>\n",
              "      <td>4.391591</td>\n",
              "      <td>8.540229</td>\n",
              "      <td>227298.1995</td>\n",
              "      <td>10</td>\n",
              "      <td>17</td>\n",
              "      <td>2016</td>\n",
              "    </tr>\n",
              "    <tr>\n",
              "      <th>1</th>\n",
              "      <td>CHUM SALMON</td>\n",
              "      <td>UNKNOWN</td>\n",
              "      <td>SEINE</td>\n",
              "      <td>14</td>\n",
              "      <td>SALMON AREA B</td>\n",
              "      <td>3980</td>\n",
              "      <td>20</td>\n",
              "      <td>4</td>\n",
              "      <td>LOG_BOOK</td>\n",
              "      <td>4.595482</td>\n",
              "      <td>8.611520</td>\n",
              "      <td>215287.9969</td>\n",
              "      <td>11</td>\n",
              "      <td>6</td>\n",
              "      <td>2011</td>\n",
              "    </tr>\n",
              "  </tbody>\n",
              "</table>\n",
              "</div>\n",
              "      <button class=\"colab-df-convert\" onclick=\"convertToInteractive('df-948e78ca-f29d-4631-aea1-0a0cbcb42e0b')\"\n",
              "              title=\"Convert this dataframe to an interactive table.\"\n",
              "              style=\"display:none;\">\n",
              "        \n",
              "  <svg xmlns=\"http://www.w3.org/2000/svg\" height=\"24px\"viewBox=\"0 0 24 24\"\n",
              "       width=\"24px\">\n",
              "    <path d=\"M0 0h24v24H0V0z\" fill=\"none\"/>\n",
              "    <path d=\"M18.56 5.44l.94 2.06.94-2.06 2.06-.94-2.06-.94-.94-2.06-.94 2.06-2.06.94zm-11 1L8.5 8.5l.94-2.06 2.06-.94-2.06-.94L8.5 2.5l-.94 2.06-2.06.94zm10 10l.94 2.06.94-2.06 2.06-.94-2.06-.94-.94-2.06-.94 2.06-2.06.94z\"/><path d=\"M17.41 7.96l-1.37-1.37c-.4-.4-.92-.59-1.43-.59-.52 0-1.04.2-1.43.59L10.3 9.45l-7.72 7.72c-.78.78-.78 2.05 0 2.83L4 21.41c.39.39.9.59 1.41.59.51 0 1.02-.2 1.41-.59l7.78-7.78 2.81-2.81c.8-.78.8-2.07 0-2.86zM5.41 20L4 18.59l7.72-7.72 1.47 1.35L5.41 20z\"/>\n",
              "  </svg>\n",
              "      </button>\n",
              "      \n",
              "  <style>\n",
              "    .colab-df-container {\n",
              "      display:flex;\n",
              "      flex-wrap:wrap;\n",
              "      gap: 12px;\n",
              "    }\n",
              "\n",
              "    .colab-df-convert {\n",
              "      background-color: #E8F0FE;\n",
              "      border: none;\n",
              "      border-radius: 50%;\n",
              "      cursor: pointer;\n",
              "      display: none;\n",
              "      fill: #1967D2;\n",
              "      height: 32px;\n",
              "      padding: 0 0 0 0;\n",
              "      width: 32px;\n",
              "    }\n",
              "\n",
              "    .colab-df-convert:hover {\n",
              "      background-color: #E2EBFA;\n",
              "      box-shadow: 0px 1px 2px rgba(60, 64, 67, 0.3), 0px 1px 3px 1px rgba(60, 64, 67, 0.15);\n",
              "      fill: #174EA6;\n",
              "    }\n",
              "\n",
              "    [theme=dark] .colab-df-convert {\n",
              "      background-color: #3B4455;\n",
              "      fill: #D2E3FC;\n",
              "    }\n",
              "\n",
              "    [theme=dark] .colab-df-convert:hover {\n",
              "      background-color: #434B5C;\n",
              "      box-shadow: 0px 1px 3px 1px rgba(0, 0, 0, 0.15);\n",
              "      filter: drop-shadow(0px 1px 2px rgba(0, 0, 0, 0.3));\n",
              "      fill: #FFFFFF;\n",
              "    }\n",
              "  </style>\n",
              "\n",
              "      <script>\n",
              "        const buttonEl =\n",
              "          document.querySelector('#df-948e78ca-f29d-4631-aea1-0a0cbcb42e0b button.colab-df-convert');\n",
              "        buttonEl.style.display =\n",
              "          google.colab.kernel.accessAllowed ? 'block' : 'none';\n",
              "\n",
              "        async function convertToInteractive(key) {\n",
              "          const element = document.querySelector('#df-948e78ca-f29d-4631-aea1-0a0cbcb42e0b');\n",
              "          const dataTable =\n",
              "            await google.colab.kernel.invokeFunction('convertToInteractive',\n",
              "                                                     [key], {});\n",
              "          if (!dataTable) return;\n",
              "\n",
              "          const docLinkHtml = 'Like what you see? Visit the ' +\n",
              "            '<a target=\"_blank\" href=https://colab.research.google.com/notebooks/data_table.ipynb>data table notebook</a>'\n",
              "            + ' to learn more about interactive tables.';\n",
              "          element.innerHTML = '';\n",
              "          dataTable['output_type'] = 'display_data';\n",
              "          await google.colab.output.renderOutput(dataTable, element);\n",
              "          const docLink = document.createElement('div');\n",
              "          docLink.innerHTML = docLinkHtml;\n",
              "          element.appendChild(docLink);\n",
              "        }\n",
              "      </script>\n",
              "    </div>\n",
              "  </div>\n",
              "  "
            ],
            "text/plain": [
              "       SPECIES STORAGE_TYPE GEAR_NME  MGMT_AREA  ... Nominal_Value month  day  year\n",
              "0  CHUM SALMON      UNKNOWN    SEINE         13  ...   227298.1995    10   17  2016\n",
              "1  CHUM SALMON      UNKNOWN    SEINE         14  ...   215287.9969    11    6  2011\n",
              "\n",
              "[2 rows x 15 columns]"
            ]
          },
          "metadata": {},
          "execution_count": 112
        }
      ]
    },
    {
      "cell_type": "code",
      "source": [
        "data.isnull().mean()"
      ],
      "metadata": {
        "id": "AYXXoEcuueWu",
        "colab": {
          "base_uri": "https://localhost:8080/"
        },
        "outputId": "7d6a4595-3121-4dc0-c5ee-1d8655f7a80a"
      },
      "execution_count": null,
      "outputs": [
        {
          "output_type": "execute_result",
          "data": {
            "text/plain": [
              "SPECIES                0.0\n",
              "STORAGE_TYPE           0.0\n",
              "GEAR_NME               0.0\n",
              "MGMT_AREA              0.0\n",
              "LICENCE_AREA           0.0\n",
              "Vessel ID Number       0.0\n",
              "GEAR_CDE               0.0\n",
              "SUB_AREA               0.0\n",
              "SA_ORIGIN              0.0\n",
              "KG_PIECE               0.0\n",
              "Nominal_PRICE_PIECE    0.0\n",
              "Nominal_Value          0.0\n",
              "month                  0.0\n",
              "day                    0.0\n",
              "year                   0.0\n",
              "dtype: float64"
            ]
          },
          "metadata": {},
          "execution_count": 113
        }
      ]
    },
    {
      "cell_type": "code",
      "source": [
        "# Inspected the type of variables in pandas, \n",
        "# change as appropriate\n",
        "for col in ['MGMT_AREA','GEAR_CDE','SUB_AREA']:\n",
        "    data[col] = data[col].astype(object)\n",
        "for col in ['month','day','year']:\n",
        "    data[col] = data[col].astype(int)\n",
        "data.dtypes"
      ],
      "metadata": {
        "id": "mlvL8mgQRUO1",
        "colab": {
          "base_uri": "https://localhost:8080/"
        },
        "outputId": "f8ca8661-07ec-4956-bc0a-197e258d8898"
      },
      "execution_count": null,
      "outputs": [
        {
          "output_type": "execute_result",
          "data": {
            "text/plain": [
              "SPECIES                 object\n",
              "STORAGE_TYPE            object\n",
              "GEAR_NME                object\n",
              "MGMT_AREA               object\n",
              "LICENCE_AREA            object\n",
              "Vessel ID Number        object\n",
              "GEAR_CDE                object\n",
              "SUB_AREA                object\n",
              "SA_ORIGIN               object\n",
              "KG_PIECE               float64\n",
              "Nominal_PRICE_PIECE    float64\n",
              "Nominal_Value          float64\n",
              "month                    int64\n",
              "day                      int64\n",
              "year                     int64\n",
              "dtype: object"
            ]
          },
          "metadata": {},
          "execution_count": 114
        }
      ]
    },
    {
      "cell_type": "code",
      "source": [
        "# find categorical variables\n",
        "categorical = [var for var in data.columns if data[var].dtype=='O']\n",
        "print('There are {} categorical variables'.format(len(categorical)))\n",
        "categorical"
      ],
      "metadata": {
        "colab": {
          "base_uri": "https://localhost:8080/"
        },
        "id": "ufvR3KBCRXCO",
        "outputId": "66b4d86b-02b0-4ff2-8616-663dbcbad08a"
      },
      "execution_count": null,
      "outputs": [
        {
          "output_type": "stream",
          "name": "stdout",
          "text": [
            "There are 9 categorical variables\n"
          ]
        },
        {
          "output_type": "execute_result",
          "data": {
            "text/plain": [
              "['SPECIES',\n",
              " 'STORAGE_TYPE',\n",
              " 'GEAR_NME',\n",
              " 'MGMT_AREA',\n",
              " 'LICENCE_AREA',\n",
              " 'Vessel ID Number',\n",
              " 'GEAR_CDE',\n",
              " 'SUB_AREA',\n",
              " 'SA_ORIGIN']"
            ]
          },
          "metadata": {},
          "execution_count": 115
        }
      ]
    },
    {
      "cell_type": "code",
      "source": [
        "# make a list of the numerical variables first\n",
        "numerical = [var for var in data.columns if data[var].dtype!='O']\n",
        "numerical"
      ],
      "metadata": {
        "colab": {
          "base_uri": "https://localhost:8080/"
        },
        "id": "JmnfGBO4RctB",
        "outputId": "3ba0d413-1e0d-47c3-a067-d6345557bfd0"
      },
      "execution_count": null,
      "outputs": [
        {
          "output_type": "execute_result",
          "data": {
            "text/plain": [
              "['KG_PIECE', 'Nominal_PRICE_PIECE', 'Nominal_Value', 'month', 'day', 'year']"
            ]
          },
          "metadata": {},
          "execution_count": 116
        }
      ]
    },
    {
      "cell_type": "markdown",
      "source": [
        "### Feature Seclection on Categorical Variables"
      ],
      "metadata": {
        "id": "PvLn65MldDFT"
      }
    },
    {
      "cell_type": "code",
      "source": [
        "# train-test split\n",
        "#Include the determinant (target variable) in X and in Y\n",
        "\n",
        "X_train, X_test, y_train, y_test = train_test_split(\n",
        "    data[categorical+['Nominal_Value']],\n",
        "    data['Nominal_Value'],\n",
        "    test_size=0.3,\n",
        "    random_state=0)\n",
        "\n",
        "X_train.shape, X_test.shape"
      ],
      "metadata": {
        "colab": {
          "base_uri": "https://localhost:8080/"
        },
        "id": "3Q-KWPg8cNT6",
        "outputId": "f9bc0b02-29bc-4e9c-85e0-bb8797d8f391"
      },
      "execution_count": null,
      "outputs": [
        {
          "output_type": "execute_result",
          "data": {
            "text/plain": [
              "((396717, 10), (170022, 10))"
            ]
          },
          "metadata": {},
          "execution_count": 147
        }
      ]
    },
    {
      "cell_type": "markdown",
      "source": [
        "###Replace categories by target variable mean for each variable"
      ],
      "metadata": {
        "id": "6n6Cja7gdPTi"
      }
    },
    {
      "cell_type": "code",
      "source": [
        "# function that determines the target mean per category\n",
        "\n",
        "def mean_encoding(df_train, df_test, categorical):\n",
        "    \n",
        "    # temporary copy of the original dataframes\n",
        "    df_train_temp = df_train.copy()\n",
        "    df_test_temp = df_test.copy()\n",
        "    \n",
        "    # iterate over each variable\n",
        "    for col in categorical:\n",
        "        \n",
        "        # make a dictionary of categories, target-mean pairs\n",
        "        target_mean_dict = df_train.groupby([col])['Nominal_Value'].mean().to_dict()\n",
        "        \n",
        "        # replace the categories by the mean of the target\n",
        "        df_train_temp[col] = df_train[col].map(target_mean_dict)\n",
        "        df_test_temp[col] = df_test[col].map(target_mean_dict)\n",
        "    \n",
        "    # drop the target from the daatset\n",
        "    df_train_temp.drop(['Nominal_Value'], axis=1, inplace=True)\n",
        "    df_test_temp.drop(['Nominal_Value'], axis=1, inplace=True)\n",
        "    \n",
        "    # return  remapped datasets\n",
        "    return df_train_temp, df_test_temp"
      ],
      "metadata": {
        "id": "Uo3uygfedh90"
      },
      "execution_count": null,
      "outputs": []
    },
    {
      "cell_type": "code",
      "source": [
        "X_train_enc, X_test_enc = mean_encoding(X_train, X_test, categorical)\n",
        "\n",
        "X_train_enc.head(2)"
      ],
      "metadata": {
        "colab": {
          "base_uri": "https://localhost:8080/",
          "height": 112
        },
        "id": "uVE1vACUd7OA",
        "outputId": "b002a77d-e273-4849-ba79-571882f4b271"
      },
      "execution_count": null,
      "outputs": [
        {
          "output_type": "execute_result",
          "data": {
            "text/html": [
              "\n",
              "  <div id=\"df-254c0fca-111a-4f12-bcea-2835cda8397a\">\n",
              "    <div class=\"colab-df-container\">\n",
              "      <div>\n",
              "<style scoped>\n",
              "    .dataframe tbody tr th:only-of-type {\n",
              "        vertical-align: middle;\n",
              "    }\n",
              "\n",
              "    .dataframe tbody tr th {\n",
              "        vertical-align: top;\n",
              "    }\n",
              "\n",
              "    .dataframe thead th {\n",
              "        text-align: right;\n",
              "    }\n",
              "</style>\n",
              "<table border=\"1\" class=\"dataframe\">\n",
              "  <thead>\n",
              "    <tr style=\"text-align: right;\">\n",
              "      <th></th>\n",
              "      <th>SPECIES</th>\n",
              "      <th>STORAGE_TYPE</th>\n",
              "      <th>GEAR_NME</th>\n",
              "      <th>MGMT_AREA</th>\n",
              "      <th>LICENCE_AREA</th>\n",
              "      <th>Vessel ID Number</th>\n",
              "      <th>GEAR_CDE</th>\n",
              "      <th>SUB_AREA</th>\n",
              "      <th>SA_ORIGIN</th>\n",
              "    </tr>\n",
              "  </thead>\n",
              "  <tbody>\n",
              "    <tr>\n",
              "      <th>206832</th>\n",
              "      <td>329.345449</td>\n",
              "      <td>255.3737</td>\n",
              "      <td>251.201689</td>\n",
              "      <td>155.40082</td>\n",
              "      <td>247.201798</td>\n",
              "      <td>236.121252</td>\n",
              "      <td>255.3737</td>\n",
              "      <td>346.719967</td>\n",
              "      <td>107.980496</td>\n",
              "    </tr>\n",
              "    <tr>\n",
              "      <th>317348</th>\n",
              "      <td>180.609684</td>\n",
              "      <td>255.3737</td>\n",
              "      <td>251.201689</td>\n",
              "      <td>180.97203</td>\n",
              "      <td>224.081796</td>\n",
              "      <td>133.210774</td>\n",
              "      <td>255.3737</td>\n",
              "      <td>336.894549</td>\n",
              "      <td>107.980496</td>\n",
              "    </tr>\n",
              "  </tbody>\n",
              "</table>\n",
              "</div>\n",
              "      <button class=\"colab-df-convert\" onclick=\"convertToInteractive('df-254c0fca-111a-4f12-bcea-2835cda8397a')\"\n",
              "              title=\"Convert this dataframe to an interactive table.\"\n",
              "              style=\"display:none;\">\n",
              "        \n",
              "  <svg xmlns=\"http://www.w3.org/2000/svg\" height=\"24px\"viewBox=\"0 0 24 24\"\n",
              "       width=\"24px\">\n",
              "    <path d=\"M0 0h24v24H0V0z\" fill=\"none\"/>\n",
              "    <path d=\"M18.56 5.44l.94 2.06.94-2.06 2.06-.94-2.06-.94-.94-2.06-.94 2.06-2.06.94zm-11 1L8.5 8.5l.94-2.06 2.06-.94-2.06-.94L8.5 2.5l-.94 2.06-2.06.94zm10 10l.94 2.06.94-2.06 2.06-.94-2.06-.94-.94-2.06-.94 2.06-2.06.94z\"/><path d=\"M17.41 7.96l-1.37-1.37c-.4-.4-.92-.59-1.43-.59-.52 0-1.04.2-1.43.59L10.3 9.45l-7.72 7.72c-.78.78-.78 2.05 0 2.83L4 21.41c.39.39.9.59 1.41.59.51 0 1.02-.2 1.41-.59l7.78-7.78 2.81-2.81c.8-.78.8-2.07 0-2.86zM5.41 20L4 18.59l7.72-7.72 1.47 1.35L5.41 20z\"/>\n",
              "  </svg>\n",
              "      </button>\n",
              "      \n",
              "  <style>\n",
              "    .colab-df-container {\n",
              "      display:flex;\n",
              "      flex-wrap:wrap;\n",
              "      gap: 12px;\n",
              "    }\n",
              "\n",
              "    .colab-df-convert {\n",
              "      background-color: #E8F0FE;\n",
              "      border: none;\n",
              "      border-radius: 50%;\n",
              "      cursor: pointer;\n",
              "      display: none;\n",
              "      fill: #1967D2;\n",
              "      height: 32px;\n",
              "      padding: 0 0 0 0;\n",
              "      width: 32px;\n",
              "    }\n",
              "\n",
              "    .colab-df-convert:hover {\n",
              "      background-color: #E2EBFA;\n",
              "      box-shadow: 0px 1px 2px rgba(60, 64, 67, 0.3), 0px 1px 3px 1px rgba(60, 64, 67, 0.15);\n",
              "      fill: #174EA6;\n",
              "    }\n",
              "\n",
              "    [theme=dark] .colab-df-convert {\n",
              "      background-color: #3B4455;\n",
              "      fill: #D2E3FC;\n",
              "    }\n",
              "\n",
              "    [theme=dark] .colab-df-convert:hover {\n",
              "      background-color: #434B5C;\n",
              "      box-shadow: 0px 1px 3px 1px rgba(0, 0, 0, 0.15);\n",
              "      filter: drop-shadow(0px 1px 2px rgba(0, 0, 0, 0.3));\n",
              "      fill: #FFFFFF;\n",
              "    }\n",
              "  </style>\n",
              "\n",
              "      <script>\n",
              "        const buttonEl =\n",
              "          document.querySelector('#df-254c0fca-111a-4f12-bcea-2835cda8397a button.colab-df-convert');\n",
              "        buttonEl.style.display =\n",
              "          google.colab.kernel.accessAllowed ? 'block' : 'none';\n",
              "\n",
              "        async function convertToInteractive(key) {\n",
              "          const element = document.querySelector('#df-254c0fca-111a-4f12-bcea-2835cda8397a');\n",
              "          const dataTable =\n",
              "            await google.colab.kernel.invokeFunction('convertToInteractive',\n",
              "                                                     [key], {});\n",
              "          if (!dataTable) return;\n",
              "\n",
              "          const docLinkHtml = 'Like what you see? Visit the ' +\n",
              "            '<a target=\"_blank\" href=https://colab.research.google.com/notebooks/data_table.ipynb>data table notebook</a>'\n",
              "            + ' to learn more about interactive tables.';\n",
              "          element.innerHTML = '';\n",
              "          dataTable['output_type'] = 'display_data';\n",
              "          await google.colab.output.renderOutput(dataTable, element);\n",
              "          const docLink = document.createElement('div');\n",
              "          docLink.innerHTML = docLinkHtml;\n",
              "          element.appendChild(docLink);\n",
              "        }\n",
              "      </script>\n",
              "    </div>\n",
              "  </div>\n",
              "  "
            ],
            "text/plain": [
              "           SPECIES  STORAGE_TYPE    GEAR_NME  ...  GEAR_CDE    SUB_AREA   SA_ORIGIN\n",
              "206832  329.345449      255.3737  251.201689  ...  255.3737  346.719967  107.980496\n",
              "317348  180.609684      255.3737  251.201689  ...  255.3737  336.894549  107.980496\n",
              "\n",
              "[2 rows x 9 columns]"
            ]
          },
          "metadata": {},
          "execution_count": 148
        }
      ]
    },
    {
      "cell_type": "code",
      "source": [
        "X_test_enc.head(2)"
      ],
      "metadata": {
        "colab": {
          "base_uri": "https://localhost:8080/",
          "height": 112
        },
        "id": "nzMx4f_yfe0B",
        "outputId": "19043091-adfe-406d-c42d-82805c7c69fd"
      },
      "execution_count": null,
      "outputs": [
        {
          "output_type": "execute_result",
          "data": {
            "text/html": [
              "\n",
              "  <div id=\"df-de56b0bc-5fdf-41ae-b2a5-1844ba73944b\">\n",
              "    <div class=\"colab-df-container\">\n",
              "      <div>\n",
              "<style scoped>\n",
              "    .dataframe tbody tr th:only-of-type {\n",
              "        vertical-align: middle;\n",
              "    }\n",
              "\n",
              "    .dataframe tbody tr th {\n",
              "        vertical-align: top;\n",
              "    }\n",
              "\n",
              "    .dataframe thead th {\n",
              "        text-align: right;\n",
              "    }\n",
              "</style>\n",
              "<table border=\"1\" class=\"dataframe\">\n",
              "  <thead>\n",
              "    <tr style=\"text-align: right;\">\n",
              "      <th></th>\n",
              "      <th>SPECIES</th>\n",
              "      <th>STORAGE_TYPE</th>\n",
              "      <th>GEAR_NME</th>\n",
              "      <th>MGMT_AREA</th>\n",
              "      <th>LICENCE_AREA</th>\n",
              "      <th>Vessel ID Number</th>\n",
              "      <th>GEAR_CDE</th>\n",
              "      <th>SUB_AREA</th>\n",
              "      <th>SA_ORIGIN</th>\n",
              "    </tr>\n",
              "  </thead>\n",
              "  <tbody>\n",
              "    <tr>\n",
              "      <th>253449</th>\n",
              "      <td>1336.932097</td>\n",
              "      <td>247.574219</td>\n",
              "      <td>251.201689</td>\n",
              "      <td>1230.927365</td>\n",
              "      <td>778.415119</td>\n",
              "      <td>197.940963</td>\n",
              "      <td>247.574219</td>\n",
              "      <td>2242.523098</td>\n",
              "      <td>107.980496</td>\n",
              "    </tr>\n",
              "    <tr>\n",
              "      <th>22329</th>\n",
              "      <td>1336.932097</td>\n",
              "      <td>799.097647</td>\n",
              "      <td>386.870942</td>\n",
              "      <td>1140.309955</td>\n",
              "      <td>637.259081</td>\n",
              "      <td>649.823505</td>\n",
              "      <td>386.870942</td>\n",
              "      <td>1138.786652</td>\n",
              "      <td>857.256263</td>\n",
              "    </tr>\n",
              "  </tbody>\n",
              "</table>\n",
              "</div>\n",
              "      <button class=\"colab-df-convert\" onclick=\"convertToInteractive('df-de56b0bc-5fdf-41ae-b2a5-1844ba73944b')\"\n",
              "              title=\"Convert this dataframe to an interactive table.\"\n",
              "              style=\"display:none;\">\n",
              "        \n",
              "  <svg xmlns=\"http://www.w3.org/2000/svg\" height=\"24px\"viewBox=\"0 0 24 24\"\n",
              "       width=\"24px\">\n",
              "    <path d=\"M0 0h24v24H0V0z\" fill=\"none\"/>\n",
              "    <path d=\"M18.56 5.44l.94 2.06.94-2.06 2.06-.94-2.06-.94-.94-2.06-.94 2.06-2.06.94zm-11 1L8.5 8.5l.94-2.06 2.06-.94-2.06-.94L8.5 2.5l-.94 2.06-2.06.94zm10 10l.94 2.06.94-2.06 2.06-.94-2.06-.94-.94-2.06-.94 2.06-2.06.94z\"/><path d=\"M17.41 7.96l-1.37-1.37c-.4-.4-.92-.59-1.43-.59-.52 0-1.04.2-1.43.59L10.3 9.45l-7.72 7.72c-.78.78-.78 2.05 0 2.83L4 21.41c.39.39.9.59 1.41.59.51 0 1.02-.2 1.41-.59l7.78-7.78 2.81-2.81c.8-.78.8-2.07 0-2.86zM5.41 20L4 18.59l7.72-7.72 1.47 1.35L5.41 20z\"/>\n",
              "  </svg>\n",
              "      </button>\n",
              "      \n",
              "  <style>\n",
              "    .colab-df-container {\n",
              "      display:flex;\n",
              "      flex-wrap:wrap;\n",
              "      gap: 12px;\n",
              "    }\n",
              "\n",
              "    .colab-df-convert {\n",
              "      background-color: #E8F0FE;\n",
              "      border: none;\n",
              "      border-radius: 50%;\n",
              "      cursor: pointer;\n",
              "      display: none;\n",
              "      fill: #1967D2;\n",
              "      height: 32px;\n",
              "      padding: 0 0 0 0;\n",
              "      width: 32px;\n",
              "    }\n",
              "\n",
              "    .colab-df-convert:hover {\n",
              "      background-color: #E2EBFA;\n",
              "      box-shadow: 0px 1px 2px rgba(60, 64, 67, 0.3), 0px 1px 3px 1px rgba(60, 64, 67, 0.15);\n",
              "      fill: #174EA6;\n",
              "    }\n",
              "\n",
              "    [theme=dark] .colab-df-convert {\n",
              "      background-color: #3B4455;\n",
              "      fill: #D2E3FC;\n",
              "    }\n",
              "\n",
              "    [theme=dark] .colab-df-convert:hover {\n",
              "      background-color: #434B5C;\n",
              "      box-shadow: 0px 1px 3px 1px rgba(0, 0, 0, 0.15);\n",
              "      filter: drop-shadow(0px 1px 2px rgba(0, 0, 0, 0.3));\n",
              "      fill: #FFFFFF;\n",
              "    }\n",
              "  </style>\n",
              "\n",
              "      <script>\n",
              "        const buttonEl =\n",
              "          document.querySelector('#df-de56b0bc-5fdf-41ae-b2a5-1844ba73944b button.colab-df-convert');\n",
              "        buttonEl.style.display =\n",
              "          google.colab.kernel.accessAllowed ? 'block' : 'none';\n",
              "\n",
              "        async function convertToInteractive(key) {\n",
              "          const element = document.querySelector('#df-de56b0bc-5fdf-41ae-b2a5-1844ba73944b');\n",
              "          const dataTable =\n",
              "            await google.colab.kernel.invokeFunction('convertToInteractive',\n",
              "                                                     [key], {});\n",
              "          if (!dataTable) return;\n",
              "\n",
              "          const docLinkHtml = 'Like what you see? Visit the ' +\n",
              "            '<a target=\"_blank\" href=https://colab.research.google.com/notebooks/data_table.ipynb>data table notebook</a>'\n",
              "            + ' to learn more about interactive tables.';\n",
              "          element.innerHTML = '';\n",
              "          dataTable['output_type'] = 'display_data';\n",
              "          await google.colab.output.renderOutput(dataTable, element);\n",
              "          const docLink = document.createElement('div');\n",
              "          docLink.innerHTML = docLinkHtml;\n",
              "          element.appendChild(docLink);\n",
              "        }\n",
              "      </script>\n",
              "    </div>\n",
              "  </div>\n",
              "  "
            ],
            "text/plain": [
              "            SPECIES  STORAGE_TYPE  ...     SUB_AREA   SA_ORIGIN\n",
              "253449  1336.932097    247.574219  ...  2242.523098  107.980496\n",
              "22329   1336.932097    799.097647  ...  1138.786652  857.256263\n",
              "\n",
              "[2 rows x 9 columns]"
            ]
          },
          "metadata": {},
          "execution_count": 149
        }
      ]
    },
    {
      "cell_type": "markdown",
      "source": [
        "####The strings were replaced by the target mean.\n",
        "\n",
        "###Determine the r2 using the variable values as input"
      ],
      "metadata": {
        "id": "xOGxy3XWfrd_"
      }
    },
    {
      "cell_type": "code",
      "source": [
        "#Missing values in the test set are due to some observations being outside the range of train set\n",
        "X_test_enc.isnull().mean()"
      ],
      "metadata": {
        "colab": {
          "base_uri": "https://localhost:8080/"
        },
        "id": "tEGwBSZkjqaX",
        "outputId": "1865e4a7-8c19-4b8d-de20-04230a3438d6"
      },
      "execution_count": null,
      "outputs": [
        {
          "output_type": "execute_result",
          "data": {
            "text/plain": [
              "SPECIES             0.000000\n",
              "STORAGE_TYPE        0.000000\n",
              "GEAR_NME            0.000000\n",
              "MGMT_AREA           0.000000\n",
              "LICENCE_AREA        0.000000\n",
              "Vessel ID Number    0.000012\n",
              "GEAR_CDE            0.000000\n",
              "SUB_AREA            0.000012\n",
              "SA_ORIGIN           0.000000\n",
              "dtype: float64"
            ]
          },
          "metadata": {},
          "execution_count": 150
        }
      ]
    },
    {
      "cell_type": "code",
      "source": [
        "# fill missing values with 0 for expediency\n",
        "X_test_enc.fillna(0, inplace=True)"
      ],
      "metadata": {
        "id": "uEtO94pLkK3i"
      },
      "execution_count": null,
      "outputs": []
    },
    {
      "cell_type": "code",
      "source": [
        "# now, we calculate a r2 score, using the encoded variables # as predictions\n",
        "r2 = []\n",
        "\n",
        "for feature in categorical:\n",
        "    \n",
        "    r2.append(r2_score(y_test, X_test_enc[feature]))  "
      ],
      "metadata": {
        "id": "NOm_4m7xfyFk"
      },
      "execution_count": null,
      "outputs": []
    },
    {
      "cell_type": "code",
      "source": [
        "# I make a series for easy visualisation\n",
        "\n",
        "m1 = pd.Series(r2)\n",
        "m1.index = categorical\n",
        "m1.sort_values(ascending=False)"
      ],
      "metadata": {
        "colab": {
          "base_uri": "https://localhost:8080/"
        },
        "id": "kvyQA-0RlESe",
        "outputId": "d6b6b2a3-f6da-401a-f501-fe64e61c8594"
      },
      "execution_count": null,
      "outputs": [
        {
          "output_type": "execute_result",
          "data": {
            "text/plain": [
              "LICENCE_AREA        0.133390\n",
              "Vessel ID Number    0.127335\n",
              "GEAR_CDE            0.106127\n",
              "GEAR_NME            0.106124\n",
              "SPECIES             0.033354\n",
              "MGMT_AREA           0.029242\n",
              "SA_ORIGIN           0.024671\n",
              "STORAGE_TYPE        0.014195\n",
              "SUB_AREA            0.013440\n",
              "dtype: float64"
            ]
          },
          "metadata": {},
          "execution_count": 158
        }
      ]
    },
    {
      "cell_type": "markdown",
      "source": [
        "###Feature Selection on numerical variables\n",
        "#####The procedure is exactly the same, but it requires one additional first step which is to divide the continuous variable into bins."
      ],
      "metadata": {
        "id": "s-80XjQClSwz"
      }
    },
    {
      "cell_type": "code",
      "source": [
        "# separate train and test sets\n",
        "#Include the determinant (target variable) in X and in Y\n",
        "X_train, X_test, y_train, y_test = train_test_split(\n",
        "    data[['KG_PIECE', 'Nominal_PRICE_PIECE', 'month', 'day', 'year','Nominal_Value']],\n",
        "    data['Nominal_Value'],\n",
        "    test_size=0.3,\n",
        "    random_state=0)\n",
        "\n",
        "X_train.shape, X_test.shape"
      ],
      "metadata": {
        "colab": {
          "base_uri": "https://localhost:8080/"
        },
        "id": "WTJD_bQulfpU",
        "outputId": "ac36de3d-01e4-4f8b-96bd-27f8415e4f82"
      },
      "execution_count": null,
      "outputs": [
        {
          "output_type": "execute_result",
          "data": {
            "text/plain": [
              "((396717, 6), (170022, 6))"
            ]
          },
          "metadata": {},
          "execution_count": 175
        }
      ]
    },
    {
      "cell_type": "code",
      "source": [
        "y_test.head(2)"
      ],
      "metadata": {
        "colab": {
          "base_uri": "https://localhost:8080/"
        },
        "id": "z82iofddNCND",
        "outputId": "b0a65f35-5425-4829-f436-a43412386fdf"
      },
      "execution_count": null,
      "outputs": [
        {
          "output_type": "execute_result",
          "data": {
            "text/plain": [
              "253449      80.525105\n",
              "22329     2259.977324\n",
              "Name: Nominal_Value, dtype: float64"
            ]
          },
          "metadata": {},
          "execution_count": 176
        }
      ]
    },
    {
      "cell_type": "markdown",
      "source": [
        "###Bin each variable"
      ],
      "metadata": {
        "id": "cczZtml9n3Gv"
      }
    },
    {
      "cell_type": "code",
      "source": [
        "vars=['KG_PIECE', 'Nominal_PRICE_PIECE', 'month', 'day', 'year']\n",
        "#train & test\n",
        "for var in vars:\n",
        "  X_train[var+'_binned'], intervals = pd.qcut(\n",
        "    X_train[var],\n",
        "    q = 5,\n",
        "    labels=False,\n",
        "    retbins=True,\n",
        "    precision=3,\n",
        "    duplicates='drop',\n",
        "  )\n",
        "  X_test[var+'_binned'] = pd.cut(x = X_test[var], bins=intervals, labels=False)\n"
      ],
      "metadata": {
        "id": "8lPnUlT-pZp_"
      },
      "execution_count": null,
      "outputs": []
    },
    {
      "cell_type": "code",
      "source": [
        "# count the number of distinct bins in the training set\n",
        "vars=['KG_PIECE_binned', 'Nominal_PRICE_PIECE_binned', 'month_binned', 'day_binned', 'year_binned']\n",
        "for var in vars:\n",
        "  print (var, X_train[var].nunique())"
      ],
      "metadata": {
        "colab": {
          "base_uri": "https://localhost:8080/"
        },
        "id": "ZJ8WjPGaq25I",
        "outputId": "54682fe0-7064-49ef-aad9-7d38ff009b4e"
      },
      "execution_count": null,
      "outputs": [
        {
          "output_type": "stream",
          "name": "stdout",
          "text": [
            "KG_PIECE_binned 5\n",
            "Nominal_PRICE_PIECE_binned 5\n",
            "month_binned 3\n",
            "day_binned 5\n",
            "year_binned 5\n"
          ]
        }
      ]
    },
    {
      "cell_type": "code",
      "source": [
        "# count the number of distinct bins in the training set\n",
        "vars=['KG_PIECE_binned', 'Nominal_PRICE_PIECE_binned', 'month_binned', 'day_binned', 'year_binned']\n",
        "for var in vars:\n",
        "  print (var, X_test[var].nunique())"
      ],
      "metadata": {
        "colab": {
          "base_uri": "https://localhost:8080/"
        },
        "id": "ezS9CpeSwixG",
        "outputId": "03d6c043-1fd2-44c7-f84b-ca338cde242c"
      },
      "execution_count": null,
      "outputs": [
        {
          "output_type": "stream",
          "name": "stdout",
          "text": [
            "KG_PIECE_binned 5\n",
            "Nominal_PRICE_PIECE_binned 5\n",
            "month_binned 3\n",
            "day_binned 5\n",
            "year_binned 5\n"
          ]
        }
      ]
    },
    {
      "cell_type": "code",
      "source": [
        "#check NAs in train \n",
        "X_train.isnull().mean(), X_test.isnull().mean()"
      ],
      "metadata": {
        "colab": {
          "base_uri": "https://localhost:8080/"
        },
        "id": "VVK1Lrmwqdn4",
        "outputId": "6b681ce9-4954-4b37-ac64-3eb1f2cd883a"
      },
      "execution_count": null,
      "outputs": [
        {
          "output_type": "execute_result",
          "data": {
            "text/plain": [
              "(KG_PIECE                      0.0\n",
              " Nominal_PRICE_PIECE           0.0\n",
              " month                         0.0\n",
              " day                           0.0\n",
              " year                          0.0\n",
              " KG_PIECE_binned               0.0\n",
              " Nominal_PRICE_PIECE_binned    0.0\n",
              " month_binned                  0.0\n",
              " day_binned                    0.0\n",
              " year_binned                   0.0\n",
              " dtype: float64, KG_PIECE                      0.000000\n",
              " Nominal_PRICE_PIECE           0.000000\n",
              " month                         0.000000\n",
              " day                           0.000000\n",
              " year                          0.000000\n",
              " KG_PIECE_binned               0.000000\n",
              " Nominal_PRICE_PIECE_binned    0.000006\n",
              " month_binned                  0.000829\n",
              " day_binned                    0.031843\n",
              " year_binned                   0.095464\n",
              " dtype: float64)"
            ]
          },
          "metadata": {},
          "execution_count": 172
        }
      ]
    },
    {
      "cell_type": "code",
      "source": [
        "# The missing values in the test set appear when the original values are outside the boundaries of the invervals determined in the train set\n",
        "# to speed out, I will just replace them by 0 in this notebook\n",
        "\n",
        "X_test = X_test.fillna(0)"
      ],
      "metadata": {
        "id": "BzCiRgw48DXs"
      },
      "execution_count": null,
      "outputs": []
    },
    {
      "cell_type": "markdown",
      "source": [
        "###Replace bins with target means for training and test sets"
      ],
      "metadata": {
        "id": "Q-HXtAnt8i9C"
      }
    },
    {
      "cell_type": "code",
      "source": [
        "# now we use our previous function to encode the variables with the target mean\n",
        "\n",
        "vars=['KG_PIECE_binned', 'Nominal_PRICE_PIECE_binned', 'month_binned', 'day_binned', 'year_binned']\n",
        "\n",
        "X_train_enc, X_test_enc = mean_encoding(\n",
        "    X_train[vars+['Nominal_Value']], X_test[vars+['Nominal_Value']], vars)\n",
        "\n",
        "X_train_enc.head()"
      ],
      "metadata": {
        "colab": {
          "base_uri": "https://localhost:8080/",
          "height": 206
        },
        "id": "NvzCLxHG880A",
        "outputId": "392d30ed-3327-4fb4-d7e5-71632b1a6d54"
      },
      "execution_count": null,
      "outputs": [
        {
          "output_type": "execute_result",
          "data": {
            "text/html": [
              "\n",
              "  <div id=\"df-ddf5e2cd-8736-4ff6-8fa7-e0caa83f1eba\">\n",
              "    <div class=\"colab-df-container\">\n",
              "      <div>\n",
              "<style scoped>\n",
              "    .dataframe tbody tr th:only-of-type {\n",
              "        vertical-align: middle;\n",
              "    }\n",
              "\n",
              "    .dataframe tbody tr th {\n",
              "        vertical-align: top;\n",
              "    }\n",
              "\n",
              "    .dataframe thead th {\n",
              "        text-align: right;\n",
              "    }\n",
              "</style>\n",
              "<table border=\"1\" class=\"dataframe\">\n",
              "  <thead>\n",
              "    <tr style=\"text-align: right;\">\n",
              "      <th></th>\n",
              "      <th>KG_PIECE_binned</th>\n",
              "      <th>Nominal_PRICE_PIECE_binned</th>\n",
              "      <th>month_binned</th>\n",
              "      <th>day_binned</th>\n",
              "      <th>year_binned</th>\n",
              "    </tr>\n",
              "  </thead>\n",
              "  <tbody>\n",
              "    <tr>\n",
              "      <th>206832</th>\n",
              "      <td>968.527600</td>\n",
              "      <td>691.520291</td>\n",
              "      <td>531.977186</td>\n",
              "      <td>482.046211</td>\n",
              "      <td>592.716712</td>\n",
              "    </tr>\n",
              "    <tr>\n",
              "      <th>317348</th>\n",
              "      <td>269.708702</td>\n",
              "      <td>287.180069</td>\n",
              "      <td>362.227775</td>\n",
              "      <td>456.607001</td>\n",
              "      <td>130.309432</td>\n",
              "    </tr>\n",
              "    <tr>\n",
              "      <th>21721</th>\n",
              "      <td>317.638338</td>\n",
              "      <td>179.922214</td>\n",
              "      <td>362.227775</td>\n",
              "      <td>463.586073</td>\n",
              "      <td>399.853761</td>\n",
              "    </tr>\n",
              "    <tr>\n",
              "      <th>431286</th>\n",
              "      <td>317.638338</td>\n",
              "      <td>179.922214</td>\n",
              "      <td>531.977186</td>\n",
              "      <td>486.787060</td>\n",
              "      <td>592.716712</td>\n",
              "    </tr>\n",
              "    <tr>\n",
              "      <th>386530</th>\n",
              "      <td>269.708702</td>\n",
              "      <td>287.180069</td>\n",
              "      <td>362.227775</td>\n",
              "      <td>456.607001</td>\n",
              "      <td>399.853761</td>\n",
              "    </tr>\n",
              "  </tbody>\n",
              "</table>\n",
              "</div>\n",
              "      <button class=\"colab-df-convert\" onclick=\"convertToInteractive('df-ddf5e2cd-8736-4ff6-8fa7-e0caa83f1eba')\"\n",
              "              title=\"Convert this dataframe to an interactive table.\"\n",
              "              style=\"display:none;\">\n",
              "        \n",
              "  <svg xmlns=\"http://www.w3.org/2000/svg\" height=\"24px\"viewBox=\"0 0 24 24\"\n",
              "       width=\"24px\">\n",
              "    <path d=\"M0 0h24v24H0V0z\" fill=\"none\"/>\n",
              "    <path d=\"M18.56 5.44l.94 2.06.94-2.06 2.06-.94-2.06-.94-.94-2.06-.94 2.06-2.06.94zm-11 1L8.5 8.5l.94-2.06 2.06-.94-2.06-.94L8.5 2.5l-.94 2.06-2.06.94zm10 10l.94 2.06.94-2.06 2.06-.94-2.06-.94-.94-2.06-.94 2.06-2.06.94z\"/><path d=\"M17.41 7.96l-1.37-1.37c-.4-.4-.92-.59-1.43-.59-.52 0-1.04.2-1.43.59L10.3 9.45l-7.72 7.72c-.78.78-.78 2.05 0 2.83L4 21.41c.39.39.9.59 1.41.59.51 0 1.02-.2 1.41-.59l7.78-7.78 2.81-2.81c.8-.78.8-2.07 0-2.86zM5.41 20L4 18.59l7.72-7.72 1.47 1.35L5.41 20z\"/>\n",
              "  </svg>\n",
              "      </button>\n",
              "      \n",
              "  <style>\n",
              "    .colab-df-container {\n",
              "      display:flex;\n",
              "      flex-wrap:wrap;\n",
              "      gap: 12px;\n",
              "    }\n",
              "\n",
              "    .colab-df-convert {\n",
              "      background-color: #E8F0FE;\n",
              "      border: none;\n",
              "      border-radius: 50%;\n",
              "      cursor: pointer;\n",
              "      display: none;\n",
              "      fill: #1967D2;\n",
              "      height: 32px;\n",
              "      padding: 0 0 0 0;\n",
              "      width: 32px;\n",
              "    }\n",
              "\n",
              "    .colab-df-convert:hover {\n",
              "      background-color: #E2EBFA;\n",
              "      box-shadow: 0px 1px 2px rgba(60, 64, 67, 0.3), 0px 1px 3px 1px rgba(60, 64, 67, 0.15);\n",
              "      fill: #174EA6;\n",
              "    }\n",
              "\n",
              "    [theme=dark] .colab-df-convert {\n",
              "      background-color: #3B4455;\n",
              "      fill: #D2E3FC;\n",
              "    }\n",
              "\n",
              "    [theme=dark] .colab-df-convert:hover {\n",
              "      background-color: #434B5C;\n",
              "      box-shadow: 0px 1px 3px 1px rgba(0, 0, 0, 0.15);\n",
              "      filter: drop-shadow(0px 1px 2px rgba(0, 0, 0, 0.3));\n",
              "      fill: #FFFFFF;\n",
              "    }\n",
              "  </style>\n",
              "\n",
              "      <script>\n",
              "        const buttonEl =\n",
              "          document.querySelector('#df-ddf5e2cd-8736-4ff6-8fa7-e0caa83f1eba button.colab-df-convert');\n",
              "        buttonEl.style.display =\n",
              "          google.colab.kernel.accessAllowed ? 'block' : 'none';\n",
              "\n",
              "        async function convertToInteractive(key) {\n",
              "          const element = document.querySelector('#df-ddf5e2cd-8736-4ff6-8fa7-e0caa83f1eba');\n",
              "          const dataTable =\n",
              "            await google.colab.kernel.invokeFunction('convertToInteractive',\n",
              "                                                     [key], {});\n",
              "          if (!dataTable) return;\n",
              "\n",
              "          const docLinkHtml = 'Like what you see? Visit the ' +\n",
              "            '<a target=\"_blank\" href=https://colab.research.google.com/notebooks/data_table.ipynb>data table notebook</a>'\n",
              "            + ' to learn more about interactive tables.';\n",
              "          element.innerHTML = '';\n",
              "          dataTable['output_type'] = 'display_data';\n",
              "          await google.colab.output.renderOutput(dataTable, element);\n",
              "          const docLink = document.createElement('div');\n",
              "          docLink.innerHTML = docLinkHtml;\n",
              "          element.appendChild(docLink);\n",
              "        }\n",
              "      </script>\n",
              "    </div>\n",
              "  </div>\n",
              "  "
            ],
            "text/plain": [
              "        KG_PIECE_binned  Nominal_PRICE_PIECE_binned  ...  day_binned  year_binned\n",
              "206832       968.527600                  691.520291  ...  482.046211   592.716712\n",
              "317348       269.708702                  287.180069  ...  456.607001   130.309432\n",
              "21721        317.638338                  179.922214  ...  463.586073   399.853761\n",
              "431286       317.638338                  179.922214  ...  486.787060   592.716712\n",
              "386530       269.708702                  287.180069  ...  456.607001   399.853761\n",
              "\n",
              "[5 rows x 5 columns]"
            ]
          },
          "metadata": {},
          "execution_count": 181
        }
      ]
    },
    {
      "cell_type": "markdown",
      "source": [
        "###Determine R2 using encoded values"
      ],
      "metadata": {
        "id": "eNT5kqj6GUrE"
      }
    },
    {
      "cell_type": "code",
      "source": [
        "vars=['KG_PIECE_binned', 'Nominal_PRICE_PIECE_binned', 'month_binned', 'day_binned', 'year_binned']\n",
        "\n",
        "r2a = []\n",
        "\n",
        "for feature in vars:\n",
        "    \n",
        "    r2a.append(r2_score(y_test, X_test_enc[feature])) "
      ],
      "metadata": {
        "id": "Lxr-v7w1GZFW"
      },
      "execution_count": null,
      "outputs": []
    },
    {
      "cell_type": "code",
      "source": [
        "y_test.shape, X_test_enc.shape"
      ],
      "metadata": {
        "colab": {
          "base_uri": "https://localhost:8080/"
        },
        "id": "MUsXPMuaH0S3",
        "outputId": "92bb64f4-9096-41aa-aa7b-121b6db4d084"
      },
      "execution_count": null,
      "outputs": [
        {
          "output_type": "execute_result",
          "data": {
            "text/plain": [
              "((170022,), (170022, 5))"
            ]
          },
          "metadata": {},
          "execution_count": 185
        }
      ]
    },
    {
      "cell_type": "code",
      "source": [
        "y_test.head(3)"
      ],
      "metadata": {
        "colab": {
          "base_uri": "https://localhost:8080/",
          "height": 143
        },
        "id": "9GHrfK0GJoLC",
        "outputId": "cc62eb0c-9e5b-46ed-8416-3e7a42ec6728"
      },
      "execution_count": null,
      "outputs": [
        {
          "output_type": "execute_result",
          "data": {
            "text/html": [
              "\n",
              "  <div id=\"df-c0694f05-9e8d-4f72-b73e-7960dd167a70\">\n",
              "    <div class=\"colab-df-container\">\n",
              "      <div>\n",
              "<style scoped>\n",
              "    .dataframe tbody tr th:only-of-type {\n",
              "        vertical-align: middle;\n",
              "    }\n",
              "\n",
              "    .dataframe tbody tr th {\n",
              "        vertical-align: top;\n",
              "    }\n",
              "\n",
              "    .dataframe thead th {\n",
              "        text-align: right;\n",
              "    }\n",
              "</style>\n",
              "<table border=\"1\" class=\"dataframe\">\n",
              "  <thead>\n",
              "    <tr style=\"text-align: right;\">\n",
              "      <th></th>\n",
              "      <th>KG_PIECE</th>\n",
              "      <th>Nominal_PRICE_PIECE</th>\n",
              "      <th>Nominal_Value</th>\n",
              "      <th>month</th>\n",
              "      <th>day</th>\n",
              "      <th>year</th>\n",
              "    </tr>\n",
              "  </thead>\n",
              "  <tbody>\n",
              "    <tr>\n",
              "      <th>253449</th>\n",
              "      <td>3.098337</td>\n",
              "      <td>17.676243</td>\n",
              "      <td>80.525105</td>\n",
              "      <td>8</td>\n",
              "      <td>26</td>\n",
              "      <td>2011</td>\n",
              "    </tr>\n",
              "    <tr>\n",
              "      <th>22329</th>\n",
              "      <td>2.645488</td>\n",
              "      <td>14.580499</td>\n",
              "      <td>2259.977324</td>\n",
              "      <td>8</td>\n",
              "      <td>16</td>\n",
              "      <td>2018</td>\n",
              "    </tr>\n",
              "    <tr>\n",
              "      <th>441577</th>\n",
              "      <td>4.191724</td>\n",
              "      <td>14.962759</td>\n",
              "      <td>7.481379</td>\n",
              "      <td>10</td>\n",
              "      <td>18</td>\n",
              "      <td>2018</td>\n",
              "    </tr>\n",
              "  </tbody>\n",
              "</table>\n",
              "</div>\n",
              "      <button class=\"colab-df-convert\" onclick=\"convertToInteractive('df-c0694f05-9e8d-4f72-b73e-7960dd167a70')\"\n",
              "              title=\"Convert this dataframe to an interactive table.\"\n",
              "              style=\"display:none;\">\n",
              "        \n",
              "  <svg xmlns=\"http://www.w3.org/2000/svg\" height=\"24px\"viewBox=\"0 0 24 24\"\n",
              "       width=\"24px\">\n",
              "    <path d=\"M0 0h24v24H0V0z\" fill=\"none\"/>\n",
              "    <path d=\"M18.56 5.44l.94 2.06.94-2.06 2.06-.94-2.06-.94-.94-2.06-.94 2.06-2.06.94zm-11 1L8.5 8.5l.94-2.06 2.06-.94-2.06-.94L8.5 2.5l-.94 2.06-2.06.94zm10 10l.94 2.06.94-2.06 2.06-.94-2.06-.94-.94-2.06-.94 2.06-2.06.94z\"/><path d=\"M17.41 7.96l-1.37-1.37c-.4-.4-.92-.59-1.43-.59-.52 0-1.04.2-1.43.59L10.3 9.45l-7.72 7.72c-.78.78-.78 2.05 0 2.83L4 21.41c.39.39.9.59 1.41.59.51 0 1.02-.2 1.41-.59l7.78-7.78 2.81-2.81c.8-.78.8-2.07 0-2.86zM5.41 20L4 18.59l7.72-7.72 1.47 1.35L5.41 20z\"/>\n",
              "  </svg>\n",
              "      </button>\n",
              "      \n",
              "  <style>\n",
              "    .colab-df-container {\n",
              "      display:flex;\n",
              "      flex-wrap:wrap;\n",
              "      gap: 12px;\n",
              "    }\n",
              "\n",
              "    .colab-df-convert {\n",
              "      background-color: #E8F0FE;\n",
              "      border: none;\n",
              "      border-radius: 50%;\n",
              "      cursor: pointer;\n",
              "      display: none;\n",
              "      fill: #1967D2;\n",
              "      height: 32px;\n",
              "      padding: 0 0 0 0;\n",
              "      width: 32px;\n",
              "    }\n",
              "\n",
              "    .colab-df-convert:hover {\n",
              "      background-color: #E2EBFA;\n",
              "      box-shadow: 0px 1px 2px rgba(60, 64, 67, 0.3), 0px 1px 3px 1px rgba(60, 64, 67, 0.15);\n",
              "      fill: #174EA6;\n",
              "    }\n",
              "\n",
              "    [theme=dark] .colab-df-convert {\n",
              "      background-color: #3B4455;\n",
              "      fill: #D2E3FC;\n",
              "    }\n",
              "\n",
              "    [theme=dark] .colab-df-convert:hover {\n",
              "      background-color: #434B5C;\n",
              "      box-shadow: 0px 1px 3px 1px rgba(0, 0, 0, 0.15);\n",
              "      filter: drop-shadow(0px 1px 2px rgba(0, 0, 0, 0.3));\n",
              "      fill: #FFFFFF;\n",
              "    }\n",
              "  </style>\n",
              "\n",
              "      <script>\n",
              "        const buttonEl =\n",
              "          document.querySelector('#df-c0694f05-9e8d-4f72-b73e-7960dd167a70 button.colab-df-convert');\n",
              "        buttonEl.style.display =\n",
              "          google.colab.kernel.accessAllowed ? 'block' : 'none';\n",
              "\n",
              "        async function convertToInteractive(key) {\n",
              "          const element = document.querySelector('#df-c0694f05-9e8d-4f72-b73e-7960dd167a70');\n",
              "          const dataTable =\n",
              "            await google.colab.kernel.invokeFunction('convertToInteractive',\n",
              "                                                     [key], {});\n",
              "          if (!dataTable) return;\n",
              "\n",
              "          const docLinkHtml = 'Like what you see? Visit the ' +\n",
              "            '<a target=\"_blank\" href=https://colab.research.google.com/notebooks/data_table.ipynb>data table notebook</a>'\n",
              "            + ' to learn more about interactive tables.';\n",
              "          element.innerHTML = '';\n",
              "          dataTable['output_type'] = 'display_data';\n",
              "          await google.colab.output.renderOutput(dataTable, element);\n",
              "          const docLink = document.createElement('div');\n",
              "          docLink.innerHTML = docLinkHtml;\n",
              "          element.appendChild(docLink);\n",
              "        }\n",
              "      </script>\n",
              "    </div>\n",
              "  </div>\n",
              "  "
            ],
            "text/plain": [
              "        KG_PIECE  Nominal_PRICE_PIECE  Nominal_Value  month  day  year\n",
              "253449  3.098337            17.676243      80.525105      8   26  2011\n",
              "22329   2.645488            14.580499    2259.977324      8   16  2018\n",
              "441577  4.191724            14.962759       7.481379     10   18  2018"
            ]
          },
          "metadata": {},
          "execution_count": 143
        }
      ]
    },
    {
      "cell_type": "code",
      "source": [
        "# I make a series for easy visualisation\n",
        "\n",
        "m1 = pd.Series(r2a)\n",
        "m1.index = vars\n",
        "m1.sort_values(ascending=False)"
      ],
      "metadata": {
        "colab": {
          "base_uri": "https://localhost:8080/"
        },
        "id": "Gm6MGhcNOxa7",
        "outputId": "1be747ba-5627-4bfa-af78-6d5ddc85769c"
      },
      "execution_count": null,
      "outputs": [
        {
          "output_type": "execute_result",
          "data": {
            "text/plain": [
              "Nominal_PRICE_PIECE_binned    0.016895\n",
              "KG_PIECE_binned               0.012437\n",
              "year_binned                   0.004489\n",
              "month_binned                  0.004005\n",
              "day_binned                    0.000407\n",
              "dtype: float64"
            ]
          },
          "metadata": {},
          "execution_count": 187
        }
      ]
    },
    {
      "cell_type": "code",
      "source": [
        "X_test_enc.head(3)"
      ],
      "metadata": {
        "colab": {
          "base_uri": "https://localhost:8080/",
          "height": 143
        },
        "id": "jLBgrbiKJ8dh",
        "outputId": "5e91f7da-800c-40be-c9c6-0544bd954994"
      },
      "execution_count": null,
      "outputs": [
        {
          "output_type": "execute_result",
          "data": {
            "text/html": [
              "\n",
              "  <div id=\"df-70ee290e-444d-4376-ad3b-c4f905492de5\">\n",
              "    <div class=\"colab-df-container\">\n",
              "      <div>\n",
              "<style scoped>\n",
              "    .dataframe tbody tr th:only-of-type {\n",
              "        vertical-align: middle;\n",
              "    }\n",
              "\n",
              "    .dataframe tbody tr th {\n",
              "        vertical-align: top;\n",
              "    }\n",
              "\n",
              "    .dataframe thead th {\n",
              "        text-align: right;\n",
              "    }\n",
              "</style>\n",
              "<table border=\"1\" class=\"dataframe\">\n",
              "  <thead>\n",
              "    <tr style=\"text-align: right;\">\n",
              "      <th></th>\n",
              "      <th>KG_PIECE_binned</th>\n",
              "      <th>Nominal_PRICE_PIECE_binned</th>\n",
              "      <th>month_binned</th>\n",
              "      <th>day_binned</th>\n",
              "      <th>year_binned</th>\n",
              "    </tr>\n",
              "  </thead>\n",
              "  <tbody>\n",
              "    <tr>\n",
              "      <th>253449</th>\n",
              "      <td>269.708702</td>\n",
              "      <td>691.520291</td>\n",
              "      <td>531.977186</td>\n",
              "      <td>456.607001</td>\n",
              "      <td>592.716712</td>\n",
              "    </tr>\n",
              "    <tr>\n",
              "      <th>22329</th>\n",
              "      <td>968.527600</td>\n",
              "      <td>691.520291</td>\n",
              "      <td>531.977186</td>\n",
              "      <td>598.776630</td>\n",
              "      <td>399.853761</td>\n",
              "    </tr>\n",
              "    <tr>\n",
              "      <th>441577</th>\n",
              "      <td>269.708702</td>\n",
              "      <td>691.520291</td>\n",
              "      <td>767.681567</td>\n",
              "      <td>598.776630</td>\n",
              "      <td>399.853761</td>\n",
              "    </tr>\n",
              "  </tbody>\n",
              "</table>\n",
              "</div>\n",
              "      <button class=\"colab-df-convert\" onclick=\"convertToInteractive('df-70ee290e-444d-4376-ad3b-c4f905492de5')\"\n",
              "              title=\"Convert this dataframe to an interactive table.\"\n",
              "              style=\"display:none;\">\n",
              "        \n",
              "  <svg xmlns=\"http://www.w3.org/2000/svg\" height=\"24px\"viewBox=\"0 0 24 24\"\n",
              "       width=\"24px\">\n",
              "    <path d=\"M0 0h24v24H0V0z\" fill=\"none\"/>\n",
              "    <path d=\"M18.56 5.44l.94 2.06.94-2.06 2.06-.94-2.06-.94-.94-2.06-.94 2.06-2.06.94zm-11 1L8.5 8.5l.94-2.06 2.06-.94-2.06-.94L8.5 2.5l-.94 2.06-2.06.94zm10 10l.94 2.06.94-2.06 2.06-.94-2.06-.94-.94-2.06-.94 2.06-2.06.94z\"/><path d=\"M17.41 7.96l-1.37-1.37c-.4-.4-.92-.59-1.43-.59-.52 0-1.04.2-1.43.59L10.3 9.45l-7.72 7.72c-.78.78-.78 2.05 0 2.83L4 21.41c.39.39.9.59 1.41.59.51 0 1.02-.2 1.41-.59l7.78-7.78 2.81-2.81c.8-.78.8-2.07 0-2.86zM5.41 20L4 18.59l7.72-7.72 1.47 1.35L5.41 20z\"/>\n",
              "  </svg>\n",
              "      </button>\n",
              "      \n",
              "  <style>\n",
              "    .colab-df-container {\n",
              "      display:flex;\n",
              "      flex-wrap:wrap;\n",
              "      gap: 12px;\n",
              "    }\n",
              "\n",
              "    .colab-df-convert {\n",
              "      background-color: #E8F0FE;\n",
              "      border: none;\n",
              "      border-radius: 50%;\n",
              "      cursor: pointer;\n",
              "      display: none;\n",
              "      fill: #1967D2;\n",
              "      height: 32px;\n",
              "      padding: 0 0 0 0;\n",
              "      width: 32px;\n",
              "    }\n",
              "\n",
              "    .colab-df-convert:hover {\n",
              "      background-color: #E2EBFA;\n",
              "      box-shadow: 0px 1px 2px rgba(60, 64, 67, 0.3), 0px 1px 3px 1px rgba(60, 64, 67, 0.15);\n",
              "      fill: #174EA6;\n",
              "    }\n",
              "\n",
              "    [theme=dark] .colab-df-convert {\n",
              "      background-color: #3B4455;\n",
              "      fill: #D2E3FC;\n",
              "    }\n",
              "\n",
              "    [theme=dark] .colab-df-convert:hover {\n",
              "      background-color: #434B5C;\n",
              "      box-shadow: 0px 1px 3px 1px rgba(0, 0, 0, 0.15);\n",
              "      filter: drop-shadow(0px 1px 2px rgba(0, 0, 0, 0.3));\n",
              "      fill: #FFFFFF;\n",
              "    }\n",
              "  </style>\n",
              "\n",
              "      <script>\n",
              "        const buttonEl =\n",
              "          document.querySelector('#df-70ee290e-444d-4376-ad3b-c4f905492de5 button.colab-df-convert');\n",
              "        buttonEl.style.display =\n",
              "          google.colab.kernel.accessAllowed ? 'block' : 'none';\n",
              "\n",
              "        async function convertToInteractive(key) {\n",
              "          const element = document.querySelector('#df-70ee290e-444d-4376-ad3b-c4f905492de5');\n",
              "          const dataTable =\n",
              "            await google.colab.kernel.invokeFunction('convertToInteractive',\n",
              "                                                     [key], {});\n",
              "          if (!dataTable) return;\n",
              "\n",
              "          const docLinkHtml = 'Like what you see? Visit the ' +\n",
              "            '<a target=\"_blank\" href=https://colab.research.google.com/notebooks/data_table.ipynb>data table notebook</a>'\n",
              "            + ' to learn more about interactive tables.';\n",
              "          element.innerHTML = '';\n",
              "          dataTable['output_type'] = 'display_data';\n",
              "          await google.colab.output.renderOutput(dataTable, element);\n",
              "          const docLink = document.createElement('div');\n",
              "          docLink.innerHTML = docLinkHtml;\n",
              "          element.appendChild(docLink);\n",
              "        }\n",
              "      </script>\n",
              "    </div>\n",
              "  </div>\n",
              "  "
            ],
            "text/plain": [
              "        KG_PIECE_binned  Nominal_PRICE_PIECE_binned  ...  day_binned  year_binned\n",
              "253449       269.708702                  691.520291  ...  456.607001   592.716712\n",
              "22329        968.527600                  691.520291  ...  598.776630   399.853761\n",
              "441577       269.708702                  691.520291  ...  598.776630   399.853761\n",
              "\n",
              "[3 rows x 5 columns]"
            ]
          },
          "metadata": {},
          "execution_count": 144
        }
      ]
    }
  ]
}