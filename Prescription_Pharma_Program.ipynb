{
  "nbformat": 4,
  "nbformat_minor": 0,
  "metadata": {
    "colab": {
      "name": "Prescription_Pharma_Program.ipynb",
      "provenance": [],
      "machine_shape": "hm",
      "collapsed_sections": [],
      "mount_file_id": "1i_pVztAmLdhY__GffpwP9_fZODbS8NQ7",
      "authorship_tag": "ABX9TyPhZpxDp5KHlKMqGIKelnGj",
      "include_colab_link": true
    },
    "kernelspec": {
      "name": "python3",
      "display_name": "Python 3"
    },
    "language_info": {
      "name": "python"
    }
  },
  "cells": [
    {
      "cell_type": "markdown",
      "metadata": {
        "id": "view-in-github",
        "colab_type": "text"
      },
      "source": [
        "<a href=\"https://colab.research.google.com/github/antonysama/Projects_w._time_series/blob/master/Prescription_Pharma_Program.ipynb\" target=\"_parent\"><img src=\"https://colab.research.google.com/assets/colab-badge.svg\" alt=\"Open In Colab\"/></a>"
      ]
    },
    {
      "cell_type": "markdown",
      "source": [
        "##Prescrition Drug Program Analysis"
      ],
      "metadata": {
        "id": "CR7yU7vYTmQu"
      }
    },
    {
      "cell_type": "markdown",
      "source": [
        "###Loading R and packages"
      ],
      "metadata": {
        "id": "4xjjaBPFTw5W"
      }
    },
    {
      "cell_type": "code",
      "execution_count": null,
      "metadata": {
        "id": "p8-tcms3CEuX"
      },
      "outputs": [],
      "source": [
        "%reload_ext rpy2.ipython"
      ]
    },
    {
      "cell_type": "code",
      "source": [
        "# Install and load packages\n",
        "%%capture\n",
        "%%R\n",
        "install.packages(c('dplyr','tidyverse','janitor', 'skimr','ggplot2','reshape2','readxl'))\n",
        "x<-c('dplyr','tidyverse','janitor','skimr', 'ggplot2','reshape2','readxl')\n",
        "lapply(x, require, character.only = TRUE)"
      ],
      "metadata": {
        "id": "Qx6P08bTD_Lt"
      },
      "execution_count": null,
      "outputs": []
    },
    {
      "cell_type": "markdown",
      "source": [
        "###Read and load file named 'part 2' (i.e. population estimates)"
      ],
      "metadata": {
        "id": "yS1Fc7uA0PT4"
      }
    },
    {
      "cell_type": "code",
      "source": [
        "#read part2 file\n",
        "%%R\n",
        "# part_2<-read_excel('part_2.xlsx', sheet = \"Sheet1\", guess_max = 1048576)\n",
        "part_2 <- read_excel(\"drive/MyDrive/part_2.xlsx\", sheet = \"Sheet1\", col_types =c('text','numeric','numeric','numeric','numeric','numeric','numeric','numeric','numeric','numeric','numeric','numeric','numeric',\n",
        "                                                                                   'numeric','numeric','numeric','numeric','numeric','numeric','numeric','numeric','numeric','numeric','numeric','numeric') )\n",
        "part_2<- part_2 %>% filter(Year > 2013,Sex <3)\n",
        "str(part_2)"
      ],
      "metadata": {
        "colab": {
          "base_uri": "https://localhost:8080/"
        },
        "id": "rxBSdCkYClBO",
        "outputId": "2e00bf7b-d838-4421-8b73-a82bb2d8f9d3"
      },
      "execution_count": null,
      "outputs": [
        {
          "output_type": "stream",
          "name": "stdout",
          "text": [
            "tibble [14 × 25] (S3: tbl_df/tbl/data.frame)\n",
            " $ Area      : chr [1:14] \"Nomansland\" \"Nomansland\" \"Nomansland\" \"Nomansland\" ...\n",
            " $ Year      : num [1:14] 2014 2015 2016 2017 2018 ...\n",
            " $ Sex       : num [1:14] 1 1 1 1 1 1 1 2 2 2 ...\n",
            " $ Population: num [1:14] 2071960 2099166 2118319 2136817 2164303 ...\n",
            " $ 0-4       : num [1:14] 137286 138655 139620 139642 139247 ...\n",
            " $ 5-9       : num [1:14] 130283 135291 139196 140891 141489 ...\n",
            " $ 10-14     : num [1:14] 119630 121825 124729 128492 132918 ...\n",
            " $ 15-19     : num [1:14] 127283 127036 127245 127415 128837 ...\n",
            " $ 20-24     : num [1:14] 151178 149394 146121 142692 142193 ...\n",
            " $ 25-29     : num [1:14] 174173 175856 173568 169865 167722 ...\n",
            " $ 30-34     : num [1:14] 176094 178986 180945 180760 180345 ...\n",
            " $ 35-39     : num [1:14] 157144 160159 162753 166610 171710 ...\n",
            " $ 40-44     : num [1:14] 148064 148737 148565 149672 152954 ...\n",
            " $ 45-49     : num [1:14] 141248 139433 140539 142184 143767 ...\n",
            " $ 50-54     : num [1:14] 152443 150078 145626 142047 138625 ...\n",
            " $ 55-59     : num [1:14] 138565 140664 141476 142183 142765 ...\n",
            " $ 60-64     : num [1:14] 105120 110440 115307 120607 125612 ...\n",
            " $ 65-69     : num [1:14] 77513 81960 86040 88714 92499 ...\n",
            " $ 70-74     : num [1:14] 51978 54208 56992 62068 66601 ...\n",
            " $ 75-79     : num [1:14] 36809 37787 39059 40823 43321 ...\n",
            " $ 80-84     : num [1:14] 26586 26914 27489 27934 28549 ...\n",
            " $ 85-89     : num [1:14] 14385 15242 16075 16712 17160 ...\n",
            " $ 90-94     : num [1:14] 5149 5350 5696 6148 6486 ...\n",
            " $ 95 to 99  : num [1:14] 934 1076 1152 1222 1374 ...\n",
            " $ 100+      : num [1:14] 95 75 126 136 129 153 186 527 544 591 ...\n"
          ]
        }
      ]
    },
    {
      "cell_type": "markdown",
      "source": [
        "###Melt age catergoy to better aggregate the age data"
      ],
      "metadata": {
        "id": "0_i3FfmxRsg0"
      }
    },
    {
      "cell_type": "code",
      "source": [
        "%%R\n",
        "part_2a<- melt(part_2, id=c(\"Area\",\"Year\", \"Sex\", \"Population\"))\n",
        "# skim_without_charts(part_2a)"
      ],
      "metadata": {
        "colab": {
          "base_uri": "https://localhost:8080/"
        },
        "id": "TQyvWwYWKm7e",
        "outputId": "57c197d7-14fd-4b26-edfe-dfc4768e71f0"
      },
      "execution_count": null,
      "outputs": [
        {
          "output_type": "stream",
          "name": "stdout",
          "text": [
            "── Data Summary ────────────────────────\n",
            "                           Values \n",
            "Name                       part_2a\n",
            "Number of rows             294    \n",
            "Number of columns          6      \n",
            "_______________________           \n",
            "Column type frequency:            \n",
            "  character                1      \n",
            "  factor                   1      \n",
            "  numeric                  4      \n",
            "________________________          \n",
            "Group variables            None   \n",
            "\n",
            "── Variable type: character ────────────────────────────────────────────────────\n",
            "  skim_variable n_missing complete_rate   min   max empty n_unique whitespace\n",
            "1 Area                  0             1    10    10     0        1          0\n",
            "\n",
            "── Variable type: factor ───────────────────────────────────────────────────────\n",
            "  skim_variable n_missing complete_rate ordered n_unique\n",
            "1 variable              0             1 FALSE         21\n",
            "  top_counts                        \n",
            "1 0-4: 14, 5-9: 14, 10-: 14, 15-: 14\n",
            "\n",
            "── Variable type: numeric ──────────────────────────────────────────────────────\n",
            "  skim_variable n_missing complete_rate      mean        sd      p0     p25\n",
            "1 Year                  0             1    2017       2.00     2014    2015\n",
            "2 Sex                   0             1       1.5     0.501       1       1\n",
            "3 Population            0             1 2124796.  59153.    2011688 2077742\n",
            "4 value                 0             1  101181.  58344.         75   41326\n",
            "        p50      p75    p100\n",
            "1    2017      2019     2020\n",
            "2       1.5       2        2\n",
            "3 2126146.  2167438  2223432\n",
            "4  129959    142184.  181434\n"
          ]
        }
      ]
    },
    {
      "cell_type": "markdown",
      "source": [
        "### Do a selective group by and sum up seniors (>65) by year"
      ],
      "metadata": {
        "id": "wzz8Hi1dCsZC"
      }
    },
    {
      "cell_type": "code",
      "source": [
        "#Tabulate Expinditure by Year ($M)\n",
        "%%R\n",
        "population<-part_2a %>%\n",
        " filter(part_2a$variable %in% c(\"60-64\",\"65-69\",\"70-74\",\"75-79\",\"80-84\",\"85-89\",\"90-94\",\"95-99\",\"100+\")) %>%\n",
        "  group_by(Year) %>%\n",
        "     summarize(Population  = sum(value)) %>%\n",
        "          arrange(desc(Year))\n",
        "population"
      ],
      "metadata": {
        "colab": {
          "base_uri": "https://localhost:8080/"
        },
        "id": "YpzFN8haDEJG",
        "outputId": "563eb62e-d9b4-4602-bb96-187a0a74be54"
      },
      "execution_count": null,
      "outputs": [
        {
          "output_type": "stream",
          "name": "stdout",
          "text": [
            "# A tibble: 7 × 2\n",
            "   Year Population\n",
            "  <dbl>      <dbl>\n",
            "1  2020     869567\n",
            "2  2019     832894\n",
            "3  2018     795605\n",
            "4  2017     760057\n",
            "5  2016     726176\n",
            "6  2015     695765\n",
            "7  2014     668001\n"
          ]
        }
      ]
    },
    {
      "cell_type": "markdown",
      "source": [
        "###Supplementary Analysis: Create five age categories, at 20 year intervals, and plot"
      ],
      "metadata": {
        "id": "_Viov36LRvyj"
      }
    },
    {
      "cell_type": "code",
      "source": [
        "%%R\n",
        "part_2a$Age_Class<-ifelse(part_2a$variable %in% c(\"0-4\",\"5-9\",\"10-14\",\"15-19\"),\"19 and below\", ifelse(part_2a$variable %in% c(\"20-24\",\"25-29\",\"30-34\",\"35-39\"),\"20-39\", ifelse(part_2a$variable %in% c(\"40-44\",\"45-49\",\"50-54\",\"55-59\"),\"40-59\",ifelse(part_2a$variable %in% c(\"60-64\",\"65-69\",\"70-74\",\"75-79\"), \"60-79\",\"80 and above\"))))\n",
        "p<-ggplot(part_2a, aes(x=Year, y=value/1000000, fill=Age_Class)) + geom_col(stat=\"identity\")+ ggtitle(\"          Fig.7 Population by 20-year Age Classes \") + xlab(\"\") + ylab(\"Population (Millions)\")\n",
        "p"
      ],
      "metadata": {
        "id": "XYABhYZuP9LL",
        "colab": {
          "base_uri": "https://localhost:8080/",
          "height": 497
        },
        "outputId": "9bb1fd75-d67a-48dd-ceaf-5578445a3392"
      },
      "execution_count": null,
      "outputs": [
        {
          "output_type": "display_data",
          "data": {
            "image/png": "[encoded data removed]"
          },
          "metadata": {}
        }
      ]
    },
    {
      "cell_type": "markdown",
      "source": [
        "### Read and load file 'part 3' i.e., publicly funded drug data\n",
        "\n",
        "\n"
      ],
      "metadata": {
        "id": "5M6VxeT20w_Z"
      }
    },
    {
      "cell_type": "code",
      "source": [
        "#read part3\n",
        "%%R\n",
        "part_3 <- read_excel(\"drive/MyDrive/part_3.xlsx\", sheet = \"Sheet1\", col_types = c('numeric','text','text','numeric','numeric') )\n",
        "str(part_3)"
      ],
      "metadata": {
        "colab": {
          "base_uri": "https://localhost:8080/"
        },
        "id": "VxprKgSiG0nU",
        "outputId": "c865569f-428e-4478-9eb3-61dbd5b7caa2"
      },
      "execution_count": null,
      "outputs": [
        {
          "output_type": "stream",
          "name": "stdout",
          "text": [
            "tibble [252 × 5] (S3: tbl_df/tbl/data.frame)\n",
            " $ Year       : num [1:252] 2014 2014 2014 214 2014 ...\n",
            " $ Program    : chr [1:252] \"PaidInsurance\" \"PaidInsurance\" \"PaidInsurance\" \"PaidInsurance\" ...\n",
            " $ Month      : chr [1:252] \"JAN\" \"FEB\" \"MAR\" \"APR\" ...\n",
            " $ Claims     : num [1:252] 98416 88059 98024 97491 99249 ...\n",
            " $ Expenditure: num [1:252] 13179661 11930679 13676162 12366256 12718452 ...\n"
          ]
        }
      ]
    },
    {
      "cell_type": "markdown",
      "source": [
        "### Correct erros in names of programs and years "
      ],
      "metadata": {
        "id": "dQeG1fBf03bN"
      }
    },
    {
      "cell_type": "code",
      "source": [
        "#correct names and years for part3\n",
        "%%R\n",
        "part_3$Year_Corrected<-ifelse(part_3$Year  %in% c( \"217\", \"2172017\"), 2017, ifelse(part_3$Year %in% c(\"V214\",\"214\"), 2014,part_3$Year ))\n",
        "part_3$Program_Corrected<-ifelse(part_3$Program == \"Paid\", \"PaidInsurance\", ifelse(part_3$Program ==\"Subsid\", \"Subsidized\",ifelse(part_3$Program==\"Senior\", \"Seniors\",part_3$Program )))\n",
        "# skim_without_charts(part_3)"
      ],
      "metadata": {
        "id": "Rmwllj5WtQj3"
      },
      "execution_count": null,
      "outputs": []
    },
    {
      "cell_type": "markdown",
      "source": [
        "### Correct Expenditure by Capping Outliers at 0.05 and 0.95 percentile"
      ],
      "metadata": {
        "id": "MVlb9ssOkIn_"
      }
    },
    {
      "cell_type": "code",
      "source": [
        "#Create function to cap the outliers\n",
        "# Other references for outlier deletion: https://www.r-bloggers.com/2020/01/how-to-remove-outliers-in-r/ \n",
        "%%R\n",
        "fun <- function(x){\n",
        "    quantiles <- quantile( x, c(.05, .95 ) )\n",
        "    x[ x < quantiles[1] ] <- quantiles[1]\n",
        "    x[ x > quantiles[2] ] <- quantiles[2]\n",
        "    x\n",
        "}\n",
        "part_3$Expenditure_Corrected <- fun(part_3$Expenditure)\n",
        "skim_without_charts(part_3)"
      ],
      "metadata": {
        "colab": {
          "base_uri": "https://localhost:8080/"
        },
        "id": "8b-DQtIJi7dS",
        "outputId": "97df00a3-1fb7-4963-9365-4f5d4484fdf6"
      },
      "execution_count": null,
      "outputs": [
        {
          "output_type": "stream",
          "name": "stdout",
          "text": [
            "── Data Summary ────────────────────────\n",
            "                           Values\n",
            "Name                       part_3\n",
            "Number of rows             252   \n",
            "Number of columns          9     \n",
            "_______________________          \n",
            "Column type frequency:           \n",
            "  character                3     \n",
            "  numeric                  6     \n",
            "________________________         \n",
            "Group variables            None  \n",
            "\n",
            "── Variable type: character ────────────────────────────────────────────────────\n",
            "  skim_variable     n_missing complete_rate   min   max empty n_unique\n",
            "1 Program                   0             1     4    13     0        6\n",
            "2 Month                     0             1     3     3     0       12\n",
            "3 Program_Corrected         0             1     7    13     0        3\n",
            "  whitespace\n",
            "1          0\n",
            "2          0\n",
            "3          0\n",
            "\n",
            "── Variable type: numeric ──────────────────────────────────────────────────────\n",
            "  skim_variable         n_missing complete_rate      mean          sd      p0\n",
            "1 Year                          0         1        10614.   136698.     214  \n",
            "2 Claims                        1         0.996   376141.   471063.    1010  \n",
            "3 Expenditure                   0         1     20238582. 18747226.   84697  \n",
            "4 Year_Corrected                0         1         2017         2.00  2014  \n",
            "5 ExpendPerClaim                1         0.996      192.     1158.      15.0\n",
            "6 Expenditure_Corrected         0         1     19666567. 16955239.   99484. \n",
            "       p25        p50       p75       p100\n",
            "1   2015       2017       2019    2172017 \n",
            "2   1951      96016     927063    1681144 \n",
            "3 122605.  17926802.  37861326. 135783090 \n",
            "4   2015       2017       2019       2020 \n",
            "5     42.4       68.1      168.     17264.\n",
            "6 122605.  17926802.  37861326.  46404442.\n"
          ]
        }
      ]
    },
    {
      "cell_type": "markdown",
      "source": [
        "### Aggregate the Expenditures by Year"
      ],
      "metadata": {
        "id": "Hom6OEr5CEeC"
      }
    },
    {
      "cell_type": "code",
      "source": [
        "#Tabulate Expinditure by Year ($M)\n",
        "%%R\n",
        "expenditure<-part_3 %>%\n",
        "  group_by(Year_Corrected) %>%\n",
        "     summarize(Cumltv_Expenditure  = sum(Expenditure_Corrected)) %>%\n",
        "          arrange(desc(Year_Corrected))\n",
        "expenditure"
      ],
      "metadata": {
        "colab": {
          "base_uri": "https://localhost:8080/"
        },
        "id": "dgat1N-aqcH4",
        "outputId": "9724031e-2621-4d3c-b62e-9dec9254f2cd"
      },
      "execution_count": null,
      "outputs": [
        {
          "output_type": "stream",
          "name": "stdout",
          "text": [
            "# A tibble: 7 × 2\n",
            "  Year_Corrected Cumltv_Expenditure\n",
            "           <dbl>              <dbl>\n",
            "1           2020         786225488.\n",
            "2           2019         796532976.\n",
            "3           2018         734825026.\n",
            "4           2017         719509843.\n",
            "5           2016         658339185.\n",
            "6           2015         666669701.\n",
            "7           2014         593872678.\n"
          ]
        }
      ]
    },
    {
      "cell_type": "markdown",
      "source": [
        "###Filte Expenditure Per Year for Senior Plans"
      ],
      "metadata": {
        "id": "xvAEYa_tWmVt"
      }
    },
    {
      "cell_type": "code",
      "source": [
        "#Tabulate Expinditure by Year ($M)\n",
        "%%R\n",
        "expenditure_senior<-part_3 %>%\n",
        " filter(part_3$Program %in% c(\"Senior\",\"Seniors\")) %>%\n",
        "  group_by(Year_Corrected) %>%\n",
        "      summarize(Cumltv_Expenditure  = sum(Expenditure_Corrected)) %>%\n",
        "          arrange(desc(Year_Corrected))\n",
        "expenditure_senior"
      ],
      "metadata": {
        "colab": {
          "base_uri": "https://localhost:8080/"
        },
        "id": "yruc-Z9dWs0v",
        "outputId": "9c70a065-d866-49e4-fc23-30432bfbcd6a"
      },
      "execution_count": null,
      "outputs": [
        {
          "output_type": "stream",
          "name": "stdout",
          "text": [
            "# A tibble: 7 × 2\n",
            "  Year_Corrected Cumltv_Expenditure\n",
            "           <dbl>              <dbl>\n",
            "1           2020         530537334.\n",
            "2           2019         547513732.\n",
            "3           2018         503086146 \n",
            "4           2017         492560559 \n",
            "5           2016         454889875 \n",
            "6           2015         473274585.\n",
            "7           2014         439758149 \n"
          ]
        }
      ]
    },
    {
      "cell_type": "markdown",
      "source": [
        "### Plot Expenditure by Year, broken down by Program"
      ],
      "metadata": {
        "id": "G05HUaeNVgav"
      }
    },
    {
      "cell_type": "code",
      "source": [
        "#Plot the total broken down by program\n",
        "%%R\n",
        "q<-ggplot(part_3, aes(x=Year_Corrected, y=Expenditure_Corrected/1000000, fill=Program_Corrected)) + \n",
        "    geom_col(stat=\"identity\")+ ggtitle(\" Fig.2 Cumulative Annual Expenditure by Program ($M)\") + xlab(\"\") + ylab(\"Expenditre ($ Millions)\")\n",
        "q"
      ],
      "metadata": {
        "colab": {
          "base_uri": "https://localhost:8080/",
          "height": 497
        },
        "id": "5JE8si7tlVm1",
        "outputId": "65994424-6a15-4767-cd15-21c00b34f833"
      },
      "execution_count": null,
      "outputs": [
        {
          "output_type": "display_data",
          "data": {
            "image/png": "[encoded data removed]"
          },
          "metadata": {}
        }
      ]
    },
    {
      "cell_type": "markdown",
      "source": [
        "### Supplementary Analysis: Sum up Number of Claims by Year"
      ],
      "metadata": {
        "id": "u-X5cuuzVtao"
      }
    },
    {
      "cell_type": "code",
      "source": [
        "#Tabulate Number of Claims by Year ($M)\n",
        "%%R\n",
        "part_3 %>%\n",
        "  group_by(Year_Corrected) %>%\n",
        "     summarize(Number_of_Claims = sum(Claims/1000000, na.rm = TRUE)) %>%\n",
        "          arrange(desc(Year_Corrected))\n"
      ],
      "metadata": {
        "colab": {
          "base_uri": "https://localhost:8080/"
        },
        "id": "Ltm9xKfQ6f39",
        "outputId": "87226f23-ce5c-4a3b-f8aa-6e3f95a6b7f0"
      },
      "execution_count": null,
      "outputs": [
        {
          "output_type": "stream",
          "name": "stdout",
          "text": [
            "# A tibble: 7 × 2\n",
            "  Year_Corrected Number_of_Claims\n",
            "           <dbl>            <dbl>\n",
            "1           2020             15.9\n",
            "2           2019             14.5\n",
            "3           2018             13.5\n",
            "4           2017             14.9\n",
            "5           2016             12.0\n",
            "6           2015             12.0\n",
            "7           2014             11.6\n"
          ]
        }
      ]
    },
    {
      "cell_type": "markdown",
      "source": [
        "###Supplementary Analysis: Estimate and Plot Expenditure Per Claim"
      ],
      "metadata": {
        "id": "6o_uvDYDk5ms"
      }
    },
    {
      "cell_type": "code",
      "source": [
        "#Create New Variable for Corrected Expenditure Per Claim\n",
        "%%R\n",
        "part_3$ExpendPerClaim<-part_3$Expenditure/part_3$Claims"
      ],
      "metadata": {
        "id": "gPbvvHAahorh"
      },
      "execution_count": null,
      "outputs": []
    },
    {
      "cell_type": "code",
      "source": [
        "%%R\n",
        "boxplot(part_3$ExpendPerClaim ~ part_3$Year_Corrected, ylab=\"Expenditure Per Claim ($)\", xlab=\"\", main=\"Fig. 4 Distribution of Expenditure Per Claims ($)\",outline=FALSE,col=\"brown\",\n",
        "border=\"black\")"
      ],
      "metadata": {
        "colab": {
          "base_uri": "https://localhost:8080/",
          "height": 497
        },
        "id": "d2xZmgUVKz_B",
        "outputId": "5e891612-2963-42dd-aedb-276a678a3089"
      },
      "execution_count": null,
      "outputs": [
        {
          "output_type": "display_data",
          "data": {
            "image/png": "[encoded data removed]"
          },
          "metadata": {}
        }
      ]
    },
    {
      "cell_type": "markdown",
      "source": [
        "### Estimate Expenditure Per Senior (>65 yr) Person"
      ],
      "metadata": {
        "id": "PvbXXTl4GwsR"
      }
    },
    {
      "cell_type": "code",
      "source": [
        "%%R\n",
        "#merge above files on expenditure and popluations \n",
        "# divide the columns\n",
        "expenditure_senior <- rename(expenditure_senior, Year=Year_Corrected)\n",
        "m<-merge(expenditure_senior, population) \n",
        "m$per_cap_exp<-m$Cumltv_Expenditure/m$Population\n",
        "m"
      ],
      "metadata": {
        "colab": {
          "base_uri": "https://localhost:8080/"
        },
        "id": "W4Vbi2BIG7mE",
        "outputId": "52a1fbbd-aea8-4b71-8a37-6ba7e9783722"
      },
      "execution_count": null,
      "outputs": [
        {
          "output_type": "stream",
          "name": "stdout",
          "text": [
            "  Year Cumltv_Expenditure Population per_cap_exp\n",
            "1 2014          439758149     668001    658.3196\n",
            "2 2015          473274585     695765    680.2219\n",
            "3 2016          454889875     726176    626.4182\n",
            "4 2017          492560559     760057    648.0574\n",
            "5 2018          503086146     795605    632.3316\n",
            "6 2019          547513732     832894    657.3630\n",
            "7 2020          530537334     869567    610.1167\n"
          ]
        }
      ]
    },
    {
      "cell_type": "code",
      "source": [
        "%%R\n",
        "q<-ggplot(m, aes(x=Year, y=per_cap_exp,)) + \n",
        "    geom_col(stat=\"identity\")+ ggtitle(\" Fig.6 Senior's Per Capita Expenditure ($/person)\") + xlab(\"\") + ylab(\"Expenditre ($ )\")\n",
        "q"
      ],
      "metadata": {
        "colab": {
          "base_uri": "https://localhost:8080/",
          "height": 497
        },
        "id": "vHjRTA9iSK6i",
        "outputId": "2a302166-62f1-4bac-8878-9ee009ae5c3c"
      },
      "execution_count": null,
      "outputs": [
        {
          "output_type": "display_data",
          "data": {
            "image/png": "[encoded data removed]"
          },
          "metadata": {}
        }
      ]
    },
    {
      "cell_type": "code",
      "source": [
        "%%R\n",
        "write.csv(part_3,\"drive/MyDrive/part_3.csv\", row.names = FALSE)"
      ],
      "metadata": {
        "id": "i5PtCfBjW_9d"
      },
      "execution_count": null,
      "outputs": []
    }
  ]
}